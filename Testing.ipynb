{
 "cells": [
  {
   "cell_type": "markdown",
   "metadata": {
    "id": "bMBmIaxkioWr"
   },
   "source": [
    "## Step 1: Preprocessing Data\n",
    "\n"
   ]
  },
  {
   "cell_type": "markdown",
   "metadata": {
    "id": "G_3mc3NMiv4b"
   },
   "source": [
    "### Step 1.1: Move to the right directory"
   ]
  },
  {
   "cell_type": "code",
   "execution_count": null,
   "metadata": {
    "colab": {
     "base_uri": "https://localhost:8080/"
    },
    "id": "TlWGRk76Dlga",
    "outputId": "fc48d986-5dad-450d-8045-34a4062d864b"
   },
   "outputs": [
    {
     "name": "stdout",
     "output_type": "stream",
     "text": [
      "[nltk_data] Downloading package punkt to /root/nltk_data...\n",
      "[nltk_data]   Unzipping tokenizers/punkt.zip.\n"
     ]
    },
    {
     "data": {
      "text/plain": [
       "True"
      ]
     },
     "execution_count": 2,
     "metadata": {},
     "output_type": "execute_result"
    }
   ],
   "source": [
    "import os, re\n",
    "import pandas as pd\n",
    "import numpy as np\n",
    "from sklearn.model_selection import train_test_split\n",
    "import torch\n",
    "from argparse import Namespace\n",
    "import nltk\n",
    "import glob\n",
    "from collections import defaultdict\n",
    "nltk.download('punkt')"
   ]
  },
  {
   "cell_type": "markdown",
   "metadata": {
    "id": "dV7WhKhQadbQ"
   },
   "source": [
    "## Rouge Evaluation"
   ]
  },
  {
   "cell_type": "markdown",
   "metadata": {
    "id": "9b9GRHL38QTy"
   },
   "source": [
    "Generate New Reference Trailer"
   ]
  },
  {
   "cell_type": "code",
   "execution_count": null,
   "metadata": {
    "id": "4ifq9DPXyRdc"
   },
   "outputs": [],
   "source": [
    "joker_files = glob.glob(\"./PreSumm/split_corpus/test_Joker_*.txt\")\n",
    "new_reference_trailer = []\n",
    "for file in joker_files:\n",
    "  lines = open(file).readlines()\n",
    "  new_reference_trailer.extend([line for line in lines if \"@highlight\" in line])"
   ]
  },
  {
   "cell_type": "code",
   "execution_count": null,
   "metadata": {
    "id": "ED03OQaRksXo"
   },
   "outputs": [],
   "source": [
    "for movie in movie_names:\n",
    "  print(movie)"
   ]
  },
  {
   "cell_type": "code",
   "execution_count": null,
   "metadata": {
    "colab": {
     "base_uri": "https://localhost:8080/"
    },
    "id": "dTPD5vY0-J3F",
    "outputId": "3f3ad036-e7d5-4e70-a1da-2e20dc035878"
   },
   "outputs": [
    {
     "data": {
      "text/plain": [
       "{'rouge-1': {'f': 0.07887323943661972, 'p': 0.04590163934426229, 'r': 0.28},\n",
       " 'rouge-2': {'f': 0.039660056657223795,\n",
       "  'p': 0.023026315789473683,\n",
       "  'r': 0.14285714285714285},\n",
       " 'rouge-4': {'f': 0.022922636103151865,\n",
       "  'p': 0.013245033112582781,\n",
       "  'r': 0.0851063829787234},\n",
       " 'rouge-l': {'f': 0.07887323943661972, 'p': 0.04590163934426229, 'r': 0.28},\n",
       " 'rouge-s4': {'f': 0.02521489971346705,\n",
       "  'p': 0.01456953642384106,\n",
       "  'r': 0.09361702127659574},\n",
       " 'rouge-su4': {'f': 0.034318398474737846,\n",
       "  'p': 0.019845644983461964,\n",
       "  'r': 0.1267605633802817},\n",
       " 'rouge-w-1.2': {'f': 0.05440732550946698,\n",
       "  'p': 0.0340523820160018,\n",
       "  'r': 0.13525879526081125}}"
      ]
     },
     "execution_count": 6,
     "metadata": {},
     "output_type": "execute_result"
    }
   ],
   "source": [
    "from rouge_metric import PyRouge\n",
    "import random\n",
    "rouge = PyRouge(rouge_n=(1, 2, 4), rouge_l=True, rouge_w=True,\n",
    "                rouge_w_weight=1.2, rouge_s=True, rouge_su=True, skip_gap=4)\n",
    "# hypothesis = open(\"./Joker_summary.txt\").readlines()\n",
    "hypothesis = [open(\"./bert-extractive-summarization/Joker_summary.txt\").read()]\n",
    "# references = open(\"./corpus_raw/DC/trailer_time/Joker.txt\").readlines()\n",
    "references = [[''.join(new_reference_trailer)]]\n",
    "n = min(len(hypothesis), len(references))\n",
    "scores = rouge.evaluate(hypothesis, references)\n",
    "scores"
   ]
  },
  {
   "cell_type": "code",
   "execution_count": null,
   "metadata": {
    "id": "7dG0CDlq4aak"
   },
   "outputs": [],
   "source": [
    "os.chdir('./stanford-corenlp-4.3.1/')"
   ]
  },
  {
   "cell_type": "code",
   "execution_count": null,
   "metadata": {
    "id": "1jdnop1Pbfhy"
   },
   "outputs": [],
   "source": [
    "%mkdir ./new_trailer_test"
   ]
  },
  {
   "cell_type": "code",
   "execution_count": null,
   "metadata": {
    "id": "VIBIWHNx0Ct2"
   },
   "outputs": [],
   "source": [
    "%cd ../bert-extractive-summarization\n",
    "from models.model_builder import ExtSummarizer\n",
    "from ext_sum import summarize\n",
    "import torch\n",
    "model_type = 'distilbert' #@param ['bertbase', 'distilbert', 'mobilebert']\n",
    "checkpoint = torch.load(\"../stanford-corenlp-4.3.1/models/model_step_5000.pt\", map_location='cpu')[\"model\"]\n",
    "model = ExtSummarizer(checkpoint=checkpoint, bert_type=model_type, device=\"cpu\")\n",
    "\n",
    "\n",
    "# with open(\"../PreSumm/split_corpus/test_Batman Begins_0.txt\", \"w\") as f:\n",
    "#   f.write(processed_text)\n",
    "\n"
   ]
  },
  {
   "cell_type": "code",
   "execution_count": null,
   "metadata": {
    "id": "yKzObsuY5J-r"
   },
   "outputs": [],
   "source": [
    "path ='../PreSumm/split_corpus/test_Ant-Man_0.txt'"
   ]
  },
  {
   "cell_type": "code",
   "execution_count": null,
   "metadata": {
    "id": "MS-GCvHD3sXQ"
   },
   "outputs": [],
   "source": [
    "summary = summarize(path, result_fp, model, max_length=4)"
   ]
  },
  {
   "cell_type": "code",
   "execution_count": null,
   "metadata": {
    "colab": {
     "base_uri": "https://localhost:8080/",
     "height": 35
    },
    "id": "fwUGbygx5Mn7",
    "outputId": "da9d7343-0e1d-411c-ab14-b7171b9f4555"
   },
   "outputs": [
    {
     "data": {
      "application/vnd.google.colaboratory.intrinsic+json": {
       "type": "string"
      },
      "text/plain": [
       "\"Ant-Man 0 Stark! 66 The Pym Particle is a miracle.\\nAnt-Man 0 Stark! 66 The Pym Particle is a miracle. Please. 69 Don't let your past determine the future.\""
      ]
     },
     "execution_count": 71,
     "metadata": {},
     "output_type": "execute_result"
    }
   ],
   "source": [
    "summary"
   ]
  },
  {
   "cell_type": "code",
   "execution_count": null,
   "metadata": {
    "colab": {
     "base_uri": "https://localhost:8080/"
    },
    "id": "verdgr5R4nEH",
    "outputId": "cbb57467-3572-4e30-85fe-e646abf06266"
   },
   "outputs": [
    {
     "data": {
      "text/plain": [
       "['Ant-Man 0 Stark! 66 The Pym Particle is a miracle.',\n",
       " \"Ant-Man 0 Stark! 66 The Pym Particle is a miracle. Please. 69 Don't let your past determine the future.\"]"
      ]
     },
     "execution_count": 70,
     "metadata": {},
     "output_type": "execute_result"
    }
   ],
   "source": [
    "summary.splitlines()"
   ]
  },
  {
   "cell_type": "code",
   "execution_count": null,
   "metadata": {
    "colab": {
     "base_uri": "https://localhost:8080/"
    },
    "id": "OAr1cgOz4RtJ",
    "outputId": "e7ffa90b-7254-4fab-e898-f1ead8135453"
   },
   "outputs": [
    {
     "data": {
      "text/plain": [
       "[\"Shazam 754 but you've run from foster homes in six counties, Mr. Batson.\\n\",\n",
       " '758 From good people\\n',\n",
       " '761 who want you, all in pursuit of someone\\n',\n",
       " '764 who arguably does not.\\n',\n",
       " \"767 It's time someone looked you in the eye and told it to you straight.\\n\",\n",
       " \"771 I don't need parents to play make-believe with.\\n\",\n",
       " '774 - I got a mom. - Yes.\\n',\n",
       " \"777 You're some detective.\\n\",\n",
       " '779 Seventy-three Batsons\\n',\n",
       " \"781 between the ages of 28 to 40, and you've crossed out every one.\\n\",\n",
       " \"784 She's still out there. I know it.\\n\",\n",
       " \"796 There's a couple outside, Mr. Batson.\\n\",\n",
       " '799 They run a group home.\\n',\n",
       " '802 I can take care of myself.\\n',\n",
       " \"803 When you're 18.\\n\",\n",
       " \"805 Until then, I won't have you living on the streets,\\n\",\n",
       " '808 looking for someone who never looked for you.\\n',\n",
       " '811 Give these people a chance.\\n',\n",
       " \"814 'Cause that's what they're giving you.\\n\",\n",
       " \"816 You're out of options.\\n\",\n",
       " \"829 I'm gonna skip the spiel.\\n\",\n",
       " '830 Just know that me and Rosa, we get it.\\n',\n",
       " '832 We were foster kids back in the day.\\n',\n",
       " '834 Ooh, back in the Dark Ages.\\n',\n",
       " \"835 Girl, I'm young at heart.\\n\",\n",
       " '838 I got my finger on the pulse.\\n',\n",
       " \"839 Yeah, that's a reference\\n\",\n",
       " \"841 to his blood pressure because he's old.\\n\",\n",
       " '842 Billy, do you have any food allergies?\\n',\n",
       " \"844 Gonna wish you did. Darla's cooking.\\n\",\n",
       " '846 What?\\n',\n",
       " '849 We know how overwhelming it can all be.\\n',\n",
       " '851 New house, new faces.\\n',\n",
       " '853 All up in your face.\\n',\n",
       " '855 Just take it at your own speed.\\n',\n",
       " '867 Hello?\\n',\n",
       " \"873 We're home.\\n\",\n",
       " \"874 That's what happens when you suck!\\n\",\n",
       " '878 So much for the welcome party.\\n',\n",
       " '879 Yeah, that thing growing out of the couch\\n',\n",
       " '881 would be Eugene.\\n',\n",
       " '883 Is that him?\\n',\n",
       " '884 Oh, my gosh! Billy!\\n',\n",
       " '886 Whoa! Slow down, slow down.\\n',\n",
       " '888 Welcome home!\\n',\n",
       " \"889 - And that's Darla. - I'm Darla.\\n\",\n",
       " '891 Big hugger.\\n',\n",
       " '892 I noticed.\\n',\n",
       " '893 Die, die, die!\\n',\n",
       " \"895 He doesn't mean that. It's a game.\\n\",\n",
       " '900 Hey.\\n',\n",
       " '901 No sodas after dark, remember?\\n',\n",
       " '903 Whoa. When did it get dark?\\n',\n",
       " '905 Oh, the poster. I made you one.\\n',\n",
       " '907 Come look! Oh, no!\\n',\n",
       " \"911 Sorry, Pedro must've been working out.\\n\",\n",
       " '913 His goal is to get swole.\\n',\n",
       " '915 Just one hit! Just one hit!\\n',\n",
       " '917 Oh...\\n',\n",
       " '918 Here.']"
      ]
     },
     "execution_count": 41,
     "metadata": {},
     "output_type": "execute_result"
    }
   ],
   "source": [
    "open(path).readlines()"
   ]
  },
  {
   "cell_type": "code",
   "execution_count": null,
   "metadata": {
    "colab": {
     "base_uri": "https://localhost:8080/"
    },
    "id": "8Ka86XIWtahZ",
    "outputId": "806ee4a8-863e-4866-ca7e-a61cd410e087"
   },
   "outputs": [
    {
     "name": "stdout",
     "output_type": "stream",
     "text": [
      "Finished Ant-Man summary 0\n",
      "1 Ant-Man 0 Stark!\n",
      "Finished Ant-Man summary 20\n",
      "1 Ant-Man 4262 That's witchcraft.\n"
     ]
    }
   ],
   "source": [
    "shazam_ant_man_paths = defaultdict(list) \n",
    "for file in glob.glob(\"../PreSumm/split_corpus/test_*\"):\n",
    "  if \"test_Shazam\" in file:\n",
    "    shazam_ant_man_paths[\"Shazam\"].append(file)\n",
    "  elif \"test_Ant\" in file:\n",
    "    shazam_ant_man_paths[\"Ant-Man\"].append(file)\n",
    "shazam_ant_man_paths\n",
    "\n",
    "for test_movie in shazam_ant_man_paths:\n",
    "  movie_paths = shazam_ant_man_paths[test_movie]\n",
    "  i = 0\n",
    "  summary_list = []\n",
    "  length_arr = np.random.choice([0, 1], size=(len(movie_paths),))\n",
    "  for j, path in enumerate(movie_paths):\n",
    "    result_fp = f'./new_trailer_test/{test_movie}_{j}_summary.txt'\n",
    "    if length_arr[j] == 0:\n",
    "      continue\n",
    "    summary = summarize(path, result_fp, model, max_length=1)\n",
    "    if j % 10 == 0:\n",
    "      print(f\"Finished {test_movie} summary {j}\")\n",
    "      print(length_arr[j], summary)\n",
    "    summary_list.append(summary)\n",
    "  full_summary_path = f\"./{test_movie}_summary_{i}.txt\"\n",
    "  with open(full_summary_path, \"w\") as f:\n",
    "    f.writelines(summary_list)"
   ]
  },
  {
   "cell_type": "code",
   "execution_count": null,
   "metadata": {
    "id": "lDfoY87tRRJs"
   },
   "outputs": [],
   "source": [
    "pattern = \".+test_(.+)_\\d+.txt\"\n",
    "test_files = glob.glob(\"../PreSumm/split_corpus/test_*.txt\")\n",
    "movie_names = set([re.match(pattern, path).groups()[0] for path in test_files])"
   ]
  },
  {
   "cell_type": "code",
   "execution_count": null,
   "metadata": {
    "colab": {
     "base_uri": "https://localhost:8080/"
    },
    "id": "TwVlBriJ93eL",
    "outputId": "60589bb1-a8cf-40ed-e9cd-eadd90480e03"
   },
   "outputs": [
    {
     "name": "stdout",
     "output_type": "stream",
     "text": [
      "Joker summarization 26 finished\n",
      "Joker summarization 27 finished\n",
      "Joker summarization 30 finished\n",
      "Joker summarization 32 finished\n",
      "Joker summarization 33 finished\n",
      "Joker summarization 34 finished\n",
      "Joker summarization 35 finished\n",
      "Joker summarization 36 finished\n",
      "Joker summarization 37 finished\n",
      "Joker summarization 38 finished\n",
      "Joker summarization 39 finished\n",
      "Joker summarization 40 finished\n",
      "Joker summarization 41 finished\n",
      "Joker summarization 42 finished\n",
      "Joker summarization 43 finished\n",
      "Joker summarization 44 finished\n",
      "Joker summarization 45 finished\n",
      "Joker summarization 46 finished\n",
      "Joker summarization 48 finished\n",
      "Joker summarization 50 finished\n",
      "Joker summarization 52 finished\n",
      "Thor Ragnarok summarization 0 finished\n",
      "Thor Ragnarok summarization 1 finished\n",
      "Thor Ragnarok summarization 2 finished\n",
      "Thor Ragnarok summarization 3 finished\n",
      "Thor Ragnarok summarization 4 finished\n",
      "Thor Ragnarok summarization 5 finished\n",
      "Thor Ragnarok summarization 6 finished\n",
      "Thor Ragnarok summarization 7 finished\n",
      "Thor Ragnarok summarization 8 finished\n",
      "Thor Ragnarok summarization 9 finished\n",
      "Thor Ragnarok summarization 10 finished\n",
      "Thor Ragnarok summarization 11 finished\n",
      "Thor Ragnarok summarization 12 finished\n",
      "Thor Ragnarok summarization 13 finished\n",
      "Thor Ragnarok summarization 14 finished\n",
      "Thor Ragnarok summarization 15 finished\n",
      "Thor Ragnarok summarization 16 finished\n",
      "Thor Ragnarok summarization 17 finished\n",
      "Thor Ragnarok summarization 18 finished\n",
      "Thor Ragnarok summarization 19 finished\n",
      "Thor Ragnarok summarization 20 finished\n",
      "Thor Ragnarok summarization 21 finished\n",
      "Thor Ragnarok summarization 22 finished\n",
      "Thor Ragnarok summarization 23 finished\n",
      "Thor Ragnarok summarization 24 finished\n",
      "Thor Ragnarok summarization 25 finished\n",
      "Thor Ragnarok summarization 28 finished\n",
      "Thor Ragnarok summarization 29 finished\n",
      "Thor Ragnarok summarization 31 finished\n",
      "Batman Begins summarization 164 finished\n",
      "Batman Begins summarization 165 finished\n",
      "Batman Begins summarization 166 finished\n",
      "Batman Begins summarization 167 finished\n",
      "Batman Begins summarization 168 finished\n",
      "Batman Begins summarization 169 finished\n",
      "Batman Begins summarization 170 finished\n",
      "Batman Begins summarization 171 finished\n",
      "Batman Begins summarization 172 finished\n",
      "Batman Begins summarization 173 finished\n",
      "Batman Begins summarization 174 finished\n",
      "Batman Begins summarization 175 finished\n",
      "Batman Begins summarization 176 finished\n",
      "Batman Begins summarization 177 finished\n",
      "Batman Begins summarization 178 finished\n",
      "Batman Begins summarization 179 finished\n",
      "Batman Begins summarization 180 finished\n",
      "Batman Begins summarization 181 finished\n",
      "Batman Begins summarization 182 finished\n",
      "Batman Begins summarization 183 finished\n",
      "Batman Begins summarization 184 finished\n",
      "Batman Begins summarization 185 finished\n",
      "Batman Begins summarization 186 finished\n",
      "Batman Begins summarization 187 finished\n",
      "Batman Begins summarization 189 finished\n",
      "Batman Begins summarization 190 finished\n",
      "Batman Begins summarization 192 finished\n",
      "X-Men Days of Future Past summarization 188 finished\n",
      "X-Men Days of Future Past summarization 191 finished\n",
      "X-Men Days of Future Past summarization 193 finished\n",
      "X-Men Days of Future Past summarization 194 finished\n",
      "X-Men Days of Future Past summarization 195 finished\n",
      "X-Men Days of Future Past summarization 196 finished\n",
      "X-Men Days of Future Past summarization 197 finished\n",
      "X-Men Days of Future Past summarization 198 finished\n",
      "X-Men Days of Future Past summarization 199 finished\n",
      "X-Men Days of Future Past summarization 200 finished\n",
      "X-Men Days of Future Past summarization 201 finished\n",
      "X-Men Days of Future Past summarization 202 finished\n",
      "X-Men Days of Future Past summarization 203 finished\n",
      "X-Men Days of Future Past summarization 204 finished\n",
      "X-Men Days of Future Past summarization 205 finished\n",
      "X-Men Days of Future Past summarization 206 finished\n",
      "X-Men Days of Future Past summarization 207 finished\n",
      "X-Men Days of Future Past summarization 208 finished\n",
      "X-Men Days of Future Past summarization 209 finished\n",
      "X-Men Days of Future Past summarization 211 finished\n",
      "Wonder Woman summarization 79 finished\n",
      "Wonder Woman summarization 81 finished\n",
      "Wonder Woman summarization 82 finished\n",
      "Wonder Woman summarization 83 finished\n",
      "Wonder Woman summarization 84 finished\n",
      "Wonder Woman summarization 85 finished\n",
      "Wonder Woman summarization 86 finished\n",
      "Wonder Woman summarization 87 finished\n",
      "Wonder Woman summarization 88 finished\n",
      "Wonder Woman summarization 89 finished\n",
      "Wonder Woman summarization 90 finished\n",
      "Wonder Woman summarization 91 finished\n",
      "Wonder Woman summarization 92 finished\n",
      "Wonder Woman summarization 93 finished\n",
      "Wonder Woman summarization 94 finished\n",
      "Wonder Woman summarization 95 finished\n",
      "Wonder Woman summarization 96 finished\n",
      "Wonder Woman summarization 97 finished\n",
      "Wonder Woman summarization 98 finished\n",
      "Wonder Woman summarization 99 finished\n",
      "Wonder Woman summarization 100 finished\n",
      "Wonder Woman summarization 101 finished\n",
      "Wonder Woman summarization 102 finished\n",
      "Wonder Woman summarization 103 finished\n",
      "Wonder Woman summarization 105 finished\n",
      "Shazam summarization 47 finished\n",
      "Shazam summarization 49 finished\n",
      "Shazam summarization 51 finished\n",
      "Shazam summarization 53 finished\n",
      "Shazam summarization 54 finished\n",
      "Shazam summarization 55 finished\n",
      "Shazam summarization 56 finished\n",
      "Shazam summarization 57 finished\n",
      "Shazam summarization 58 finished\n",
      "Shazam summarization 59 finished\n",
      "Shazam summarization 60 finished\n",
      "Shazam summarization 61 finished\n",
      "Shazam summarization 62 finished\n",
      "Shazam summarization 63 finished\n",
      "Shazam summarization 64 finished\n",
      "Shazam summarization 65 finished\n",
      "Shazam summarization 66 finished\n",
      "Shazam summarization 67 finished\n",
      "Shazam summarization 68 finished\n",
      "Shazam summarization 69 finished\n",
      "Shazam summarization 70 finished\n",
      "Shazam summarization 71 finished\n",
      "Shazam summarization 72 finished\n",
      "Shazam summarization 73 finished\n",
      "Shazam summarization 74 finished\n",
      "Shazam summarization 75 finished\n",
      "Shazam summarization 76 finished\n",
      "Shazam summarization 77 finished\n",
      "Shazam summarization 78 finished\n",
      "Shazam summarization 80 finished\n",
      "Ant-Man summarization 104 finished\n",
      "Ant-Man summarization 106 finished\n",
      "Ant-Man summarization 107 finished\n",
      "Ant-Man summarization 108 finished\n",
      "Ant-Man summarization 109 finished\n",
      "Ant-Man summarization 110 finished\n",
      "Ant-Man summarization 111 finished\n",
      "Ant-Man summarization 112 finished\n",
      "Ant-Man summarization 113 finished\n",
      "Ant-Man summarization 114 finished\n",
      "Ant-Man summarization 115 finished\n",
      "Ant-Man summarization 116 finished\n",
      "Ant-Man summarization 117 finished\n",
      "Ant-Man summarization 118 finished\n",
      "Ant-Man summarization 119 finished\n",
      "Ant-Man summarization 120 finished\n",
      "Ant-Man summarization 121 finished\n",
      "Ant-Man summarization 122 finished\n",
      "Ant-Man summarization 123 finished\n",
      "Ant-Man summarization 124 finished\n",
      "Ant-Man summarization 125 finished\n",
      "Ant-Man summarization 126 finished\n",
      "Ant-Man summarization 127 finished\n",
      "Ant-Man summarization 128 finished\n",
      "Ant-Man summarization 129 finished\n",
      "Ant-Man summarization 130 finished\n",
      "Ant-Man summarization 132 finished\n",
      "Ant-Man summarization 137 finished\n",
      "Watchmen summarization 210 finished\n",
      "Watchmen summarization 212 finished\n",
      "Watchmen summarization 213 finished\n",
      "Watchmen summarization 214 finished\n",
      "Watchmen summarization 215 finished\n",
      "Watchmen summarization 216 finished\n",
      "Watchmen summarization 217 finished\n",
      "Watchmen summarization 218 finished\n",
      "Watchmen summarization 219 finished\n",
      "Watchmen summarization 220 finished\n",
      "Watchmen summarization 221 finished\n",
      "Watchmen summarization 222 finished\n",
      "Watchmen summarization 223 finished\n",
      "Watchmen summarization 224 finished\n",
      "Watchmen summarization 225 finished\n",
      "Watchmen summarization 226 finished\n",
      "Watchmen summarization 227 finished\n",
      "Watchmen summarization 228 finished\n",
      "Watchmen summarization 229 finished\n",
      "Watchmen summarization 230 finished\n",
      "Watchmen summarization 231 finished\n",
      "Watchmen summarization 232 finished\n",
      "Watchmen summarization 233 finished\n",
      "Watchmen summarization 234 finished\n",
      "Watchmen summarization 235 finished\n",
      "Watchmen summarization 236 finished\n",
      "Watchmen summarization 237 finished\n",
      "Watchmen summarization 238 finished\n",
      "Watchmen summarization 239 finished\n",
      "Watchmen summarization 240 finished\n",
      "Watchmen summarization 241 finished\n",
      "Watchmen summarization 242 finished\n",
      "Watchmen summarization 243 finished\n",
      "Watchmen summarization 244 finished\n",
      "Watchmen summarization 245 finished\n",
      "Watchmen summarization 246 finished\n",
      "Watchmen summarization 247 finished\n",
      "Watchmen summarization 248 finished\n",
      "Watchmen summarization 249 finished\n",
      "Watchmen summarization 250 finished\n",
      "Watchmen summarization 251 finished\n",
      "Constantine summarization 252 finished\n",
      "Constantine summarization 253 finished\n",
      "Constantine summarization 254 finished\n",
      "Constantine summarization 255 finished\n",
      "Constantine summarization 256 finished\n",
      "Constantine summarization 257 finished\n",
      "Constantine summarization 258 finished\n",
      "Constantine summarization 259 finished\n",
      "Constantine summarization 260 finished\n",
      "Constantine summarization 261 finished\n",
      "Constantine summarization 262 finished\n",
      "Constantine summarization 263 finished\n",
      "Constantine summarization 264 finished\n",
      "Constantine summarization 265 finished\n",
      "Constantine summarization 266 finished\n",
      "Constantine summarization 267 finished\n",
      "Avengers Age of Ultron summarization 131 finished\n",
      "Avengers Age of Ultron summarization 133 finished\n",
      "Avengers Age of Ultron summarization 134 finished\n",
      "Avengers Age of Ultron summarization 135 finished\n",
      "Avengers Age of Ultron summarization 136 finished\n",
      "Avengers Age of Ultron summarization 138 finished\n",
      "Avengers Age of Ultron summarization 139 finished\n",
      "Avengers Age of Ultron summarization 140 finished\n",
      "Avengers Age of Ultron summarization 141 finished\n",
      "Avengers Age of Ultron summarization 142 finished\n",
      "Avengers Age of Ultron summarization 143 finished\n",
      "Avengers Age of Ultron summarization 144 finished\n",
      "Avengers Age of Ultron summarization 145 finished\n",
      "Avengers Age of Ultron summarization 146 finished\n",
      "Avengers Age of Ultron summarization 147 finished\n",
      "Avengers Age of Ultron summarization 148 finished\n",
      "Avengers Age of Ultron summarization 149 finished\n",
      "Avengers Age of Ultron summarization 150 finished\n",
      "Avengers Age of Ultron summarization 151 finished\n",
      "Avengers Age of Ultron summarization 152 finished\n",
      "Avengers Age of Ultron summarization 153 finished\n",
      "Avengers Age of Ultron summarization 154 finished\n",
      "Avengers Age of Ultron summarization 155 finished\n",
      "Avengers Age of Ultron summarization 156 finished\n",
      "Avengers Age of Ultron summarization 157 finished\n",
      "Avengers Age of Ultron summarization 158 finished\n",
      "Avengers Age of Ultron summarization 159 finished\n",
      "Avengers Age of Ultron summarization 160 finished\n",
      "Avengers Age of Ultron summarization 161 finished\n",
      "Avengers Age of Ultron summarization 162 finished\n",
      "Avengers Age of Ultron summarization 163 finished\n"
     ]
    }
   ],
   "source": [
    "\n",
    "for movie in movie_names:\n",
    "  for i, file_path in enumerate(test_files):\n",
    "    if movie in file_path:\n",
    "      input_fp = file_path\n",
    "      result_fp = f'{movie}_summary{i}.txt'\n",
    "      summary = summarize(input_fp, result_fp, model, max_length=1)\n",
    "      print(f\"{movie} summarization {i} finished\")"
   ]
  },
  {
   "cell_type": "code",
   "execution_count": null,
   "metadata": {
    "colab": {
     "base_uri": "https://localhost:8080/"
    },
    "id": "5g1FqtseQsUi",
    "outputId": "d4ad976b-eaef-4123-844b-b1424d2775f8"
   },
   "outputs": [
    {
     "data": {
      "text/plain": [
       "defaultdict(list,\n",
       "            {'Ant-Man': ['Ant-Man 0 Stark!\\n',\n",
       "              'Ant-Man 332 Thank you.\\n',\n",
       "              'Ant-Man 218 Oh, yeah.\\n',\n",
       "              'Ant-Man 738 I am proud to present the end of warfare as we know it.\\n',\n",
       "              'Ant-Man 487 No, no, no.\\n',\n",
       "              \"Ant-Man 916 I didn't know what time your party started.\\n\",\n",
       "              \"Ant-Man 1516 Well, here's the thing.\\n\",\n",
       "              \"Ant-Man 2020 I'm starting to think that you prefer the inside of a jail cell.\\n\",\n",
       "              \"Ant-Man 1239 It's the wrong details.\\n\",\n",
       "              'Ant-Man 1020 Get an apartment, 1022 get a job, pay child support.\\n',\n",
       "              'Ant-Man 2257 Yank up to go up.\\n',\n",
       "              \"Ant-Man 2430 which, judging by the fact that you're sitting opposite me, 2433 I take it that you're interested in.\\n\",\n",
       "              'Ant-Man 2592 So he conspired against me and he voted me out of my own company.\\n',\n",
       "              \"Ant-Man 2795 Hank, I'm a thief, all right?\\n\",\n",
       "              'Ant-Man 2994 I was in prison for three years.\\n',\n",
       "              'Ant-Man 3155 retrieve the suit, and exit the vaults before the backup power comes on.\\n',\n",
       "              \"Ant-Man 3358 I mean, it's why I'm in the suit and you're not.\\n\",\n",
       "              'Ant-Man 3688 We need it to counteract the transmission blockers 3690 that Cross installed in the Futures vault.\\n',\n",
       "              'Ant-Man 3885 You seem like a really great guy.\\n',\n",
       "              \"Ant-Man 4139 He's tripling security.\\n\",\n",
       "              \"Ant-Man 4262 That's witchcraft.\\n\",\n",
       "              \"Ant-Man 4850 And I'm enjoying myself.\\n\",\n",
       "              'Ant-Man 4529 Yes!\\n',\n",
       "              'Ant-Man 5830 - Back it up, slow.\\n',\n",
       "              \"Ant-Man 5074 They don't run on diesel.\\n\",\n",
       "              'Ant-Man 5342 And neither are you.\\n',\n",
       "              \"Ant-Man 6202 It's amazing.\\n\",\n",
       "              'Ant-Man 6361 - Luis.\\n'],\n",
       "             'Avengers Age of Ultron': ['Avengers Age of Ultron 0 Report to your stations immediately.\\n',\n",
       "              'Avengers Age of Ultron 550 Yeah, I got something bigger.\\n',\n",
       "              \"Avengers Age of Ultron 1029 What's the rumpus?\\n\",\n",
       "              \"Avengers Age of Ultron 271 You didn't see that coming?\\n\",\n",
       "              'Avengers Age of Ultron 1172 it needs Ultron.\\n',\n",
       "              'Avengers Age of Ultron 1554 But never say never.\\n',\n",
       "              \"Avengers Age of Ultron 1394 Yes, I'm not even sure what country Jane's in.\\n\",\n",
       "              \"Avengers Age of Ultron 1714 You're all not worthy.\\n\",\n",
       "              'Avengers Age of Ultron 1966 He didn\\'t say \"dead.\"\\n',\n",
       "              'Avengers Age of Ultron 871 Wanda and Pietro Maximoff.\\n',\n",
       "              \"Avengers Age of Ultron 2117 And I'd like to find him before he's ready for us.\\n\",\n",
       "              'Avengers Age of Ultron 2302 sits there in the rubble.\\n',\n",
       "              'Avengers Age of Ultron 3050 See where your power leads.\\n',\n",
       "              \"Avengers Age of Ultron 3527 - How's the team?\\n\",\n",
       "              'Avengers Age of Ultron 2466 with some of their trade goods... 2468 I thought your father said he got the last of it.\\n',\n",
       "              \"Avengers Age of Ultron 2713 It's a thing with me.\\n\",\n",
       "              'Avengers Age of Ultron 4321 So, what did they say?\\n',\n",
       "              'Avengers Age of Ultron 4181 Was she ever not working for you?\\n',\n",
       "              'Avengers Age of Ultron 3751 These, uh, kids.\\n',\n",
       "              'Avengers Age of Ultron 3988 I want you to understand that, um... 3990 Natasha, 3992 where can I go?\\n',\n",
       "              'Avengers Age of Ultron 4471 You mind if I borrow Ms Hill?\\n',\n",
       "              \"Avengers Age of Ultron 4701  4704 They'll understand.\\n\",\n",
       "              \"Avengers Age of Ultron 5056 Please, don't do this.\\n\",\n",
       "              \"Avengers Age of Ultron 5274 We can create Ultron's perfect self 5276 without the homicidal glitches he thinks are his winning personality.\\n\",\n",
       "              \"Avengers Age of Ultron 5786 If even one tin soldier is left standing, we've lost.\\n\",\n",
       "              'Avengers Age of Ultron 5596 - You helped create this?\\n',\n",
       "              'Avengers Age of Ultron 6827 Rhodey, get the rest of the people on board that carrier.\\n',\n",
       "              'Avengers Age of Ultron 5980  5985  5990 Go!\\n',\n",
       "              'Avengers Age of Ultron 6326 Because the city is flying.\\n',\n",
       "              \"Avengers Age of Ultron 6595 - If Stark finds a way to blow this rock... -Not till everyone's safe.\\n\",\n",
       "              'Avengers Age of Ultron 7106 We were in the market.\\n'],\n",
       "             'Batman Begins': ['Batman Begins 0 - Can I see?\\n',\n",
       "              'Batman Begins 1039 BRUCE: Who is he?\\n',\n",
       "              'Batman Begins 660 I leave the running of our company to much better men.\\n',\n",
       "              'Batman Begins 284 ...you may find what you were looking for in the first place.\\n',\n",
       "              'Batman Begins 1241 This house, Master Wayne, has sheltered six generations of your family.\\n',\n",
       "              \"Batman Begins @highlight 2215 Ra's Al Ghul rescued us from the darkest corners of our own hearts.\\n\",\n",
       "              \"Batman Begins 1868  I'm not a criminal.\\n\",\n",
       "              \"Batman Begins 1440 ...but that don't change what I did.\\n\",\n",
       "              \"Batman Begins 1671 I came to show you that not everyone in Gotham's afraid of you.\\n\",\n",
       "              'Batman Begins 2551 - Dr. Crane.\\n',\n",
       "              'Batman Begins 2840 BRUCE: Good morning.\\n',\n",
       "              'Batman Begins 3001 - Bulletproof?\\n',\n",
       "              'Batman Begins 3291 OFFICER: What the hell was that?\\n',\n",
       "              'Batman Begins 3469 The next 10,000 will be up to specifications.\\n',\n",
       "              'Batman Begins 3937 Okay.\\n',\n",
       "              'Batman Begins 4320 So when did the nut take over the nut house?\\n',\n",
       "              'Batman Begins 4593 MAN: Better torch the whole place.\\n',\n",
       "              'Batman Begins 4133 And a straitjacket to pin it on.\\n',\n",
       "              \"Batman Begins 4849 You're going to Arkham now?\\n\",\n",
       "              'Batman Begins 5099 This is where we make the medicine.\\n',\n",
       "              'Batman Begins 5501 BATMAN: How is she?\\n',\n",
       "              'Batman Begins 5871 - What are they?\\n',\n",
       "              'Batman Begins 6067 How long would it take to manufacture on a large scale?\\n',\n",
       "              'Batman Begins 6263 So Crane was working for you.\\n',\n",
       "              'Batman Begins 6734 ...time to spread the word.\\n',\n",
       "              'Batman Begins 7118 DUCARD: Gentlemen.\\n',\n",
       "              'Batman Begins 6443 ...you simply walk up behind them and stab them in the heart.\\n'],\n",
       "             'Constantine': ['Constantine 0 MANUEL.\\n',\n",
       "              'Constantine 1017 WHAT IS IT, EXACTLY, WITH YOU AND BUGS?\\n',\n",
       "              'Constantine 589 TWO WEEKS SINCE MY LAST CONFESSION.\\n',\n",
       "              'Constantine 1222 YOU MIGHT CONSIDER GIVING ME AN EXTENSION.\\n',\n",
       "              \"Constantine 1629 I KNOW WHERE YOU'RE GOING, JOHN.\\n\",\n",
       "              'Constantine 1833 NOW... 1837 I NEED TO USE THE CHAIR.\\n',\n",
       "              \"Constantine 2112 WHERE SHE'D BE RIPPED APART OVER AND OVER IN SCREAMING, BRUTAL AGONY... 2117 FOR ALL ETERNITY.\\n\",\n",
       "              'Constantine 2432 WHY.\\n',\n",
       "              'Constantine 3306 WHAT DID SHE DO, ANGELA?\\n',\n",
       "              'Constantine 3074 I GUESS GOD HAS A PLAN FOR ALL OF US.\\n',\n",
       "              \"Constantine 3624 YOU ALREADY KNEW THAT, DIDN'T YOU?\\n\",\n",
       "              \"Constantine 4008 ALWAYS KNOWN THAT IT WASN'T LUCK.\\n\",\n",
       "              \"Constantine 4472 JESUS DIDN'T DIE FROM BEING NAILED TO A CROSS.\\n\",\n",
       "              'Constantine 4871 WELL, THEY DID NOT LEAVE HER UNGUARDED.\\n',\n",
       "              \"Constantine 6000 HE'S IN THE OTHER ROOM.\\n\",\n",
       "              'Constantine 5573 YOU JUDGING ME NOW, JOHN?\\n'],\n",
       "             'Joker': ['Joker 5965 When we spoke earlier, 5967 you mentioned that this look is not a political statement.\\n',\n",
       "              \"Joker 660 He's a busy man.\\n\",\n",
       "              'Joker 147 Stop them!\\n',\n",
       "              'Joker 0 The news never ends.\\n',\n",
       "              \"Joker 821 I've been the man of the house for as long as I can remember.\\n\",\n",
       "              \"Joker 1063 they think you're a freak, but I like you.\\n\",\n",
       "              'Joker 1686 â\\x99ª If you\\'re happy and you know it â\\x99ª 1688 â\\x99ª Stomp your feet â\\x99ª 1689 â\\x99ª Stomp your feet â\\x99ª 1691 â\\x99ª If you\\'re happy and you know it â\\x99ª 1693 â\\x99ª Stomp your feet â\\x99ª 1694 â\\x99ª Stomp your feet â\\x99ª 1695 â\\x99ª If you\\'re happy and you know it â\\x99ª 1697 â\\x99ª And you really want to show it â\\x99ª 1699 â\\x99ª If you\\'re happy and you know it â\\x99ª @highlight 1702 â\\x99ª Stomp your feet â\\x99ª 1704 â\\x99ª If you\\'re happy and you know it â\\x99ª 1706 â\\x99ª Shout \"hurray\" â\\x99ª 1708 â\\x99ª Shout \"hurray\" â\\x99ª 1709 â\\x99ª If you\\'re happy and you know it â\\x99ª 1711 â\\x99ª Shout \"hurray\" â\\x99ª 1712 â\\x99ª Shout \"hurray\" â\\x99ª 1714 â\\x99ª If you\\'re happy and you know it â\\x99ª 1716 â\\x99ª And you really want to... â\\x99ª 1717 Hoyt, please, I love this job.\\n',\n",
       "              \"Joker 1381 You know who's not?\\n\",\n",
       "              'Joker 1909 Nothing.\\n',\n",
       "              'Joker 3927 Penny Fleck is my mother.\\n',\n",
       "              'Joker 2548 \"Oh, I have to pay?\\n',\n",
       "              'Joker 3351 Sir, when was the last time you spoke to her?\\n',\n",
       "              'Joker 3581 Check out this joker.\\n',\n",
       "              \"Joker 4122 I'm the show booker from Live with Murray Franklin.\\n\",\n",
       "              \"Joker 2970 He's an extraordinary man, Happy.\\n\",\n",
       "              \"Joker 2339 Gotham's lost its way.\\n\",\n",
       "              \"Joker 4360 I'm sorry, man.\\n\",\n",
       "              \"Joker 5338 I'm not gonna hurt you.\\n\",\n",
       "              'Joker 4980 Thank you so much for having me on the show.\\n',\n",
       "              'Joker 6175 Okay.\\n',\n",
       "              'Joker 5745 gonna go crazy if you put this guy on.\\n',\n",
       "              'Joker 5965 When we spoke earlier, 5967 you mentioned that this look is not a political statement.\\n'],\n",
       "             'Shazam': ['Shazam 470 I called as soon as I saw.\\n',\n",
       "              \"Shazam 0 Thad... 1 I said no toys at Grandfather's.\\n\",\n",
       "              \"Shazam 754 but you've run from foster homes in six counties, Mr. Batson.\\n\",\n",
       "              'Shazam 920 Yes, exactly why your math department is so uniquely suited for me.\\n',\n",
       "              'Shazam 1065 I could kill you in your sleep with that thing.\\n',\n",
       "              'Shazam 1252 The symbols.\\n',\n",
       "              \"Shazam 1498 No, you don't.\\n\",\n",
       "              'Shazam 2029 You, Billy Batson, 2033 are all I have.\\n',\n",
       "              \"Shazam 1720 Don't touch my brother!\\n\",\n",
       "              \"Shazam 2559 just look for the superhero that still can't fly.\\n\",\n",
       "              \"Shazam 2411 I'm right here.\\n\",\n",
       "              'Shazam 2254 Yeah.\\n',\n",
       "              \"Shazam 2882 Darla, it's me.\\n\",\n",
       "              'Shazam 2740 I totally get why Rocky was training so hard to get up here.\\n',\n",
       "              \"Shazam 3020 Ask the ball if you're man enough 3022 to throw me out of this room.\\n\",\n",
       "              'Shazam 3637 Like a castle-esque type thing.\\n',\n",
       "              \"Shazam 3380 that's related to that son I just passed in the hallway.\\n\",\n",
       "              'Shazam 4056 I was!\\n',\n",
       "              'Shazam 4258 Thank you.\\n',\n",
       "              'Shazam 3925 - Oh, my God.\\n',\n",
       "              'Shazam 3759 I mean, what would a good brother do?\\n',\n",
       "              'Shazam 4433 Oh, you did not see that one coming, did you, grandpa?\\n',\n",
       "              \"Shazam 4756 Just don't be so hard on him, okay?\\n\",\n",
       "              'Shazam 4985 Actually, I take that back.\\n',\n",
       "              'Shazam 5292 Kick his ass, Billy!\\n',\n",
       "              'Shazam 5560 Billy, how do we get outta here?\\n',\n",
       "              'Shazam 5766 Shazam!\\n',\n",
       "              'Shazam 6178 Reach for it.\\n',\n",
       "              'Shazam 6645 Oh, crap.\\n',\n",
       "              'Shazam 7007 You guys know what this place is, right?\\n'],\n",
       "             'Thor Ragnarok': ['',\n",
       "              \"Thor Ragnarok 158 Oh, that's a crown.\\n\",\n",
       "              \"Thor Ragnarok 0 Now, I know what you're thinking.\\n\",\n",
       "              'Thor Ragnarok 500 That traitor.\\n',\n",
       "              'Thor Ragnarok 679 A little less weaselly, less greasy, maybe.\\n',\n",
       "              'Thor Ragnarok 825 I mourned you, I cried for you.\\n',\n",
       "              'Thor Ragnarok 1028 My hair is not to be meddled with.\\n',\n",
       "              'Thor Ragnarok 1921 Fine.\\n',\n",
       "              'Thor Ragnarok 2199 Just wait a damn minute.\\n',\n",
       "              'Thor Ragnarok 1353 You must be Hela.\\n',\n",
       "              'Thor Ragnarok 2459 Bit of a promotional disaster, that one.\\n',\n",
       "              'Thor Ragnarok 2348 - Get me out of this one.\\n',\n",
       "              \"Thor Ragnarok 2894 No, I didn't ride the hammer.\\n\",\n",
       "              'Thor Ragnarok 2728 for those that have died... 2730 THOR AND LOKI: ...the glorious death.\\n',\n",
       "              'Thor Ragnarok 3050 Big round of applause 3051 for all of our undercard competitors... 3053 who today died so gruesomely.\\n',\n",
       "              'Thor Ragnarok 3362 Oh!\\n',\n",
       "              'Thor Ragnarok 4875 Then why did you dress me up like Tony?\\n',\n",
       "              \"Thor Ragnarok 4594 Sun's going down.\\n\",\n",
       "              'Thor Ragnarok 4440  4442  4450 No!\\n',\n",
       "              \"Thor Ragnarok 4780 But this time, it's like he had the keys 4782 to the car and I was locked in the trunk.\\n\",\n",
       "              \"Thor Ragnarok 4244 I'm not getting dragged into 4245 another one of Odin's family squabbles.\\n\",\n",
       "              \"Thor Ragnarok 5020 Yeah, it's called the Revengers.\\n\",\n",
       "              'Thor Ragnarok 3851 Ragnarok?\\n',\n",
       "              \"Thor Ragnarok 5299 That's exactly what I was thinking.\\n\",\n",
       "              'Thor Ragnarok 5150 Okay, can I just...  A quick FYI.\\n',\n",
       "              \"Thor Ragnarok 5442 It's just another spaceship.\\n\",\n",
       "              'Thor Ragnarok 4056 - I lost my hammer.\\n',\n",
       "              'Thor Ragnarok 6727 This is madness.\\n',\n",
       "              \"Thor Ragnarok 5855 - and I'll draw her away.\\n\",\n",
       "              'Thor Ragnarok 6303 You see?\\n'],\n",
       "             'Watchmen': ['Watchmen 0 HAVE A GOOD TIME 13 Wrong, as usual.\\n',\n",
       "              \"Watchmen @highlight 705 You'd have to step on the gas just to put a crack in it.\\n\",\n",
       "              \"Watchmen 1005 Oh, don't get me started on him.\\n\",\n",
       "              \"Watchmen 1269 Maybe someone's picking off costumed heroes.\\n\",\n",
       "              'Watchmen 1517 More blood, more blood, more blood.\\n',\n",
       "              \"Watchmen 2388 Mother, it's 2:00 in the afternoon.\\n\",\n",
       "              'Watchmen 1887 The Comedian is dead.\\n',\n",
       "              'Watchmen 1678 I would hope the other Watchmen understand that... 1683 ...wherever they may be.\\n',\n",
       "              'Watchmen 2110 Used to pretend he was a supervillain just so he could get beat up?\\n',\n",
       "              \"Watchmen 2746 You know, you'd think this goddamn country had had enough fireworks.\\n\",\n",
       "              \"Watchmen 3539 That ain't the kind I got.\\n\",\n",
       "              'Watchmen 2950 We can save this world... 2954 -...with the right leadership.\\n',\n",
       "              'Watchmen 3801 Thus sparing me future horrors.\\n',\n",
       "              'Watchmen 3189 What happened to the American dream?\\n',\n",
       "              \"Watchmen 4075 ...to him, it's like walking through mist.\\n\",\n",
       "              \"Watchmen 4522 I'm shaking.\\n\",\n",
       "              'Watchmen 4300 Even in a world without nuclear weapons, there would still be danger.\\n',\n",
       "              \"Watchmen 4862 She's gonna know soon enough.\\n\",\n",
       "              \"Watchmen 5193 Nations around the world reeling from this morning's announcement... 5196 ...possibly the most significant event in recent history.\\n\",\n",
       "              'Watchmen 5675 Who are these assholes to say when doomsday approaches?\\n',\n",
       "              'Watchmen 5470 ...yet their heaven is populated with horrors.\\n',\n",
       "              \"Watchmen 5876 ...and what you've accomplished as captains of industry.\\n\",\n",
       "              \"Watchmen 6104 ...why don't you come stay with me?\\n\",\n",
       "              'Watchmen 6420 ...and identified as Walter Kovacs, a 35-year-old white male.\\n',\n",
       "              'Watchmen 6624 I would know by now.\\n',\n",
       "              'Watchmen 8042 ...afraid of the mask killer... 8047 ...and afraid of this goddamn suit... 8051 ...and how much I need it.\\n',\n",
       "              'Watchmen 6865 I knew the girl was here... 6868 ...but when I searched the place, I saw nothing.\\n',\n",
       "              \"Watchmen 7283 No, don't worry.\\n\",\n",
       "              'Watchmen 9440 If you already know the future, then why were you surprised when I left you?\\n',\n",
       "              \"Watchmen 9710 I'm in.\\n\",\n",
       "              'Watchmen 9996 ...while this collaborator and his pirate masters sneered?\\n',\n",
       "              \"Watchmen 9215 ...and no one complains because they think you're a goddamn lunatic.\\n\",\n",
       "              'Watchmen 7599 Small world.\\n',\n",
       "              'Watchmen 8983 You mean Nite Owl.\\n',\n",
       "              'Watchmen 10227 By a shopping mall?\\n',\n",
       "              \"Watchmen 8548 You didn't get it.\\n\",\n",
       "              'Watchmen 10473 Events with astronomical odds of occurring... 10477 ...like oxygen turning into gold.\\n',\n",
       "              'Watchmen 11050 How had I reached this appalling position with love... 11054 ...only love, as my guide?\\n',\n",
       "              'Watchmen 10842 You used his psych profile to manipulate him.\\n',\n",
       "              'Watchmen 11384 I should thank you.\\n',\n",
       "              'Watchmen 11667 If we hope to preserve it here... 11671 ...we must remain silent.\\n'],\n",
       "             'Wonder Woman': [\"Wonder Woman 588 No, I don't.\\n\",\n",
       "              'Wonder Woman 332 ...and all of history was still a dream... 335 ...the gods ruled the earth.\\n',\n",
       "              'Wonder Woman 0 I used to want to save the world.\\n',\n",
       "              'Wonder Woman 1269 Antiope, hey.\\n',\n",
       "              'Wonder Woman 1508 This work, this... 1516 Get that man!\\n',\n",
       "              'Wonder Woman 1801 What for?\\n',\n",
       "              'Wonder Woman 2184 There is so much... 2186 So much you do not understand.\\n',\n",
       "              'Wonder Woman 2440 ...until death do you apart.\\n',\n",
       "              'Wonder Woman 2885 I am introducing myself.\\n',\n",
       "              'Wonder Woman 2652 As soon as the Kaiser sees the newest weapon... 2655 ...he will not sign the armistice.\\n',\n",
       "              'Wonder Woman 3133 I believe you have something that is the property of Gen. Ludendorff.\\n',\n",
       "              \"Wonder Woman 3641 Oh Sameer, I wouldn't... do that if I were you.\\n\",\n",
       "              'Wonder Woman 3507 - It is not confusing!\\n',\n",
       "              'Wonder Woman 3336 ...working together.\\n',\n",
       "              'Wonder Woman 3808 Gentlemen, sit.\\n',\n",
       "              'Wonder Woman 4268 Because they need to move quick!\\n',\n",
       "              'Wonder Woman 4030 ...meds and ammunition.\\n',\n",
       "              \"Wonder Woman 4532 She's done it!\\n\",\n",
       "              'Wonder Woman 4958 - Why not?\\n',\n",
       "              'Wonder Woman 5178 Yeah, this... and other things.\\n',\n",
       "              \"Wonder Woman 6371 - It's not about deserve!\\n\",\n",
       "              'Wonder Woman 5664 We work well together...\\n',\n",
       "              \"Wonder Woman 5995 I could have saved them if it weren't for you.\\n\",\n",
       "              \"Wonder Woman 5456 - I'm coming with you.\\n\",\n",
       "              'Wonder Woman 6675 Mankind... 6677 ...Stole this world from us.\\n'],\n",
       "             'X-Men Days of Future Past': ['X-Men Days of Future Past 0 The future.\\n',\n",
       "              'X-Men Days of Future Past 673 Tortured her and experimented on her.\\n',\n",
       "              'X-Men Days of Future Past 873 That will be like, last 50 years never happened.\\n',\n",
       "              'X-Men Days of Future Past 1154 Already living among us, then they are living here peacefully.\\n',\n",
       "              \"X-Men Days of Future Past 1367 I'm sorry who are you?\\n\",\n",
       "              'X-Men Days of Future Past 1681 -What?\\n',\n",
       "              \"X-Men Days of Future Past 1852 And I'm gonna say to you what you said to us then, 1857 Fuck off!\\n\",\n",
       "              \"X-Men Days of Future Past 2703 Believe me, I wouldnâ\\x80\\x99t be here if I didn't have to.\\n\",\n",
       "              \"X-Men Days of Future Past 2055 Eric's always had a way with guns.\\n\",\n",
       "              \"X-Men Days of Future Past 3598 We've come for you.\\n\",\n",
       "              \"X-Men Days of Future Past 2331 What's there in for me?\\n\",\n",
       "              'X-Men Days of Future Past 2976 ..experimented on, butchered 2978 Erik.\\n',\n",
       "              \"X-Men Days of Future Past 3340 But now we know where that choice leads, don't we?\\n\",\n",
       "              'X-Men Days of Future Past 4004 Hs was also linked to the Kennedy assassination.\\n',\n",
       "              'X-Men Days of Future Past 4225 I was only doing what I thought necessary to secure our future.\\n',\n",
       "              'X-Men Days of Future Past 4499 And how many of our sons and brothers did we just ship home in body bags?\\n',\n",
       "              'X-Men Days of Future Past 4780 You saw what I did to Cerebro.\\n',\n",
       "              \"X-Men Days of Future Past 5188 The girl I grew up with wasn't capable of killing, 5191 She was good, fair, full of compassion.\\n\",\n",
       "              \"X-Men Days of Future Past 5377 I don't believe that  theory, Hank.\\n\",\n",
       "              'X-Men Days of Future Past 5983 You said that before, 5984 I wanted to make a statement.\\n']})"
      ]
     },
     "execution_count": 30,
     "metadata": {},
     "output_type": "execute_result"
    }
   ],
   "source": [
    "summary_files = glob.glob(\"*_summary*.txt\")\n",
    "movie_summaries = defaultdict(list)\n",
    "\n",
    "for file_name in summary_files:\n",
    "  movie_name = file_name.split('_')[0]\n",
    "  with open(file_name) as f:\n",
    "    movie_summaries[movie_name].append(f.read())\n",
    "\n",
    "movie_summaries"
   ]
  },
  {
   "cell_type": "code",
   "execution_count": null,
   "metadata": {
    "id": "k8M5Q63tVaLo"
   },
   "outputs": [],
   "source": [
    "for movie_name in movie_summaries:\n",
    "  with open(f\"{movie_name}_summary.txt\", \"w\") as f:\n",
    "    line_list = [lines.replace(movie_name, '') for lines in movie_summaries[movie_name]]\n",
    "    f.writelines(line_list)"
   ]
  },
  {
   "cell_type": "markdown",
   "metadata": {
    "id": "iBYtKOLyI4Sg"
   },
   "source": [
    "collate into one file for each movie\n",
    "\n",
    "evaluation metric - after mapping back to original movie text\n",
    "\n",
    "clean up somewhat\n",
    "\n",
    "abstractive model\n",
    "\n",
    "finish cleaning up"
   ]
  },
  {
   "cell_type": "code",
   "execution_count": null,
   "metadata": {
    "id": "ju_zYNnV2gw1"
   },
   "outputs": [],
   "source": [
    "args = Namespace(accum_count=2, alpha=0.6, batch_size=1, beam_size=5, bert_data_path='../PreSumm/split_bert_data/', beta1=0.9, beta2=0.999, block_trigram=True, dec_dropout=0.2, dec_ff_size=2048, dec_heads=8, dec_hidden_size=768, dec_layers=6, enc_dropout=0.2, enc_ff_size=512, enc_hidden_size=512, enc_layers=6, encoder='bert', ext_dropout=0.2, ext_ff_size=2048, ext_heads=8, ext_hidden_size=768, ext_layers=2, finetune_bert=True, generator_shard_size=32, gpu_ranks=[0], label_smoothing=0.1, large=False, load_from_extractive='', log_file='../PreSumm/logs/test_distilbert', lr=1, lr_bert=0.002, lr_dec=0.002, max_grad_norm=0, max_length=150, max_pos=512, max_tgt_len=140, min_length=15, mode='test', model_path='./models/', optim='adam', other_bert='distilbert', param_init=0, param_init_glorot=True, recall_eval=False, report_every=10, report_rouge=False, result_path='./split_extractive_results/', save_checkpoint_steps=5, seed=666, sep_optim=False, share_emb=False, task='ext', temp_dir='../temp', test_all=False, test_batch_size=5, test_from='./models/model_step_5000.pt', test_start_from=-1, train_from='', train_steps=1000, use_bert_emb=False, use_interval=True, visible_gpus='-1', warmup_steps=1, warmup_steps_bert=8000, warmup_steps_dec=8000, world_size=1)\n"
   ]
  },
  {
   "cell_type": "code",
   "execution_count": null,
   "metadata": {
    "colab": {
     "base_uri": "https://localhost:8080/",
     "height": 35
    },
    "id": "cZXtA0nE4D4C",
    "outputId": "80e5749e-accb-4dfa-e0c0-c47b11363ea4"
   },
   "outputs": [
    {
     "data": {
      "application/vnd.google.colaboratory.intrinsic+json": {
       "type": "string"
      },
      "text/plain": [
       "'./models/model_step_5000.pt'"
      ]
     },
     "execution_count": 27,
     "metadata": {},
     "output_type": "execute_result"
    }
   ],
   "source": [
    "args.test_from"
   ]
  },
  {
   "cell_type": "code",
   "execution_count": null,
   "metadata": {
    "colab": {
     "base_uri": "https://localhost:8080/"
    },
    "id": "GV13s5Y-5DxC",
    "outputId": "f484416d-473b-4456-88f5-c045c72204e2"
   },
   "outputs": [
    {
     "data": {
      "text/plain": [
       "odict_keys(['bert.model.embeddings.word_embeddings.weight', 'bert.model.embeddings.position_embeddings.weight', 'bert.model.embeddings.LayerNorm.weight', 'bert.model.embeddings.LayerNorm.bias', 'bert.model.transformer.layer.0.attention.q_lin.weight', 'bert.model.transformer.layer.0.attention.q_lin.bias', 'bert.model.transformer.layer.0.attention.k_lin.weight', 'bert.model.transformer.layer.0.attention.k_lin.bias', 'bert.model.transformer.layer.0.attention.v_lin.weight', 'bert.model.transformer.layer.0.attention.v_lin.bias', 'bert.model.transformer.layer.0.attention.out_lin.weight', 'bert.model.transformer.layer.0.attention.out_lin.bias', 'bert.model.transformer.layer.0.sa_layer_norm.weight', 'bert.model.transformer.layer.0.sa_layer_norm.bias', 'bert.model.transformer.layer.0.ffn.lin1.weight', 'bert.model.transformer.layer.0.ffn.lin1.bias', 'bert.model.transformer.layer.0.ffn.lin2.weight', 'bert.model.transformer.layer.0.ffn.lin2.bias', 'bert.model.transformer.layer.0.output_layer_norm.weight', 'bert.model.transformer.layer.0.output_layer_norm.bias', 'bert.model.transformer.layer.1.attention.q_lin.weight', 'bert.model.transformer.layer.1.attention.q_lin.bias', 'bert.model.transformer.layer.1.attention.k_lin.weight', 'bert.model.transformer.layer.1.attention.k_lin.bias', 'bert.model.transformer.layer.1.attention.v_lin.weight', 'bert.model.transformer.layer.1.attention.v_lin.bias', 'bert.model.transformer.layer.1.attention.out_lin.weight', 'bert.model.transformer.layer.1.attention.out_lin.bias', 'bert.model.transformer.layer.1.sa_layer_norm.weight', 'bert.model.transformer.layer.1.sa_layer_norm.bias', 'bert.model.transformer.layer.1.ffn.lin1.weight', 'bert.model.transformer.layer.1.ffn.lin1.bias', 'bert.model.transformer.layer.1.ffn.lin2.weight', 'bert.model.transformer.layer.1.ffn.lin2.bias', 'bert.model.transformer.layer.1.output_layer_norm.weight', 'bert.model.transformer.layer.1.output_layer_norm.bias', 'bert.model.transformer.layer.2.attention.q_lin.weight', 'bert.model.transformer.layer.2.attention.q_lin.bias', 'bert.model.transformer.layer.2.attention.k_lin.weight', 'bert.model.transformer.layer.2.attention.k_lin.bias', 'bert.model.transformer.layer.2.attention.v_lin.weight', 'bert.model.transformer.layer.2.attention.v_lin.bias', 'bert.model.transformer.layer.2.attention.out_lin.weight', 'bert.model.transformer.layer.2.attention.out_lin.bias', 'bert.model.transformer.layer.2.sa_layer_norm.weight', 'bert.model.transformer.layer.2.sa_layer_norm.bias', 'bert.model.transformer.layer.2.ffn.lin1.weight', 'bert.model.transformer.layer.2.ffn.lin1.bias', 'bert.model.transformer.layer.2.ffn.lin2.weight', 'bert.model.transformer.layer.2.ffn.lin2.bias', 'bert.model.transformer.layer.2.output_layer_norm.weight', 'bert.model.transformer.layer.2.output_layer_norm.bias', 'bert.model.transformer.layer.3.attention.q_lin.weight', 'bert.model.transformer.layer.3.attention.q_lin.bias', 'bert.model.transformer.layer.3.attention.k_lin.weight', 'bert.model.transformer.layer.3.attention.k_lin.bias', 'bert.model.transformer.layer.3.attention.v_lin.weight', 'bert.model.transformer.layer.3.attention.v_lin.bias', 'bert.model.transformer.layer.3.attention.out_lin.weight', 'bert.model.transformer.layer.3.attention.out_lin.bias', 'bert.model.transformer.layer.3.sa_layer_norm.weight', 'bert.model.transformer.layer.3.sa_layer_norm.bias', 'bert.model.transformer.layer.3.ffn.lin1.weight', 'bert.model.transformer.layer.3.ffn.lin1.bias', 'bert.model.transformer.layer.3.ffn.lin2.weight', 'bert.model.transformer.layer.3.ffn.lin2.bias', 'bert.model.transformer.layer.3.output_layer_norm.weight', 'bert.model.transformer.layer.3.output_layer_norm.bias', 'bert.model.transformer.layer.4.attention.q_lin.weight', 'bert.model.transformer.layer.4.attention.q_lin.bias', 'bert.model.transformer.layer.4.attention.k_lin.weight', 'bert.model.transformer.layer.4.attention.k_lin.bias', 'bert.model.transformer.layer.4.attention.v_lin.weight', 'bert.model.transformer.layer.4.attention.v_lin.bias', 'bert.model.transformer.layer.4.attention.out_lin.weight', 'bert.model.transformer.layer.4.attention.out_lin.bias', 'bert.model.transformer.layer.4.sa_layer_norm.weight', 'bert.model.transformer.layer.4.sa_layer_norm.bias', 'bert.model.transformer.layer.4.ffn.lin1.weight', 'bert.model.transformer.layer.4.ffn.lin1.bias', 'bert.model.transformer.layer.4.ffn.lin2.weight', 'bert.model.transformer.layer.4.ffn.lin2.bias', 'bert.model.transformer.layer.4.output_layer_norm.weight', 'bert.model.transformer.layer.4.output_layer_norm.bias', 'bert.model.transformer.layer.5.attention.q_lin.weight', 'bert.model.transformer.layer.5.attention.q_lin.bias', 'bert.model.transformer.layer.5.attention.k_lin.weight', 'bert.model.transformer.layer.5.attention.k_lin.bias', 'bert.model.transformer.layer.5.attention.v_lin.weight', 'bert.model.transformer.layer.5.attention.v_lin.bias', 'bert.model.transformer.layer.5.attention.out_lin.weight', 'bert.model.transformer.layer.5.attention.out_lin.bias', 'bert.model.transformer.layer.5.sa_layer_norm.weight', 'bert.model.transformer.layer.5.sa_layer_norm.bias', 'bert.model.transformer.layer.5.ffn.lin1.weight', 'bert.model.transformer.layer.5.ffn.lin1.bias', 'bert.model.transformer.layer.5.ffn.lin2.weight', 'bert.model.transformer.layer.5.ffn.lin2.bias', 'bert.model.transformer.layer.5.output_layer_norm.weight', 'bert.model.transformer.layer.5.output_layer_norm.bias', 'ext_layer.pos_emb.pe', 'ext_layer.transformer_inter.0.self_attn.linear_keys.weight', 'ext_layer.transformer_inter.0.self_attn.linear_keys.bias', 'ext_layer.transformer_inter.0.self_attn.linear_values.weight', 'ext_layer.transformer_inter.0.self_attn.linear_values.bias', 'ext_layer.transformer_inter.0.self_attn.linear_query.weight', 'ext_layer.transformer_inter.0.self_attn.linear_query.bias', 'ext_layer.transformer_inter.0.self_attn.final_linear.weight', 'ext_layer.transformer_inter.0.self_attn.final_linear.bias', 'ext_layer.transformer_inter.0.feed_forward.w_1.weight', 'ext_layer.transformer_inter.0.feed_forward.w_1.bias', 'ext_layer.transformer_inter.0.feed_forward.w_2.weight', 'ext_layer.transformer_inter.0.feed_forward.w_2.bias', 'ext_layer.transformer_inter.0.feed_forward.layer_norm.weight', 'ext_layer.transformer_inter.0.feed_forward.layer_norm.bias', 'ext_layer.transformer_inter.0.layer_norm.weight', 'ext_layer.transformer_inter.0.layer_norm.bias', 'ext_layer.transformer_inter.1.self_attn.linear_keys.weight', 'ext_layer.transformer_inter.1.self_attn.linear_keys.bias', 'ext_layer.transformer_inter.1.self_attn.linear_values.weight', 'ext_layer.transformer_inter.1.self_attn.linear_values.bias', 'ext_layer.transformer_inter.1.self_attn.linear_query.weight', 'ext_layer.transformer_inter.1.self_attn.linear_query.bias', 'ext_layer.transformer_inter.1.self_attn.final_linear.weight', 'ext_layer.transformer_inter.1.self_attn.final_linear.bias', 'ext_layer.transformer_inter.1.feed_forward.w_1.weight', 'ext_layer.transformer_inter.1.feed_forward.w_1.bias', 'ext_layer.transformer_inter.1.feed_forward.w_2.weight', 'ext_layer.transformer_inter.1.feed_forward.w_2.bias', 'ext_layer.transformer_inter.1.feed_forward.layer_norm.weight', 'ext_layer.transformer_inter.1.feed_forward.layer_norm.bias', 'ext_layer.transformer_inter.1.layer_norm.weight', 'ext_layer.transformer_inter.1.layer_norm.bias', 'ext_layer.layer_norm.weight', 'ext_layer.layer_norm.bias', 'ext_layer.wo.weight', 'ext_layer.wo.bias'])"
      ]
     },
     "execution_count": 37,
     "metadata": {},
     "output_type": "execute_result"
    }
   ],
   "source": [
    "checkpoint[\"model\"].keys()"
   ]
  },
  {
   "cell_type": "code",
   "execution_count": null,
   "metadata": {
    "id": "wAErri6FfIGo"
   },
   "outputs": [],
   "source": [
    "dataset = torch.load(\"../PreSumm/split_bert_data/.test.0.bert.pt\")"
   ]
  },
  {
   "cell_type": "code",
   "execution_count": null,
   "metadata": {
    "colab": {
     "base_uri": "https://localhost:8080/",
     "height": 35
    },
    "id": "bA-ABMV83Ur6",
    "outputId": "ed433bd3-fcef-4109-bb6d-7773084c0306"
   },
   "outputs": [
    {
     "data": {
      "application/vnd.google.colaboratory.intrinsic+json": {
       "type": "string"
      },
      "text/plain": [
       "'thorragnarok679alittlelessweaselly,lessgreasy,maybe.'"
      ]
     },
     "execution_count": 7,
     "metadata": {},
     "output_type": "execute_result"
    }
   ],
   "source": [
    "dataset[0][\"movie_name\"]"
   ]
  },
  {
   "cell_type": "code",
   "execution_count": null,
   "metadata": {
    "colab": {
     "base_uri": "https://localhost:8080/"
    },
    "id": "BeBm5usx3Uf_",
    "outputId": "4225c270-bb73-4733-a18e-d74b19a21adf"
   },
   "outputs": [
    {
     "data": {
      "text/plain": [
       "dict_keys(['src', 'tgt', 'src_sent_labels', 'segs', 'clss', 'src_txt', 'tgt_txt', 'movie_name'])"
      ]
     },
     "execution_count": 28,
     "metadata": {},
     "output_type": "execute_result"
    }
   ],
   "source": [
    "dataset[0].keys()"
   ]
  },
  {
   "cell_type": "code",
   "execution_count": null,
   "metadata": {
    "colab": {
     "base_uri": "https://localhost:8080/",
     "height": 35
    },
    "id": "ogWIEZ5E06jp",
    "outputId": "5a2c1bbe-fa49-4f98-980d-e1c94c09a0b7"
   },
   "outputs": [
    {
     "data": {
      "application/vnd.google.colaboratory.intrinsic+json": {
       "type": "string"
      },
      "text/plain": [
       "'thorragnarok'"
      ]
     },
     "execution_count": 27,
     "metadata": {},
     "output_type": "execute_result"
    }
   ],
   "source": [
    "test = \"thorragnarok679alittlelessweaselly,lessgreasy,maybe.\"\n",
    "re.split('\\d+', test)[0]"
   ]
  },
  {
   "cell_type": "code",
   "execution_count": null,
   "metadata": {
    "colab": {
     "base_uri": "https://localhost:8080/",
     "height": 893
    },
    "id": "-34vaFwgw1Bn",
    "outputId": "a5c5ca72-1d70-4f9d-8d37-f25fcc892a69"
   },
   "outputs": [
    {
     "data": {
      "text/html": [
       "<div>\n",
       "<style scoped>\n",
       "    .dataframe tbody tr th:only-of-type {\n",
       "        vertical-align: middle;\n",
       "    }\n",
       "\n",
       "    .dataframe tbody tr th {\n",
       "        vertical-align: top;\n",
       "    }\n",
       "\n",
       "    .dataframe thead th {\n",
       "        text-align: right;\n",
       "    }\n",
       "</style>\n",
       "<table border=\"1\" class=\"dataframe\">\n",
       "  <thead>\n",
       "    <tr style=\"text-align: right;\">\n",
       "      <th></th>\n",
       "      <th>label</th>\n",
       "      <th>movie</th>\n",
       "      <th>corpus_movie</th>\n",
       "      <th>corpus_trailer</th>\n",
       "      <th>num_sentence_movie</th>\n",
       "      <th>num_sentence_trailer</th>\n",
       "      <th>num_words_movie</th>\n",
       "      <th>num_words_trailer</th>\n",
       "      <th>num_letters_movie</th>\n",
       "      <th>num_letters_trailer</th>\n",
       "      <th>merged_corpus</th>\n",
       "    </tr>\n",
       "  </thead>\n",
       "  <tbody>\n",
       "    <tr>\n",
       "      <th>0</th>\n",
       "      <td>Marvel</td>\n",
       "      <td>Avengers Infinity War</td>\n",
       "      <td>['This is the Asgardian', 'refugee vessel Stat...</td>\n",
       "      <td>['imagine a soldier the size of an insect', 't...</td>\n",
       "      <td>1723</td>\n",
       "      <td>26</td>\n",
       "      <td>9093</td>\n",
       "      <td>189</td>\n",
       "      <td>47892</td>\n",
       "      <td>926</td>\n",
       "      <td>['This is the Asgardian', 'refugee vessel Stat...</td>\n",
       "    </tr>\n",
       "    <tr>\n",
       "      <th>1</th>\n",
       "      <td>Marvel</td>\n",
       "      <td>Ant-Man and The Wasp</td>\n",
       "      <td>['I still think about the night', 'your mother...</td>\n",
       "      <td>['So, how long have you been Ant-Man again?', ...</td>\n",
       "      <td>1929</td>\n",
       "      <td>24</td>\n",
       "      <td>10302</td>\n",
       "      <td>183</td>\n",
       "      <td>54559</td>\n",
       "      <td>935</td>\n",
       "      <td>['I still think about the night', 'your mother...</td>\n",
       "    </tr>\n",
       "    <tr>\n",
       "      <th>2</th>\n",
       "      <td>Marvel</td>\n",
       "      <td>Ant-Man</td>\n",
       "      <td>['Stark!', \"He doesn't seem happy.\", 'Hello, H...</td>\n",
       "      <td>['There are two types of', 'and those who do n...</td>\n",
       "      <td>1553</td>\n",
       "      <td>5</td>\n",
       "      <td>9528</td>\n",
       "      <td>31</td>\n",
       "      <td>50467</td>\n",
       "      <td>132</td>\n",
       "      <td>['Stark!', \"He doesn't seem happy.\", 'Hello, H...</td>\n",
       "    </tr>\n",
       "    <tr>\n",
       "      <th>3</th>\n",
       "      <td>Marvel</td>\n",
       "      <td>Avengers Age of Ultron</td>\n",
       "      <td>['Report to your stations immediately.', 'This...</td>\n",
       "      <td>[\"I'm gonna show you something beautfiul\", 'Yo...</td>\n",
       "      <td>1902</td>\n",
       "      <td>9</td>\n",
       "      <td>10602</td>\n",
       "      <td>68</td>\n",
       "      <td>56711</td>\n",
       "      <td>323</td>\n",
       "      <td>['Report to your stations immediately.', 'This...</td>\n",
       "    </tr>\n",
       "    <tr>\n",
       "      <th>4</th>\n",
       "      <td>Marvel</td>\n",
       "      <td>Avengers Endgame</td>\n",
       "      <td>[\"Okay, hold on, don't shoot.\", \"- You see whe...</td>\n",
       "      <td>['Oh No yeah hey go man no prob', 'star-lord w...</td>\n",
       "      <td>2160</td>\n",
       "      <td>23</td>\n",
       "      <td>11946</td>\n",
       "      <td>155</td>\n",
       "      <td>62876</td>\n",
       "      <td>847</td>\n",
       "      <td>[\"Okay, hold on, don't shoot.\", \"- You see whe...</td>\n",
       "    </tr>\n",
       "  </tbody>\n",
       "</table>\n",
       "</div>"
      ],
      "text/plain": [
       "    label  ...                                      merged_corpus\n",
       "0  Marvel  ...  ['This is the Asgardian', 'refugee vessel Stat...\n",
       "1  Marvel  ...  ['I still think about the night', 'your mother...\n",
       "2  Marvel  ...  ['Stark!', \"He doesn't seem happy.\", 'Hello, H...\n",
       "3  Marvel  ...  ['Report to your stations immediately.', 'This...\n",
       "4  Marvel  ...  [\"Okay, hold on, don't shoot.\", \"- You see whe...\n",
       "\n",
       "[5 rows x 11 columns]"
      ]
     },
     "metadata": {},
     "output_type": "display_data"
    },
    {
     "data": {
      "text/html": [
       "<div>\n",
       "<style scoped>\n",
       "    .dataframe tbody tr th:only-of-type {\n",
       "        vertical-align: middle;\n",
       "    }\n",
       "\n",
       "    .dataframe tbody tr th {\n",
       "        vertical-align: top;\n",
       "    }\n",
       "\n",
       "    .dataframe thead th {\n",
       "        text-align: right;\n",
       "    }\n",
       "</style>\n",
       "<table border=\"1\" class=\"dataframe\">\n",
       "  <thead>\n",
       "    <tr style=\"text-align: right;\">\n",
       "      <th></th>\n",
       "      <th>label</th>\n",
       "      <th>movie</th>\n",
       "      <th>corpus_movie</th>\n",
       "      <th>corpus_trailer</th>\n",
       "      <th>num_sentence_movie</th>\n",
       "      <th>num_sentence_trailer</th>\n",
       "      <th>num_words_movie</th>\n",
       "      <th>num_words_trailer</th>\n",
       "      <th>num_letters_movie</th>\n",
       "      <th>num_letters_trailer</th>\n",
       "      <th>merged_corpus</th>\n",
       "    </tr>\n",
       "  </thead>\n",
       "  <tbody>\n",
       "    <tr>\n",
       "      <th>44</th>\n",
       "      <td>DC</td>\n",
       "      <td>The Dark Knight</td>\n",
       "      <td>[\"Three of a kind, let's do this. That's it? T...</td>\n",
       "      <td>[\"He's in prison for putting Superman\", 'in th...</td>\n",
       "      <td>1826</td>\n",
       "      <td>39</td>\n",
       "      <td>13254</td>\n",
       "      <td>253</td>\n",
       "      <td>71327</td>\n",
       "      <td>1283</td>\n",
       "      <td>[\"Three of a kind, let's do this. That's it? T...</td>\n",
       "    </tr>\n",
       "    <tr>\n",
       "      <th>45</th>\n",
       "      <td>DC</td>\n",
       "      <td>Watchmen</td>\n",
       "      <td>['HAVE A GOOD TIME', 'Wrong, as usual.', \"The ...</td>\n",
       "      <td>[\"don't do the circles please this mark\", 'wil...</td>\n",
       "      <td>2212</td>\n",
       "      <td>24</td>\n",
       "      <td>14317</td>\n",
       "      <td>178</td>\n",
       "      <td>81105</td>\n",
       "      <td>899</td>\n",
       "      <td>['HAVE A GOOD TIME', 'Wrong, as usual.', \"The ...</td>\n",
       "    </tr>\n",
       "    <tr>\n",
       "      <th>46</th>\n",
       "      <td>DC</td>\n",
       "      <td>The Dark Knight Rises</td>\n",
       "      <td>['I knew Harvey Dent.', 'I was his friend.', '...</td>\n",
       "      <td>['Arthur does it help they have someone to tal...</td>\n",
       "      <td>1777</td>\n",
       "      <td>12</td>\n",
       "      <td>12609</td>\n",
       "      <td>106</td>\n",
       "      <td>67521</td>\n",
       "      <td>521</td>\n",
       "      <td>['I knew Harvey Dent.', 'I was his friend.', '...</td>\n",
       "    </tr>\n",
       "    <tr>\n",
       "      <th>47</th>\n",
       "      <td>DC</td>\n",
       "      <td>Wonder Woman 1984</td>\n",
       "      <td>[' Some days, my childhood feels so very far a...</td>\n",
       "      <td>[\"you've been gone a long time where did\", \"yo...</td>\n",
       "      <td>1893</td>\n",
       "      <td>20</td>\n",
       "      <td>10132</td>\n",
       "      <td>151</td>\n",
       "      <td>52365</td>\n",
       "      <td>745</td>\n",
       "      <td>[' Some days, my childhood feels so very far a...</td>\n",
       "    </tr>\n",
       "    <tr>\n",
       "      <th>48</th>\n",
       "      <td>DC</td>\n",
       "      <td>Wonder Woman</td>\n",
       "      <td>['I used to want to save the world.', 'This be...</td>\n",
       "      <td>[\"my life hasn't been what you probably\", 'thi...</td>\n",
       "      <td>1547</td>\n",
       "      <td>13</td>\n",
       "      <td>8750</td>\n",
       "      <td>94</td>\n",
       "      <td>46283</td>\n",
       "      <td>448</td>\n",
       "      <td>['I used to want to save the world.', 'This be...</td>\n",
       "    </tr>\n",
       "  </tbody>\n",
       "</table>\n",
       "</div>"
      ],
      "text/plain": [
       "   label  ...                                      merged_corpus\n",
       "44    DC  ...  [\"Three of a kind, let's do this. That's it? T...\n",
       "45    DC  ...  ['HAVE A GOOD TIME', 'Wrong, as usual.', \"The ...\n",
       "46    DC  ...  ['I knew Harvey Dent.', 'I was his friend.', '...\n",
       "47    DC  ...  [' Some days, my childhood feels so very far a...\n",
       "48    DC  ...  ['I used to want to save the world.', 'This be...\n",
       "\n",
       "[5 rows x 11 columns]"
      ]
     },
     "metadata": {},
     "output_type": "display_data"
    },
    {
     "data": {
      "text/plain": [
       "(49, 11)"
      ]
     },
     "metadata": {},
     "output_type": "display_data"
    },
    {
     "name": "stdout",
     "output_type": "stream",
     "text": [
      "Successfully loaded the corpus data!\n"
     ]
    }
   ],
   "source": [
    "def get_corpus(filepath):\n",
    "    movie_df = pd.read_csv(filepath)\n",
    "    display(movie_df.head())\n",
    "    display(movie_df.tail(), movie_df.shape)\n",
    "    return movie_df\n",
    "\n",
    "dataframe = get_corpus(\"corpus_merged.csv\")\n",
    "print(\"Successfully loaded the corpus data!\")"
   ]
  },
  {
   "cell_type": "markdown",
   "metadata": {
    "id": "6IJgDSK6w4Gu"
   },
   "source": [
    "## Preprocessing Data"
   ]
  },
  {
   "cell_type": "code",
   "execution_count": null,
   "metadata": {
    "id": "TofhXVyozTMz"
   },
   "outputs": [],
   "source": [
    "def process_text(text):\n",
    "  processed_text = re.sub(\"\\'(,\\s+)\\'\", '\\n', text)\n",
    "  processed_text = re.sub(\"[\\[\\]]\", '', processed_text)\n",
    "  return processed_text"
   ]
  },
  {
   "cell_type": "code",
   "execution_count": null,
   "metadata": {
    "id": "PZRY0sz4m8eL"
   },
   "outputs": [],
   "source": [
    "os.chdir(\"../PreSumm/src\")"
   ]
  },
  {
   "cell_type": "code",
   "execution_count": null,
   "metadata": {
    "colab": {
     "base_uri": "https://localhost:8080/",
     "height": 195
    },
    "id": "RigOU2xahp79",
    "outputId": "f3e7bfe0-584d-44fe-b85c-3a7d953d0460"
   },
   "outputs": [
    {
     "ename": "NameError",
     "evalue": "ignored",
     "output_type": "error",
     "traceback": [
      "\u001b[0;31m---------------------------------------------------------------------------\u001b[0m",
      "\u001b[0;31mNameError\u001b[0m                                 Traceback (most recent call last)",
      "\u001b[0;32m<ipython-input-36-27e7614b50a6>\u001b[0m in \u001b[0;36m<module>\u001b[0;34m()\u001b[0m\n\u001b[1;32m      1\u001b[0m \u001b[0;32mfrom\u001b[0m \u001b[0mmodels\u001b[0m\u001b[0;34m.\u001b[0m\u001b[0mmodel_builder\u001b[0m \u001b[0;32mimport\u001b[0m \u001b[0mExtSummarizer\u001b[0m\u001b[0;34m\u001b[0m\u001b[0;34m\u001b[0m\u001b[0m\n\u001b[0;32m----> 2\u001b[0;31m \u001b[0mmodel\u001b[0m \u001b[0;34m=\u001b[0m \u001b[0mExtSummarizer\u001b[0m\u001b[0;34m(\u001b[0m\u001b[0margs\u001b[0m\u001b[0;34m,\u001b[0m \u001b[0mdevice\u001b[0m\u001b[0;34m,\u001b[0m \u001b[0mcheckpoint\u001b[0m\u001b[0;34m)\u001b[0m\u001b[0;34m\u001b[0m\u001b[0;34m\u001b[0m\u001b[0m\n\u001b[0m\u001b[1;32m      3\u001b[0m \u001b[0mmodel\u001b[0m\u001b[0;34m.\u001b[0m\u001b[0meval\u001b[0m\u001b[0;34m(\u001b[0m\u001b[0;34m)\u001b[0m\u001b[0;34m\u001b[0m\u001b[0;34m\u001b[0m\u001b[0m\n",
      "\u001b[0;31mNameError\u001b[0m: name 'args' is not defined"
     ]
    }
   ],
   "source": [
    "from models.model_builder import ExtSummarizer\n",
    "model = ExtSummarizer(args, device, checkpoint)\n",
    "model.eval()"
   ]
  },
  {
   "cell_type": "code",
   "execution_count": null,
   "metadata": {
    "colab": {
     "base_uri": "https://localhost:8080/"
    },
    "id": "PvG4xLeG5p3G",
    "outputId": "2fb9c1f7-cffa-4873-ef8c-9a90d86ef5b9"
   },
   "outputs": [
    {
     "name": "stdout",
     "output_type": "stream",
     "text": [
      "1706 wait ! 1710 he 's mine . 1711 so if you want him , you go through me . 1714 but we 've already got him . 1718 all right , then . i guess i go through you . 1721 - - more food . 1728 1732 1738 1745 1749 1751 1754 1757 - - thank you . 1761 1792 1794 scrapper 142 . i need clearance and an audience with the boss . 1798 i 've got something special . 1800 hey ! where are you taking me ? 1804 answer me ! 1806 hey ! 1807 i am thor , son of odin . i need to get back to asgard . 1811 - many apologies , your majesty . - 1813 1841 it 's come to my attention that you do n't know who i am . 1852 i am hela , odin 's firstborn ... 1856 the commander of the legions of asgard ... 1858 the rightful heir to the throne , 1860 and the goddess of death . 1866 my father is dead . 1869 as are the princes . you 're welcome . 1872 we were once the seat 1873 of absolute power in the cosmos . 1875 our supremacy was unchallenged . 1878 yet odin stopped at nine realms . 1881 our destiny is to rule over all others . 1885 and i am here to restore that power . 1890 kneel before me ... 1891 and rise into the ranks of my great conquest . 1897 whoever you are ... 1899 whatever you 've done , surrender now ! 1902 or we will show you no mercy . 1904 whoever i am ? 1906 did you listen to a word i said ? 1909 this is your last warning ! 1913 i thought you 'd be happy to see me . 1918\n",
      "722 the protector of those nine realms ... 724 are sitting here in your bathrobe , 726 eating grapes . 727 yes , it is best to respect our neighbors ' freedom . 729 yes , of course , the freedom to be massacred . 734 yes , besides i 've been rather busy myself . 736 watching theater . 737 board meetings , and security council meetings ... 739 you 're really gon na make me do it ? 741 do what ? 744 746 you know that nothing will stop mjolnir<q>750 not even your face . 751 you 've gone quite mad . you 'll be executed for this . 754 then i 'll see you on the other side , brother . 758 all right , i yield .<q>769 behold ! 771 thor ... 773 - odinson . - no. 776 you had one job . just the one . 780 where 's odin ? 782 you just could n't stay away , could you ? 783 everything was fine without you . 786 asgard was prospering . you 've ruined everything . 789 - ask them . - where 's father ? 790 - did you kill him ? - you had what you wanted . 792 you had the independence you asked for . 793 whoa , whoa , whoa ! 794 okay . i know exactly where he is . 802 808 i swear i left him right here . 812 right here on the sidewalk , 813 or right there where the building is being demolished ? 815 great planning . 816 how was i supposed to know ? 817 ca n't see into the future . i 'm not a witch . 819 no ? then why do you dress like one ? 821 - hey . - i ca n't believe you 're alive . 823 i saw you die .\n",
      "i do n't want to hurt you ! 3271 - - here we go . 3274 3292 what ? 3296 3303 hey , big guy . 3307 the sun 's getting real low . 3309 3315 3320 that 's it . the sun 's going down . 3325 i wo n't hurt you anymore . 3327 no one will . 3332 3333 3339 3341 yes ! that 's how it feels ! 3343 3344 i 'm just a huge fan of the sport . 3346 3348 3350 3354 all right . screw it . 3358\n",
      "2882 i really wish i had my hammer . 2884 hammer ? 2885 quite unique . it was made from this 2887 special metal from the heart of a dying star . 2889 and when i spun it really , really fast , 2891 it gave me the ability to fly . 2892 you rode a hammer ?\n",
      "508 that 's a federal offense , kid . you ca n't do that ! 510 do not go in that car . 512 come on , open the door . please . 513 please , come on . 517 open this , right now ! 521 very good , very funny . 523 very funny . that 's great . that 's hilarious . 529 uh , dispatch , we need backup at the laurelwood shopping center , please . 534 dispatch , cancel that request . 535 some kid stole our walkie - talkies . 538 walkie - talkies ? how old are you ? 546 no , no , no. 548 that 's my lunch , kid ! 554 miss batson ... 556 i 've been looking for you . 558 no . gosh . 562 it 's me . it 's billy . 572 okay . 578 i want the tiger . 580 i know , honey , i know . but mom 's not exactly going pro here . 586 we got one ! 591 but i wanted a tiger . 593 oh , but this is the real prize , baby . see ? 597 you can use that your whole life . 598 you 'll always find your way . 621 i ca n't let the ball get away . 632 mom ? 639 mom ! 647 mom ! 650 hey . 652 who are you with , bud ? 655 yeah , he says it 's billy batson . 659 hey , do n't worry , kid . 660 i 'm sure she 'll come looking before too long , okay ? 663 they always do . 672 mom , i 'm home . 709 yes ? 711 yeah , uh , is this rachel batson ? 715 who 's asking ? 716 um ... 717 yeah , see , the thing is ...<q>726 you sure about that ? 730 sorry to bother you . 737 just had to take my lunch , huh ? 740 you save me any fries ? 743 foster home in pittsburgh reported you missing two weeks ago .<q><q>750 they do n't want you . 751 - harsh . - you laugh ,\n",
      "1704 â ™ ª if you 're happy and you know it â ™ ª 1706 â ™ ª shout \" hurray \" â ™ ª 1708 â ™ ª shout \" hurray \" â ™ ª 1709 â ™ ª if you 're happy and you know it â ™ ª 1711 â ™ ª shout \" hurray \" â ™ ª 1712 â ™ ª shout \" hurray \" â ™ ª 1714 â ™ ª if you 're happy and you know it â ™ ª 1716 â ™ ª and you really want to ... â ™ ª 1717 hoyt , please , i love this job . 1721 arthur , i need to know why 1723 you brought a gun into a kids ' hospital . 1726 it 's a prop . it 's part of my act now . 1729 that 's bullshit . bullshit . 1731 what kind of clown carries a fucking gun ? 1734 besides , randall told me 1735 you tried to buy a .38 off him last week . 1738 randall told you that ? 1740 you 're a fuck - up , arthur , and a liar . 1743 you 're fired ! 1770 jefferson street . 1771 next stop , ninth ave. 1776 i 'm telling you , she wanted my number . 1777 we should 've just stayed . 1779 you 're dreaming , man . she was n't interested at all . 1781 are you nuts ? did you see how close we were dancing ? 1784 she was in love . 1785 she could n't wait to get away from you . 1787 ryan ! ryan , am i crazy ? tell him what you saw . 1791 hey , you want some french fries ? 1796 hello ? 1799 talking to you . hey . 1800 no , thank you . 1805 you sure ? 1808 they 're real good . 1812 do n't ignore him . he 's being nice to you . 1816 whoo ... 1842 is something funny , asshole ? 1848 bitch ! 1856 â ™ ª is n't it rich ? â ™ ª 1859 â ™ ª are we a pair ? â ™ ª 1864 â ™ ª me here at last on the ground â ™ ª 1867 â ™ ª and you in mid-air â ™ ª 1870 â ™ ª send in the clowns â ™ ª 1877 â ™ ª is n't it bliss ? â ™ ª 1881 â ™ ª do n't you approve ? â ™ ª 1884 â ™ ª one who keeps tearing around â ™ ª 1886 â ™ ª and one who ca n't move â ™ ª 1889 â ™ ª where are the clowns ? â ™ ª 1892 â ™ ª there ought to be clowns â ™ ª 1906 so , buddy , tell us , what 's so fucking funny ?\n",
      "724 and now , without further ado , 727 murray franklin . 742 thank you . 745 thank you .<q>750 yeah ! 752 wow . thank you . thank you . 754 thank you .<q>758 - are in gotham now , right ? - yeah .<q>764 you ready for this ? 766 super cats . 771 but in all seriousness , i mean , these rats are ... 773 i love you , murray ! 776 i love you , too . 779 hey , bobby , would you put the lights on ? 781 who is that ? 783 was that you ? you wan na stand up , please ? 785 stand up for me . 787 go ahead . 793 what 's your name ? 795 hi , murray . arthur . 797 - arthur ? - my name 's arthur . 799 oh , okay . well , there 's something special about you , 801 arthur , i could tell . 802 where are you from ? 803 i live right here in the city 805 with my mother . 808 okay , hold on . hold on . 809 there 's nothing funny about that . 811 i lived with my mother before i made it . just me and her . 813 i 'm that kid whose father went out for a pack of cigarettes , 816 and he never came back . 818 aww . 819 i know what that 's like , murray .\n",
      "3265 she was a sick woman . 3266 do n't say that . 3269 just go . 3271 mmm ? 3272 before you make a fool of yourself . 3276 thomas wayne is my father . 3284 he left me . 3287 let go ! let go ! 3315 keep the respirations above 15 . 3317 slow and steady . we got some stairs coming up . 3321 mom ? 3323 what happened ? 3324 - who are you ? - i 'm her son . 3325 - what happened ? - you can probably help us 3327 out inside . we do n't know what happened yet . 3329 - hop in the back of the ambulance . - step . 3331 one more . we got one more lift . 3332 i 'm getting 3333 a little resistance here , michael . 3337 lift . 3344 i 'm right here . 3345 excuse me , sir . 3347 does your mother take any medications ? 3348 - no . - excuse me , 3349 - i could n't hear you . - no .\n",
      "2892 rosa ! 2894 verbally triggered body - manipulation properties ! 2896 you can switch by saying , \" shazam . \" 2901 baby , was that you ? are you okay ? 2903 uh ... 2905 i was screwing in a bulb . 2907 listen to me , darla . you can not tell anybody about this , all right ? 2910 but it 's billy . he 's a hero . 2912 yeah , but if a supervillain finds out that he 's a hero , 2914 that endangers us , okay ? 2915 a hero 's loved ones are the perfect bad guy target . 2918 i mean , is she even good at keeping secrets ? 2920 - moderate . - no. 2921 oh , god . 2922 okay , listen , d , 2924 you can not tell a single soul about this , all right ? please ? 2926 why ? what if it 's people we trust ? 2932 because good sisters do n't tell secrets . 2934 - i 'm a good sister . - yeah , you are . 2937 you know what 'd make you an even better sister ? 2938 is if you fixed the doorknob for us , okay ? 2940 yeah . 2941 - sweet dreams . - sweet dreams . bye . 2943 - see you in the morning . - good night . 2950 hello , sir . how may i help you ? 2952 hi . sir ? 2954 sir , you ca n't go in there . excuse me ! 2956 you can not go in there ! 2963 sorry i 'm late . 2964 thad , this is for board members only . 2966 i 'm aware of that , father . 2972 now , that night in the car . 2976 i swore to you i saw something , but you never believed me . 2981 so much easier to blame me , was n't it ? 2984 and say that if i had n't screamed that night , 2987 you 'd still have your legs . 2990 well , now i have proof . 2995 that 's enough , thad . 2996 dear sid , you think ? 3000 you know , even before the accident , you belittled me . 3004 do n't make me throw you outta here , thad . 3008 you do n't need to make a scene . 3010 oh , brother , 3012 the scene has only just begun . 3017 ask that if you can throw me out . 3019 what ?\n",
      "- saw what ? 1352 doctor , what is all this ? 1354 all these years ... 1358 i was convinced i had the incorrect sequence . 1362 or perhaps the wrong symbols 1366 to open the door . 1369 but on that woman 's alarm clock , 1372 the seven symbols . 1375 the sequence repeated itself seven times . 1382 that 's the difference . 1384 is this some sort of joke ? 1386 it may seem that way to you 1388 because we 're not in actuality studying mass hysteria . 1392 what all these people have seen , 1395 every single one of them , is absolutely real . 1398 an alarm clock malfunctions 1401 and your first thought is it 's proof of a wizard ? 1405 - hmm . - come on , dr. sivana . 1407 you ca n't believe any of this is real . 1422 why , yes . 1430 yes , i do . 1470 i 've been waiting for this moment for so long ... 1475 and now here we are . 1478 you do n't remember me , do you ? 1486 i remember you . 1490 you were a boy . 1491 and now you dare intrude in my kingdom . 1494 do you know what it 's like for a child to be told you 'll never be good enough ?\n",
      "508 the weapon that is strong enough to kill a god .<q>522 the gods gave us many gifts . 525 one day , you 'll know them all . 527 this great tower is where we keep them . 543 the god killer . 548 it 's beautiful . 551 who would wield it ? 555 i pray it will never be called to arms . 558 but only the fiercest among us even could . 561 and that 's not you , diana . 564 you see ? you are safe ... 567 ... and there is nothing you should concern yourself with . 583 you keep doubting yourself , diana . 585 - no , i do n't . - yes . you do .\n",
      "1337 if he dies ... 1339 ... we know nothing about who they are and why they came . 1351 my ... 1354 name is captain steve trevor , pilot , american expeditionary forces . 1359 serial number 8141921 . 1369 assigned to british intelligence . 1373 what the hell is this thing ? 1374 the lasso of hestia compels you to reveal the truth . 1378 but it 's really hot . 1380 it is pointless and painful to resist . 1383 what is your mission ? 1385 whoever you are , you are in more danger than you think . 1389 what is your mission ? 1393 i am a. . . 1399 i am a. . . 1403 i 'm a spy . 1408 i 'm a spy . i 'm a spy . 1413 british intelligence got word ... 1415 ... that the leader of the german army gen. ludendorff . 1418 ... would be visiting a secret military installation in the ottoman empire . 1421 i posed as one of their pilots and flew in with them . 1425 according to our intel , the germans had no troops left ... 1428 ... no money , no munitions of any kind . 1432 but our intel was wrong . the german had the turks building bombs for 'em . 1436 and not just bombs , new weapons . 1438 secret weapons . 1441 invented by ludendorff 's chief psychopath , dr. isabelle maru . 1448 the boys in the trenches called her \" doctor poison \" . 1452 and for good reason . 1482 from what i could tell if dr. maru was able to complete her work , 1486 ... millions more would die . the war would never end . 1489 i was there to observe and report , nothing more ... 1492 ... but , i had to do something . 1504 ... penetrate the mask . which is ... i need more time . 1506 unfortunately dr. , we do not have more time .\n",
      "761 harder . 762 you are stronger than this , diana . 765 again . 784 never let your guard down . 786 you expect the battle to be fair . 788 a battle will never be fair . 804 antiope ! 807 lay still . . 808 you 're bleeding . 810 - i 'm sorry ... - wait , diana . 819 what had i done ? 822 i 'm sorry . 975 where did this fog come from ? 981 there ... go forward . 1000 there he is ! 1001 - the pilot ! i can see him . - he 's there ! 1035 wow . 1039 you are a man . 1045 yeah . i mean ... 1050 do i not look like one ? 1056 where are we ? 1058 themyscira . 1059 what ? 1061 who are you ? 1070 i 'm one of the good guys and those are the bad guys . 1073 what ? 1074 the germans . come on , we need to get out of here . 1076 - the germans ? - diana ! 1079 step away from her . now ! 1083 ready your bows ! 1088 they have guns . right ? 1092 fire ! 1094 come on ! 1193 stay down ! 1233 shield ! 1255 no ! 1257 no ! 1264 no. 1265 no . no . antiope .\n",
      "2878 i did think you 're dead till i got your call , you know ? 2881 he 's been gone for weeks . not a single word . 2884 very unlike him .\n",
      "- thank you very much ! 3921 you should be very proud . 3932 i hope i got niches here . the chief 's expecting us before dark . 3936 chief ? 3939 oh yeah . a smuggler . 3941 very reputable . 3943 a liar , a murderer , and now a smuggler . 3946 lovely . 3948 careful , i might get offended . 3949 i was n't referring to you . 3951 really ? 3952 i wan na recover from pretending to be somebody else . 3955 ... i shot people on your beach , smuggle a notebook . 3957 a liar , murderer and smuggler . you still coming ? 3979 it 's awful . 3981 that 's why we 're here . 4001 the gas will kill everything . 4003 what kind of weapon kills innocents ? 4006 in this war ... 4008 ... every kind . 4015 you were absent at the counsel meeting , general . 4017 i see you are negotiating the terms of the armistice without me . 4020 - on the kaiser 's behalf . - i 'm on your insistence . 4023 we could easily win this war if only you had a little faith . 4026 we do n't . 4028 there are shortages of food ...\n",
      "4927 sort of the last hurrah ... 4929 ... before the germans sign the armistice . 4931 and then the kaiser himself is going to be there . 4934 as well as dr. maru . 4938 actually the gala could be perfect cover . 4939 - captain trevor . - yes sir . 4941 you 're under no circumstances to go anywhere near that ... 4944 ... gala tomorrow night . do you hear me ? 4946 you 'll be jeopardizing everything we 've worked for . 4949 you can not compromise the armistice . 4951 - sir , there will be no armistice ... - steve ! 4952 ... once ludendorff bombs the entire front line . 4955 hold on one second , sir . 4956 we should n't be bothered about setting the peace agreement .\n",
      "326 i do n't do it anymore . i just ... 327 respect . 329 i could n't be happier about it . 330 - really ? - yeah .\n",
      "724 i thought , could it be possible to shrink a person ? 728 could that be done ? 730 well , it 's not a legend anymore . 736 distinguished guests ,\n",
      "761 in which the weapons we use to protect ourselves 764 are undermined by constant surveillance . 767 it 's time to return to a simpler age . 769 one where the powers of freedom can once again operate openly 772 to protect their interests . 774 an all - purpose peace - keeping vessel , 777 the yellowjacket can manage any conflict 779 on the geopolitical landscape 781 completely unseen . 783 efficient in both preventative measures and tactical assault . 787 practical applications include surveillance , 790 industrial sabotage , 793 and the elimination of obstructions on the road to peace . 797 a single yellowjacket 798 offers the user unlimited influence to carry out protective actions . 803 and , one day soon , an army of yellowjackets 806 will create a sustainable environment of well - being around the world . 811 the yellowjacket . 814 so , it 's a suit ? 819 do n't be crude , frank . 821 it 's not a suit , it 's a vessel . 824 what 's the matter ? you 're not impressed ? 826 no , i 'm impressed . i 'm also concerned . 829 imagine what our enemies could do with this tech . 832 we should have a longer conversation about that , frank . 834 i really value your opinion . 837 thank you for coming . hope ? 840 thank you very much , everybody . i will escort you out now . 842 thank you . 847 you seem a bit shocked . 848 darren , there 's a reason that i buried these secrets . 853 so you finally admit it ! 855 we could have done this together , hank . but you ruined that . 860 that 's why you 're the past and i 'm the future . 861 do n't do this . 864 dr. cross ? 867 you sell to me first , 20 % over your asking price , 870 i can have the cash here in two weeks . 872 deal . 882 we have to make our move , hank . 884 how close is he ? 885 he still ca n't shrink a live subject . 888 just give me the suit and let me finish this once and for all . 891 no. 892 i have cross ' complete trust . 894 - it 's too dangerous . - we do n't have a choice . 897 well , that 's not entirely true . 901 i think i found a guy . 904 who ? 910 daddy ! 911 peanut ! oh ! 913 happy birthday ! 915 i 'm so sorry i 'm late .\n",
      "733 735 hey , the lullaby worked better than ever . 739 just was n't expecting a code green . 741 you had n't been there , 742 there would have been double the casualties . 745 my best friend would 've been a treasured memory .<q>750 is n't exactly what i want to hear . 753 how long before you trust me ? 757 it 's not you i do n't trust . 761 thor , report on the hulk . 763 the gates of hel are filled with the screams of his victims . 766 768 but not the screams of the dead , of course . no , no , wounded screams . 771 mainly whimpering , a great deal of complaining 773 and tales of sprained deltoids and gout . 778 hey , banner , dr cho is on her way in from seoul . 781 is it okay if she sets up in your lab ? 782 uh , yeah , she knows her way around . 784 thanks . tell her to prep everything . 786 barton 's gon na need the full treatment . 787 very good , sir . - jarvis , take the wheel . 789 yes , sir . 791 approach vector is locked . 793 feels good , yeah ? 795 i mean , you 've been after this thing since s.h.i.e.l.d. collapsed . 797 not that i have n't enjoyed our little raiding parties , but ... 799 no , but this ... this brings it to a close . 803 as soon as we find out what else this has been used for . 805 i do n't just mean weapons . 806 since when is strucker capable of human enhancement ? 809 banner and i will give it the once over before it goes back to asgard . 811 is that cool with you ? 812 just a few days till the farewell party . 815 you 're staying , right ? 817 yes , yes , of course . a victory should be honoured with revels . 820 yeah , who does n't love revels ? captain ? 822 hopefully this puts an end to the chitauri and hydra . 825 so , yes , revels . 854 861 lab 's all set up , boss . 862 oh , actually , he 's the boss . 864 i just pay for everything and design everything 866 and make everyone look cooler . 868 what 's the word on strucker ? 869 - nato 's got him . - the two enhanced ?\n",
      "1707 negative . 1712 sanitize the work station . bring in subject 35 - c. 1727 why would you lock this up ? 1750 this is so weird . 1784 scotty , what 's up , man ? 1791 i wonder ... what is this ? 1824 the world sure seems different from down here , does n't it , scott ? 1827 what ? who said that ? 1835 luis , down here ! 1838 it 's a trial by fire , scott . or , in this case , 1842 water . 1867 guess you 're tougher than you thought . 1872 oh , i do n't want to see this ! 1874 luis ! 1880 son of a. . . 1958 what the hell ? 1961 not bad for a test drive . 1964 keep the suit . i 'll be in touch . 1966 no ! no ! no , thank you ! 1980 get down on the ground ! 1982 you are under arrest ! 1984 no , i did n't steal anything ! i was returning something i stole . 1986 oh ... 1990 do n't move . 1995 you know , you almost had us convinced 1997 that you were gon na change your ways . 1999 they were really rooting for you . 2003 it 's gon na break their hearts . 2008 - you got a visitor . - who ? 2011 your lawyer . 2013 my lawyer ? 2017 i told you i 'd be in touch , scott .\n",
      "2899 this is going very well . 2903 2911 - - 2912 i 've done the whole mind control thing . 2915 not a fan . 2917 2923 yeah , you better run . 2927 who 's ever standing , we got to move ! 2931 guys ? 2950 again . 2951 you 'll break them . 2953 only the breakable ones . 2955 you 're made of marble . 2957 we 'll celebrate after the graduation ceremony . 2960 what if i fail ? 2966 2967 you never fail . 2970 - - 2985 2991 are you ready for our dance ? 2995 2998 3002 is it him ? 3004 is that the first son of odin ? 3006 - heimdall , your eyes . - oh . 3008 they see everything . 3011 they see you leading us to hel . 3014 - wake up ! - 3016 ( swing music continues playing ) 3018 the war is over , steve . 3021 we can go home . 3024 imagine it . 3034 i can still save you ! 3036 we 're all dead ! can you not see ? 3039 3044 you 're a destroyer , odinson . 3047\n",
      "like a security code . 1704 \" whosoever is carrying thor 's fingerprints \" 1706 is , i think , the literal translation . 1707 yes . it 's a very , very interesting theory . 1711 i have a simpler one .\n",
      "right , bruce ? 753 come on . let 's go . 761 wallets , jewelry . come on , fast . 763 thomas : that 's fine . chill : fast . 764 take it easy . 769 here you go . 773 it 's fine . it 's fine . 777 now just take it and go . 780 - i said , jewelry . thomas : hey ... 782 783 784 martha : thomas ! 786 793 thomas bruce . 798 it 's okay . 802 do n't be afraid . 822 836 is this your father 's ? 839 it 's okay . 842 come here . 847 there you go . 852 it 's okay . 862 loeb : gordon . 871 hey . 873 good news . 876 we got him , son . 899 you 're in excellent hands . 901 we 'll be watching the empire . 903 when you grow up , it 'll be waiting for you . 922 i thought i might prepare a little supper . 930 - very well . - alfred ? 936 - yes , master bruce ? - it was my fault , alfred . 938 - i made them leave the theater . - no. 940 - if i had n't gotten scared ... - it was nothing that you did . 944 it was him , and him alone . 948 do you understand ? 953 i miss them , alfred . i miss them so much . 956 so do i , master bruce . 960 so do i. 964 ducard : and do you still feel responsible for your parents ' death ? 967 my anger outweighs my guilt . 970 come . 976 you have learned to bury your guilt with anger . 978 i will teach you to confront it and to face the truth . 984 you know how to fight six men . we can teach you how to engage 600 . 990 you know how to disappear . 992 we can teach you to become truly invisible . 996 invisible ? 998 1002 the ninja understands that invisibility is a matter of patience and agility . 1007 1019 always mind your surroundings . 1024 ninjitsu employs explosive powders . 1028 - as weapons ? - or distractions . 1030 theatricality and deception are powerful agents . 1033 you must become more than just a man in the mind of your opponent . 1037 ( man speaking foreign language )\n",
      "1337 old habits die hard , i guess . 1338 - never used to stop us anyway . - no , it did n't . 1341 how 's your mom ? 1343 she misses this place . 1347 so do i. 1349 yeah . 1350 but it 's nothing without the people who made it what it was . 1354 - now there 's only alfred . - and you . 1357 - i 'm not staying , rachel . - you 're just back for the hearing . 1364 bruce , i do n't suppose there 's any way to convince you not to come . 1369 someone at this proceeding ... 1373 ... should stand for my parents . 1375 we all loved your parents , bruce . 1377 - what chill did is unforgivable . - then why is your boss letting him go ? 1382 in prison , he shared a cell with carmine falcone . 1385 he learned things , and he will testify in exchange for early parole . 1389 rachel , this man killed my parents . 1394 i can not let that pass . 1396 and i need you to understand that , please . 1400 okay . 1403 finch : the depression hit working people , like mr. chill , hardest of all . 1406 his crime was appalling , yes , but it was motivated not by greed ... 1410 ... but by desperation . 1412 given the 14 years served , as well as his extraordinary level of cooperation ... 1416 ... with one of this office 's most important investigations ... 1418 ... we strongly endorse his petition for early release . 1423 faden : mr. chill ? 1428 chill : your honor ... 1431 ... not a day goes by that i do n't wish i could take back what i did . 1437 sure , i was desperate , like a lot of people back then ...\n",
      "3923 the world just saw the hulk . 3927 the real hulk , for the first time . 3932 - you know i have to leave . - you assume that i have to stay ? 3937 i had this , um , dream . 3940 the kind that seems normal at the time , 3943 but when you wake ... 3944 what did you dream ? 3947 that i was an avenger . 3951 that i was anything more 3952 than the assassin they made me . 3956 i think you 're being hard on yourself . 3960 here i was hoping that was your job . 3966 what are you doing ? 3969 i 'm running with it . 3972 with you . 3974 if running is the plan , 3978 as far as you want . 3981 are you out of your mind ?\n",
      "541 professor . 542 you made it . 555 whenever the sentinels attack 557 warpath spots them . 558 and i sent bishop back to warn us of the attack ... 561 before it happens . 563 blink scouts the next side and . . 565 . . well then we leave before they ever know we were there . 568 because we never were . 571 what do you mean you 've never there ? 573 she projects bishop back in time few days ... 575 to warn the others of the coming attack . 578 she sends bishop back in time ? 580 no , just his consciousness , in to his younger - self 583 into his younger body . 585 wow ! 587 this not just work , charles . 591 what might works ? 593 the sentinel program was originally conceived by dr. bolivar trask . 598 in the early 70s he was one of the world leading weapons designers . 602 but , covertly he had began experimenting only mutants . 607 using their gifts to fuel his own research . 611 there was one mutant who had discovered what he was doing . 615 mutant with ability to transform herself to anyone . 621 mystique . 623 i knew her as raven . 625 we met when we were children , grow up together . 630 she was like a sister to me . 632 i tried to help her . 634 but only succeeded in driving her away . 638 she hunted trask across the world . 641 and at the paris peace of accords in 1973 after the vietnam war . 647 she found trask , 651 and killed him . 659 it was the first time she killed him . 661 was n't no last . 662 but killing trask did not have the outcome she expected . 666 it only persuaded the government the need for his program . 671 they captured her that day .\n",
      "bang ! 1709 people from your world ... 1711 ... have so much to lose . 1714 now , you think because your mommy and your daddy got shot ... 1718 ... you know about the ugly side of life , but you do n't . 1721 you 've never tasted desperate . 1724 you 're ... you 're bruce wayne , the prince of gotham . 1726 you 'd have to go 1000 miles to meet someone who did n't know your name . 1730 so do n't come here with your anger , trying to prove something to yourself . 1734 this is a world you 'll never understand . 1737 and you always fear ... 1739 ... what you do n't understand . 1744 all right . 1753 yeah , you got spirit , kid . i 'll give you that . 1756 more than your old man anyway . 1758 in the joint , chill told me about the night he killed your parents . 1763 he said your father begged for mercy . 1766 begged . 1768 like a dog . 1783 should 've tipped better . 1794 - for what ? - your jacket . 1797 okay . 1799 hey , hey , hey . let me have it . it 's a nice coat . 1803 be careful who sees you with that . 1806 - they 're gon na come looking for me . - who ? 1808 bruce : everyone . 1812 it 's ... 1814 it 's a nice coat . 1834 ducard : when you lived among the criminals , did you start to pity them ? 1839 bruce : the first time i stole so that i would n't starve , yes . 1843 i lost many assumptions about the simple nature of right and wrong . 1850 and when i traveled ... 1852 ... i learned the fear before a crime ... 1855 ... and the thrill of success . 1858 1860 bruce : but i never became one of them . 1863 1865 officer # 2 : fool . what do i care what your name is ? you 're a criminal .\n",
      "751 what if someone can heal as faster as rip apart . 780 okay , spread out . 781 take you position . 797 so i wake up in the my younger body god knows where , then what ? 801 you need to go to my house and find me , 805 convince me all of this . 807 would n't you just be able to read my mind ? 809 i did n't have my powers in 1973 . 812 logan , you have to do for me what i once did for you , 817 lead me , guide me . 820 i was a very different man then . 822 you have to be patient with me . 825 patience is n't my strongest suit . 828 you 're need me as well . 830 what ? 830 after mystique left charles , she came with me , 833 and i set her on a dangerous path . 837 darker path . 838 it 's going to take the two of us side by side at a time when we could n't be further apart . 847 great . 849 so where do i find you ? 851 oh . . its complicated . 856 basically , your body goes to sleep , only your mind travels back in time . 860 as long as you back there , past and present will continue to coexist . 865 but once you wake up .... 867 . . whatever you 've done will take hold and become history . 870 and for the rest of us that will be the only history that we know .\n",
      "2195 one second . 2198 we added some names to the paris meeting 2204 thank you . 2207 is there something wrong , sir ? 2209 no. 2211 it 's nothing . 2212 would you mind typing up my itinerary .<q>2248 what has he done now ? 2249 - i 'll just write you a check for whatever he took . - we just need talk to him . 2255 peter , the cops are here . . 2258 . . again . 2267 guess what , i did n't do anything 2269 i 've been here all day . 2272 just relax peter , we are not cops . 2274 of course you 're not cops , if you were cops you would n't drive a rental car 2276 how 'd you know we got a rental car ? 2277 i checked your registration when you were walking through the door , 2279 i also had some time to kill so i went through your rental agreements , saw you were from out of town 2282 are you fbi ? 2284 no , you 're not cops , hey what 's up with this kid 's school place 2288 that 's an old card . 2290 he is fascinating 2291 he is a pain in the ass . 2293 what teleporter ? 2293 no , he 's just fast . 2295 when i know him he was so old . young . 2298 young ? you 're just old . 2301 so you 're not afraid to show your powers ? 2303 power ? what power ? what you talking about ? 2305 you see some strange here ? 2308 nothing anybody believe if you told them . 2314 so who are you ? what do you want ? 2316 we need your help , peter . 2317 what ? 2318 break into a highly secured facility 2320 and get someone out . 2322 prison break ? 2323 that 's illegal , you know . 2329 well , only if you get caught .\n",
      "4927 and cerebro knows it . 4930 all those voices . . 4934 so .... . much ..... . pain . 4939 it 's not their pain you 're afraid of . 4943 it 's yours charles . 4946 and as frightening as it may be , 4949 that pain will make you stronger . 4952 if you allow yourself to feel it , 4955 embrace it . 4958 it will make you more powerful than you ever imagined . 4962 it 's the greatest gift we have , 4966 to bear their pain without breaking . 4970 and it 's born from the most human power 4975 hope . 4986 please , 4987 charles , 4988 we need to hope again . 5000 find what you were looking for ? 5009 power is back on . 5010 yes . 5012 yes it is . 5114 she 's lost too much blood . 5116 - she ca n't keep going like this - we have no choice , bobby . 5120 we can wake him up . 5121 no. 5123 they need more time . 5125 i had a glimpse into the past , 5130 if we wake logan now we may set off an even darker course . 5135 they need more time . 5156 raven , stop . 5159 stop running . 5161 charles . 5164 where are you ? 5165 back at the house . 5166 . . where you should be . 5168 i need you to come home . 5171 i know what i need to do . 5177 if you kill trask , 5178 you will be creating countless more just like him . 5180 then i 'll kill them too . 5182 those are erick 's works not yours .\n",
      "1335 its only make the ride little smoother . 1337 we are transferring you to a private facility , where we can . . 1340 run a few more tests . 1347 your men are not military . 1350 private outfit . we 're authorized to command these men . 1357 these troops are going home . 1359 well , colonel ... 1361 i do n't believe you have the jurisdiction in this matter . 1365 i 'm afraid i do it , son .\n",
      "whoa . 725 think blake was a spook ? 727 government or black ops ? 731 i think ... 733 ... this is way bigger than both of us . 740 rorschach 's journal , october 12th , 1985 . 745 dog carcass in alley this morning . tire tread on burst stomach . 751 this city 's afraid of me . 753 i 've seen its true face . the streets are extended gutters ... 758 ... and the gutters are full of blood .<q>764 ... all the vermin will drown . 767 the accumulated filth of all their sex and murder ... 769 ... will foam up around their waists ... 772 ... and all the whores and politicians will look up and shout , \" save us . \" 778 and i 'll whisper , \" no . \" 783 now the whole world stands on the brink ... 786 ... staring down into bloody hell . 789 all those liberals and intellectuals ... 793 ... and smooth talkers ... 795 ... and all of a sudden , nobody can think of anything to say . 798 beneath me , this awful city . 802 it screams like an abattoir full of retarded children ... 806 ... and the night reeks of fornication and bad consciences . 881 huh . 891 tonight , a comedian died in new york . 895 somebody knows why . 898 somebody knows . 904 no , i definitely heard something . 910 watch the door . 937 shh . 939 must 've been the wind . next time you -- 955 it all started with the gangs . you know , people tend to forget that . 962 pirate outfits , ghosts . 966 they thought it was funny : dress up and pull heists . 970 as soon as we 'd arrest them , they 'd be back on the street . 973 nobody could pick them out of a lineup because of the damn masks . 977 so a few of us cops , we get together ... 979 ... and we figure , what the heck , we 'll mask up , too . 983 we 'll finish what the law could n't . 986 pretty soon , the papers get wind of it . they ran with it ... 990 ... and oh , boy , we 're a national pastime . 994 it was me , dollar bill , mothman ... 998 ... captain metropolis , hooded justice ... 1002 ... silk spectre and the comedian .\n",
      "3929 i do n't want that responsibility anymore . 3937 he 's all yours . 3946 do n't worry , jon . she 'll be back . 3949 no , she wo n't . 3966 he 's been called hero , weapon ... 3971 ... linchpin of our national security ... 3973 ... deterrent to nuclear war , or a man to end worlds . 3978 later tonight , dr. manhattan ... 3981 ... will answer my questions and yours in an exclusive interview ... 3986 ... brought to you commercial - free by veidt enterprises . 4006 who is it ? 4007 laurie : it 's laurie . 4020 sorry . i just had this new lock installed . 4024 i did n't know where else to go . 4026 oh , it 's okay . come in . 4037 what 's wrong ? 4039 i left jon . 4041 oh , god . 4044 i 'm so sorry . 4046 i do n't know why i 'm here . i just .... 4050 i do n't know anybody else . 4054 i do n't know anybody except for goddamn superheroes . 4058 that 's okay . 4059 you probably just had an argument or something . 4062 no , dan . 4064 you do n't know what it 's been like living with him . 4067 the way he looks at things now , it 's like he does n't ... 4070 ... remember what they are . 4073 it 's like this world , this real world ...\n",
      "2197 soon . 2199 but i do n't know what to think . i mean , it 's all ... 2202 ... quantum mechanics and parallel realities with him . 2206 i never even know what universe he 's actually seeing . 2210 he just keeps getting further away from me . 2214 everyone . 2216 i ca n't even tell if he actually cares about me anymore ... 2219 ... or if he 's just pretending . 2222 if he 's pretending , it means he cares . 2230 hold on , i 'll get the door . 2233 thanks , dan . 2235 - got it ? - yeah . 2243 you always get a government escort to dinner ? 2246 they 're making sure i do n't do anything to upset the country 's most powerful weapon . 2252 i 'm sorry . 2254 i invite you out to dinner to catch up and have a few laughs ... 2258 ... but there do n't seem to be many laughs around these days . 2261 what do you expect ? the comedian 's dead . 2369 laurie ? is that you ? 2375 thought you 'd be used to traveling that way by now . 2379 well , i 'm not . i hate it when jon teleports me . 2383 well , it beats flying coach . 2386 margarita ?\n",
      "2881 of whom may we seek succor , but of thee , o lord ? 2890 welcome . we 'll be starting shortly . 2893 we 're waiting for one more . 2906 i told you , you would n't be the only one dressed up . 2911 welcome , doctor . 2913 now we can start . 2915 thank you for coming . acquaint yourselves with this map of high - crime areas . 2920 this is all bullshit . 2922 for a guy who calls himself the comedian , i can never tell when you 're joking . 2926 watchmen . that 's the real joke . 2930 it did n't work 15 years ago , and it ai n't gon na work now ... 2933 ... because you wan na play cowboys and indians . 2935 maybe we should agree on no drinking at meetings . 2939 rorschach and i have made headway on the gang problem by working together . 2943 a group this size seems like a publicity stunt . i 'm not in it for the ink . 2948 we can do so much more .\n",
      "509 okay .<q>for you , john . 518 john , why would you do that if you know it 's not my car ? 521 i told you to move it . you did tell me to move it ... 524 but if you 'd said you were dropping a 300 - pound mirror with a demon ... 528 i would 've moved it further , john . 530 take alvarado . yeah , thank you . i know what to take . 535 you ever think if you told me more now that maybe i could help out ?<q>nope . 540 nope ? 542 of course it 's a nope . 581 bless me , father , for i have sinned . 586 it 's been ...\n",
      "5567 figures . 5569 and the wicked shall inherit the earth .\n"
     ]
    }
   ],
   "source": [
    "!cat ./split_extractive_results/_step5000.gold"
   ]
  },
  {
   "cell_type": "markdown",
   "metadata": {
    "id": "TOEaq0qSjG2y"
   },
   "source": [
    "### Step 1.2: Download encoder\n",
    "For this project we will be using an NLP encoder developed by stanford"
   ]
  },
  {
   "cell_type": "code",
   "execution_count": null,
   "metadata": {
    "colab": {
     "base_uri": "https://localhost:8080/"
    },
    "id": "jOvPOlwIwl6M",
    "outputId": "53fe36ca-ac55-4a64-c830-1d2462956d24"
   },
   "outputs": [
    {
     "data": {
      "text/plain": [
       "['/usr/local/lib/python3.7/dist-packages',\n",
       " '/usr/lib/python3/dist-packages',\n",
       " '/usr/lib/python3.7/dist-packages']"
      ]
     },
     "execution_count": 6,
     "metadata": {},
     "output_type": "execute_result"
    }
   ],
   "source": [
    "import site; site.getsitepackages()"
   ]
  },
  {
   "cell_type": "code",
   "execution_count": null,
   "metadata": {
    "colab": {
     "base_uri": "https://localhost:8080/"
    },
    "id": "28ZaESqJw9wW",
    "outputId": "094cf2c2-27c3-462d-994a-609137134e29"
   },
   "outputs": [
    {
     "name": "stdout",
     "output_type": "stream",
     "text": [
      "__init__.py  __pycache__  Rouge155.py  test.py\ttests  utils\n"
     ]
    }
   ],
   "source": [
    "!ls /usr/local/lib/python3.7/dist-packages/pyrouge"
   ]
  },
  {
   "cell_type": "code",
   "execution_count": null,
   "metadata": {
    "colab": {
     "base_uri": "https://localhost:8080/"
    },
    "id": "6o2naQvFEJSw",
    "outputId": "7bf7bbf0-9c54-47be-91e3-50fab8e8b361"
   },
   "outputs": [
    {
     "name": "stdout",
     "output_type": "stream",
     "text": [
      "--2021-11-12 03:35:30--  https://nlp.stanford.edu/software/stanford-corenlp-latest.zip\n",
      "Resolving nlp.stanford.edu (nlp.stanford.edu)... 171.64.67.140\n",
      "Connecting to nlp.stanford.edu (nlp.stanford.edu)|171.64.67.140|:443... connected.\n",
      "HTTP request sent, awaiting response... 302 FOUND\n",
      "Location: https://downloads.cs.stanford.edu/nlp/software/stanford-corenlp-latest.zip [following]\n",
      "--2021-11-12 03:35:30--  https://downloads.cs.stanford.edu/nlp/software/stanford-corenlp-latest.zip\n",
      "Resolving downloads.cs.stanford.edu (downloads.cs.stanford.edu)... 171.64.64.22\n",
      "Connecting to downloads.cs.stanford.edu (downloads.cs.stanford.edu)|171.64.64.22|:443... connected.\n",
      "HTTP request sent, awaiting response... 200 OK\n",
      "Length: 505031546 (482M) [application/zip]\n",
      "Saving to: ‘stanford-corenlp-latest.zip.1’\n",
      "\n",
      "stanford-corenlp-la  37%[======>             ] 181.57M  5.07MB/s    eta 53s    ^C\n"
     ]
    }
   ],
   "source": [
    "!wget https://nlp.stanford.edu/software/stanford-corenlp-latest.zip"
   ]
  },
  {
   "cell_type": "code",
   "execution_count": null,
   "metadata": {
    "id": "29rp5tSIEWW2"
   },
   "outputs": [],
   "source": [
    "!unzip stanford-corenlp-latest.zip"
   ]
  },
  {
   "cell_type": "markdown",
   "metadata": {
    "id": "Ie21kkAGjcwK"
   },
   "source": [
    "Go into the uziped file and maually unzip the file stanford-corenlp-4.3.1.jar"
   ]
  },
  {
   "cell_type": "code",
   "execution_count": null,
   "metadata": {
    "colab": {
     "base_uri": "https://localhost:8080/",
     "height": 1000
    },
    "id": "yE0UrPjbGJoh",
    "outputId": "5bd25eb9-3bd6-4e7e-ecac-616ffaf09d74"
   },
   "outputs": [
    {
     "name": "stdout",
     "output_type": "stream",
     "text": [
      "Collecting multiprocess==0.70.9\n",
      "  Downloading multiprocess-0.70.9.tar.gz (1.6 MB)\n",
      "\u001b[K     |████████████████████████████████| 1.6 MB 5.4 MB/s \n",
      "\u001b[?25hCollecting numpy==1.17.2\n",
      "  Downloading numpy-1.17.2-cp37-cp37m-manylinux1_x86_64.whl (20.3 MB)\n",
      "\u001b[K     |████████████████████████████████| 20.3 MB 1.4 MB/s \n",
      "\u001b[?25hCollecting pyrouge==0.1.3\n",
      "  Downloading pyrouge-0.1.3.tar.gz (60 kB)\n",
      "\u001b[K     |████████████████████████████████| 60 kB 6.6 MB/s \n",
      "\u001b[?25hCollecting transformers==2.10.0\n",
      "  Downloading transformers-2.10.0-py3-none-any.whl (660 kB)\n",
      "\u001b[K     |████████████████████████████████| 660 kB 36.6 MB/s \n",
      "\u001b[?25hCollecting tensorboardX==1.9\n",
      "  Downloading tensorboardX-1.9-py2.py3-none-any.whl (190 kB)\n",
      "\u001b[K     |████████████████████████████████| 190 kB 46.0 MB/s \n",
      "\u001b[?25hCollecting torch==1.1.0\n",
      "  Downloading torch-1.1.0-cp37-cp37m-manylinux1_x86_64.whl (676.9 MB)\n",
      "\u001b[K     |████████████████████████████████| 676.9 MB 4.1 kB/s \n",
      "\u001b[?25hRequirement already satisfied: dill>=0.3.1 in /usr/local/lib/python3.7/dist-packages (from multiprocess==0.70.9->-r ../PreSumm/requirements.txt (line 1)) (0.3.4)\n",
      "Requirement already satisfied: requests in /usr/local/lib/python3.7/dist-packages (from transformers==2.10.0->-r ../PreSumm/requirements.txt (line 4)) (2.23.0)\n",
      "Collecting sacremoses\n",
      "  Downloading sacremoses-0.0.46-py3-none-any.whl (895 kB)\n",
      "\u001b[K     |████████████████████████████████| 895 kB 40.0 MB/s \n",
      "\u001b[?25hRequirement already satisfied: tqdm>=4.27 in /usr/local/lib/python3.7/dist-packages (from transformers==2.10.0->-r ../PreSumm/requirements.txt (line 4)) (4.62.3)\n",
      "Collecting tokenizers==0.7.0\n",
      "  Downloading tokenizers-0.7.0-cp37-cp37m-manylinux1_x86_64.whl (5.6 MB)\n",
      "\u001b[K     |████████████████████████████████| 5.6 MB 34.9 MB/s \n",
      "\u001b[?25hRequirement already satisfied: regex!=2019.12.17 in /usr/local/lib/python3.7/dist-packages (from transformers==2.10.0->-r ../PreSumm/requirements.txt (line 4)) (2019.12.20)\n",
      "Requirement already satisfied: filelock in /usr/local/lib/python3.7/dist-packages (from transformers==2.10.0->-r ../PreSumm/requirements.txt (line 4)) (3.3.2)\n",
      "Collecting sentencepiece\n",
      "  Downloading sentencepiece-0.1.96-cp37-cp37m-manylinux_2_17_x86_64.manylinux2014_x86_64.whl (1.2 MB)\n",
      "\u001b[K     |████████████████████████████████| 1.2 MB 41.9 MB/s \n",
      "\u001b[?25hRequirement already satisfied: protobuf>=3.8.0 in /usr/local/lib/python3.7/dist-packages (from tensorboardX==1.9->-r ../PreSumm/requirements.txt (line 5)) (3.17.3)\n",
      "Requirement already satisfied: six in /usr/local/lib/python3.7/dist-packages (from tensorboardX==1.9->-r ../PreSumm/requirements.txt (line 5)) (1.15.0)\n",
      "Requirement already satisfied: idna<3,>=2.5 in /usr/local/lib/python3.7/dist-packages (from requests->transformers==2.10.0->-r ../PreSumm/requirements.txt (line 4)) (2.10)\n",
      "Requirement already satisfied: certifi>=2017.4.17 in /usr/local/lib/python3.7/dist-packages (from requests->transformers==2.10.0->-r ../PreSumm/requirements.txt (line 4)) (2021.10.8)\n",
      "Requirement already satisfied: urllib3!=1.25.0,!=1.25.1,<1.26,>=1.21.1 in /usr/local/lib/python3.7/dist-packages (from requests->transformers==2.10.0->-r ../PreSumm/requirements.txt (line 4)) (1.24.3)\n",
      "Requirement already satisfied: chardet<4,>=3.0.2 in /usr/local/lib/python3.7/dist-packages (from requests->transformers==2.10.0->-r ../PreSumm/requirements.txt (line 4)) (3.0.4)\n",
      "Requirement already satisfied: click in /usr/local/lib/python3.7/dist-packages (from sacremoses->transformers==2.10.0->-r ../PreSumm/requirements.txt (line 4)) (7.1.2)\n",
      "Requirement already satisfied: joblib in /usr/local/lib/python3.7/dist-packages (from sacremoses->transformers==2.10.0->-r ../PreSumm/requirements.txt (line 4)) (1.1.0)\n",
      "Building wheels for collected packages: multiprocess, pyrouge\n",
      "  Building wheel for multiprocess (setup.py) ... \u001b[?25l\u001b[?25hdone\n",
      "  Created wheel for multiprocess: filename=multiprocess-0.70.9-py3-none-any.whl size=108058 sha256=879c27d1f72e68e5981a28f8c022fc998baa82b1b292f51c0140d79709e3aeef\n",
      "  Stored in directory: /root/.cache/pip/wheels/83/2b/b4/50d7cae5b9069434454fd36da009832592af4fff58b51db8d9\n",
      "  Building wheel for pyrouge (setup.py) ... \u001b[?25l\u001b[?25hdone\n",
      "  Created wheel for pyrouge: filename=pyrouge-0.1.3-py3-none-any.whl size=191620 sha256=2d48975b8e01265e8a3ca09a37fe91c5edfc9d2a6902dea19644a9c37cd80fde\n",
      "  Stored in directory: /root/.cache/pip/wheels/68/35/6a/ffb9a1f51b2b00fee42e7f67f5a5d8e10c67d048cda09ccd57\n",
      "Successfully built multiprocess pyrouge\n",
      "Installing collected packages: tokenizers, sentencepiece, sacremoses, numpy, transformers, torch, tensorboardX, pyrouge, multiprocess\n",
      "  Attempting uninstall: numpy\n",
      "    Found existing installation: numpy 1.19.5\n",
      "    Uninstalling numpy-1.19.5:\n",
      "      Successfully uninstalled numpy-1.19.5\n",
      "  Attempting uninstall: torch\n",
      "    Found existing installation: torch 1.10.0+cu111\n",
      "    Uninstalling torch-1.10.0+cu111:\n",
      "      Successfully uninstalled torch-1.10.0+cu111\n",
      "  Attempting uninstall: multiprocess\n",
      "    Found existing installation: multiprocess 0.70.12.2\n",
      "    Uninstalling multiprocess-0.70.12.2:\n",
      "      Successfully uninstalled multiprocess-0.70.12.2\n",
      "\u001b[31mERROR: pip's dependency resolver does not currently take into account all the packages that are installed. This behaviour is the source of the following dependency conflicts.\n",
      "torchvision 0.11.1+cu111 requires torch==1.10.0, but you have torch 1.1.0 which is incompatible.\n",
      "torchtext 0.11.0 requires torch==1.10.0, but you have torch 1.1.0 which is incompatible.\n",
      "pywavelets 1.2.0 requires numpy>=1.17.3, but you have numpy 1.17.2 which is incompatible.\n",
      "kapre 0.3.5 requires numpy>=1.18.5, but you have numpy 1.17.2 which is incompatible.\n",
      "jaxlib 0.1.71+cuda111 requires numpy>=1.18, but you have numpy 1.17.2 which is incompatible.\n",
      "jax 0.2.21 requires numpy>=1.18, but you have numpy 1.17.2 which is incompatible.\n",
      "datascience 0.10.6 requires folium==0.2.1, but you have folium 0.8.3 which is incompatible.\n",
      "albumentations 0.1.12 requires imgaug<0.2.7,>=0.2.5, but you have imgaug 0.2.9 which is incompatible.\u001b[0m\n",
      "Successfully installed multiprocess-0.70.9 numpy-1.17.2 pyrouge-0.1.3 sacremoses-0.0.46 sentencepiece-0.1.96 tensorboardX-1.9 tokenizers-0.7.0 torch-1.1.0 transformers-2.10.0\n"
     ]
    },
    {
     "data": {
      "application/vnd.colab-display-data+json": {
       "pip_warning": {
        "packages": [
         "numpy"
        ]
       }
      }
     },
     "metadata": {},
     "output_type": "display_data"
    }
   ],
   "source": [
    "!pip install -r ../PreSumm/requirements.txt # Install requirements for the package"
   ]
  },
  {
   "cell_type": "code",
   "execution_count": null,
   "metadata": {
    "colab": {
     "base_uri": "https://localhost:8080/"
    },
    "id": "ScuyL4ZCAW8-",
    "outputId": "cbfbaa20-2873-4d82-cb76-db42dbfa895e"
   },
   "outputs": [
    {
     "name": "stdout",
     "output_type": "stream",
     "text": [
      "Collecting pytorch_transformers\n",
      "  Downloading pytorch_transformers-1.2.0-py3-none-any.whl (176 kB)\n",
      "\u001b[?25l\r",
      "\u001b[K     |█▉                              | 10 kB 21.0 MB/s eta 0:00:01\r",
      "\u001b[K     |███▊                            | 20 kB 9.5 MB/s eta 0:00:01\r",
      "\u001b[K     |█████▋                          | 30 kB 7.9 MB/s eta 0:00:01\r",
      "\u001b[K     |███████▍                        | 40 kB 7.3 MB/s eta 0:00:01\r",
      "\u001b[K     |█████████▎                      | 51 kB 5.2 MB/s eta 0:00:01\r",
      "\u001b[K     |███████████▏                    | 61 kB 5.7 MB/s eta 0:00:01\r",
      "\u001b[K     |█████████████                   | 71 kB 5.5 MB/s eta 0:00:01\r",
      "\u001b[K     |██████████████▉                 | 81 kB 6.2 MB/s eta 0:00:01\r",
      "\u001b[K     |████████████████▊               | 92 kB 4.9 MB/s eta 0:00:01\r",
      "\u001b[K     |██████████████████▋             | 102 kB 5.4 MB/s eta 0:00:01\r",
      "\u001b[K     |████████████████████▍           | 112 kB 5.4 MB/s eta 0:00:01\r",
      "\u001b[K     |██████████████████████▎         | 122 kB 5.4 MB/s eta 0:00:01\r",
      "\u001b[K     |████████████████████████▏       | 133 kB 5.4 MB/s eta 0:00:01\r",
      "\u001b[K     |██████████████████████████      | 143 kB 5.4 MB/s eta 0:00:01\r",
      "\u001b[K     |███████████████████████████▉    | 153 kB 5.4 MB/s eta 0:00:01\r",
      "\u001b[K     |█████████████████████████████▊  | 163 kB 5.4 MB/s eta 0:00:01\r",
      "\u001b[K     |███████████████████████████████▋| 174 kB 5.4 MB/s eta 0:00:01\r",
      "\u001b[K     |████████████████████████████████| 176 kB 5.4 MB/s \n",
      "\u001b[?25hRequirement already satisfied: requests in /usr/local/lib/python3.7/dist-packages (from pytorch_transformers) (2.23.0)\n",
      "Collecting boto3\n",
      "  Downloading boto3-1.20.5-py3-none-any.whl (131 kB)\n",
      "\u001b[K     |████████████████████████████████| 131 kB 43.0 MB/s \n",
      "\u001b[?25hRequirement already satisfied: sacremoses in /usr/local/lib/python3.7/dist-packages (from pytorch_transformers) (0.0.46)\n",
      "Requirement already satisfied: numpy in /usr/local/lib/python3.7/dist-packages (from pytorch_transformers) (1.17.2)\n",
      "Requirement already satisfied: regex in /usr/local/lib/python3.7/dist-packages (from pytorch_transformers) (2019.12.20)\n",
      "Requirement already satisfied: tqdm in /usr/local/lib/python3.7/dist-packages (from pytorch_transformers) (4.62.3)\n",
      "Requirement already satisfied: torch>=1.0.0 in /usr/local/lib/python3.7/dist-packages (from pytorch_transformers) (1.1.0)\n",
      "Requirement already satisfied: sentencepiece in /usr/local/lib/python3.7/dist-packages (from pytorch_transformers) (0.1.96)\n",
      "Collecting botocore<1.24.0,>=1.23.5\n",
      "  Downloading botocore-1.23.5-py3-none-any.whl (8.1 MB)\n",
      "\u001b[K     |████████████████████████████████| 8.1 MB 36.4 MB/s \n",
      "\u001b[?25hCollecting s3transfer<0.6.0,>=0.5.0\n",
      "  Downloading s3transfer-0.5.0-py3-none-any.whl (79 kB)\n",
      "\u001b[K     |████████████████████████████████| 79 kB 6.8 MB/s \n",
      "\u001b[?25hCollecting jmespath<1.0.0,>=0.7.1\n",
      "  Downloading jmespath-0.10.0-py2.py3-none-any.whl (24 kB)\n",
      "Requirement already satisfied: python-dateutil<3.0.0,>=2.1 in /usr/local/lib/python3.7/dist-packages (from botocore<1.24.0,>=1.23.5->boto3->pytorch_transformers) (2.8.2)\n",
      "Collecting urllib3<1.27,>=1.25.4\n",
      "  Downloading urllib3-1.26.7-py2.py3-none-any.whl (138 kB)\n",
      "\u001b[K     |████████████████████████████████| 138 kB 35.4 MB/s \n",
      "\u001b[?25hRequirement already satisfied: six>=1.5 in /usr/local/lib/python3.7/dist-packages (from python-dateutil<3.0.0,>=2.1->botocore<1.24.0,>=1.23.5->boto3->pytorch_transformers) (1.15.0)\n",
      "Requirement already satisfied: chardet<4,>=3.0.2 in /usr/local/lib/python3.7/dist-packages (from requests->pytorch_transformers) (3.0.4)\n",
      "Requirement already satisfied: certifi>=2017.4.17 in /usr/local/lib/python3.7/dist-packages (from requests->pytorch_transformers) (2021.10.8)\n",
      "Requirement already satisfied: idna<3,>=2.5 in /usr/local/lib/python3.7/dist-packages (from requests->pytorch_transformers) (2.10)\n",
      "  Downloading urllib3-1.25.11-py2.py3-none-any.whl (127 kB)\n",
      "\u001b[K     |████████████████████████████████| 127 kB 45.1 MB/s \n",
      "\u001b[?25hRequirement already satisfied: click in /usr/local/lib/python3.7/dist-packages (from sacremoses->pytorch_transformers) (7.1.2)\n",
      "Requirement already satisfied: joblib in /usr/local/lib/python3.7/dist-packages (from sacremoses->pytorch_transformers) (1.1.0)\n",
      "Installing collected packages: urllib3, jmespath, botocore, s3transfer, boto3, pytorch-transformers\n",
      "  Attempting uninstall: urllib3\n",
      "    Found existing installation: urllib3 1.24.3\n",
      "    Uninstalling urllib3-1.24.3:\n",
      "      Successfully uninstalled urllib3-1.24.3\n",
      "\u001b[31mERROR: pip's dependency resolver does not currently take into account all the packages that are installed. This behaviour is the source of the following dependency conflicts.\n",
      "kapre 0.3.5 requires numpy>=1.18.5, but you have numpy 1.17.2 which is incompatible.\n",
      "datascience 0.10.6 requires folium==0.2.1, but you have folium 0.8.3 which is incompatible.\u001b[0m\n",
      "Successfully installed boto3-1.20.5 botocore-1.23.5 jmespath-0.10.0 pytorch-transformers-1.2.0 s3transfer-0.5.0 urllib3-1.25.11\n"
     ]
    }
   ],
   "source": [
    "!pip install pytorch_transformers"
   ]
  },
  {
   "cell_type": "markdown",
   "metadata": {
    "id": "J2llpFpykKAq"
   },
   "source": [
    "### Step 1.3: Cloning the pretraining code"
   ]
  },
  {
   "cell_type": "code",
   "execution_count": null,
   "metadata": {
    "colab": {
     "base_uri": "https://localhost:8080/"
    },
    "id": "Vw7wFYKOFQzO",
    "outputId": "e72dc8ef-0f27-4fcf-e95d-351188c67504"
   },
   "outputs": [
    {
     "name": "stdout",
     "output_type": "stream",
     "text": [
      "Cloning into 'PreSumm'...\n",
      "remote: Enumerating objects: 467, done.\u001b[K\n",
      "remote: Total 467 (delta 0), reused 0 (delta 0), pack-reused 467\u001b[K\n",
      "Receiving objects: 100% (467/467), 13.13 MiB | 2.91 MiB/s, done.\n",
      "Resolving deltas: 100% (285/285), done.\n",
      "Checking out files: 100% (90/90), done.\n"
     ]
    }
   ],
   "source": [
    "!git clone https://github.com/chriskhanhtran/PreSumm.git"
   ]
  },
  {
   "cell_type": "markdown",
   "metadata": {
    "id": "6U1gyxf_kjMY"
   },
   "source": [
    "### Step 1.4: Tokenize Data"
   ]
  },
  {
   "cell_type": "code",
   "execution_count": null,
   "metadata": {
    "colab": {
     "base_uri": "https://localhost:8080/",
     "height": 963
    },
    "id": "uDRLwM_S2VL7",
    "outputId": "2458ffcc-bb8b-44e6-ad61-12556b6c3933"
   },
   "outputs": [
    {
     "data": {
      "text/html": [
       "<div>\n",
       "<style scoped>\n",
       "    .dataframe tbody tr th:only-of-type {\n",
       "        vertical-align: middle;\n",
       "    }\n",
       "\n",
       "    .dataframe tbody tr th {\n",
       "        vertical-align: top;\n",
       "    }\n",
       "\n",
       "    .dataframe thead th {\n",
       "        text-align: right;\n",
       "    }\n",
       "</style>\n",
       "<table border=\"1\" class=\"dataframe\">\n",
       "  <thead>\n",
       "    <tr style=\"text-align: right;\">\n",
       "      <th></th>\n",
       "      <th>label</th>\n",
       "      <th>movie</th>\n",
       "      <th>corpus_movie</th>\n",
       "      <th>corpus_trailer</th>\n",
       "      <th>num_sentence_movie</th>\n",
       "      <th>num_sentence_trailer</th>\n",
       "      <th>num_words_movie</th>\n",
       "      <th>num_words_trailer</th>\n",
       "      <th>num_letters_movie</th>\n",
       "      <th>num_letters_trailer</th>\n",
       "      <th>merged_corpus</th>\n",
       "    </tr>\n",
       "  </thead>\n",
       "  <tbody>\n",
       "    <tr>\n",
       "      <th>0</th>\n",
       "      <td>Marvel</td>\n",
       "      <td>Avengers Infinity War</td>\n",
       "      <td>['This is the Asgardian', 'refugee vessel Stat...</td>\n",
       "      <td>['imagine a soldier the size of an insect', 't...</td>\n",
       "      <td>1723</td>\n",
       "      <td>26</td>\n",
       "      <td>9093</td>\n",
       "      <td>189</td>\n",
       "      <td>47892</td>\n",
       "      <td>926</td>\n",
       "      <td>['This is the Asgardian', 'refugee vessel Stat...</td>\n",
       "    </tr>\n",
       "    <tr>\n",
       "      <th>1</th>\n",
       "      <td>Marvel</td>\n",
       "      <td>Ant-Man and The Wasp</td>\n",
       "      <td>['I still think about the night', 'your mother...</td>\n",
       "      <td>['So, how long have you been Ant-Man again?', ...</td>\n",
       "      <td>1929</td>\n",
       "      <td>24</td>\n",
       "      <td>10302</td>\n",
       "      <td>183</td>\n",
       "      <td>54559</td>\n",
       "      <td>935</td>\n",
       "      <td>['I still think about the night', 'your mother...</td>\n",
       "    </tr>\n",
       "    <tr>\n",
       "      <th>2</th>\n",
       "      <td>Marvel</td>\n",
       "      <td>Ant-Man</td>\n",
       "      <td>['Stark!', \"He doesn't seem happy.\", 'Hello, H...</td>\n",
       "      <td>['There are two types of', 'and those who do n...</td>\n",
       "      <td>1553</td>\n",
       "      <td>5</td>\n",
       "      <td>9528</td>\n",
       "      <td>31</td>\n",
       "      <td>50467</td>\n",
       "      <td>132</td>\n",
       "      <td>['Stark!', \"He doesn't seem happy.\", 'Hello, H...</td>\n",
       "    </tr>\n",
       "    <tr>\n",
       "      <th>3</th>\n",
       "      <td>Marvel</td>\n",
       "      <td>Avengers Age of Ultron</td>\n",
       "      <td>['Report to your stations immediately.', 'This...</td>\n",
       "      <td>[\"I'm gonna show you something beautfiul\", 'Yo...</td>\n",
       "      <td>1902</td>\n",
       "      <td>9</td>\n",
       "      <td>10602</td>\n",
       "      <td>68</td>\n",
       "      <td>56711</td>\n",
       "      <td>323</td>\n",
       "      <td>['Report to your stations immediately.', 'This...</td>\n",
       "    </tr>\n",
       "    <tr>\n",
       "      <th>4</th>\n",
       "      <td>Marvel</td>\n",
       "      <td>Avengers Endgame</td>\n",
       "      <td>[\"Okay, hold on, don't shoot.\", \"- You see whe...</td>\n",
       "      <td>['Oh No yeah hey go man no prob', 'star-lord w...</td>\n",
       "      <td>2160</td>\n",
       "      <td>23</td>\n",
       "      <td>11946</td>\n",
       "      <td>155</td>\n",
       "      <td>62876</td>\n",
       "      <td>847</td>\n",
       "      <td>[\"Okay, hold on, don't shoot.\", \"- You see whe...</td>\n",
       "    </tr>\n",
       "  </tbody>\n",
       "</table>\n",
       "</div>"
      ],
      "text/plain": [
       "    label  ...                                      merged_corpus\n",
       "0  Marvel  ...  ['This is the Asgardian', 'refugee vessel Stat...\n",
       "1  Marvel  ...  ['I still think about the night', 'your mother...\n",
       "2  Marvel  ...  ['Stark!', \"He doesn't seem happy.\", 'Hello, H...\n",
       "3  Marvel  ...  ['Report to your stations immediately.', 'This...\n",
       "4  Marvel  ...  [\"Okay, hold on, don't shoot.\", \"- You see whe...\n",
       "\n",
       "[5 rows x 11 columns]"
      ]
     },
     "metadata": {},
     "output_type": "display_data"
    },
    {
     "data": {
      "text/html": [
       "<div>\n",
       "<style scoped>\n",
       "    .dataframe tbody tr th:only-of-type {\n",
       "        vertical-align: middle;\n",
       "    }\n",
       "\n",
       "    .dataframe tbody tr th {\n",
       "        vertical-align: top;\n",
       "    }\n",
       "\n",
       "    .dataframe thead th {\n",
       "        text-align: right;\n",
       "    }\n",
       "</style>\n",
       "<table border=\"1\" class=\"dataframe\">\n",
       "  <thead>\n",
       "    <tr style=\"text-align: right;\">\n",
       "      <th></th>\n",
       "      <th>label</th>\n",
       "      <th>movie</th>\n",
       "      <th>corpus_movie</th>\n",
       "      <th>corpus_trailer</th>\n",
       "      <th>num_sentence_movie</th>\n",
       "      <th>num_sentence_trailer</th>\n",
       "      <th>num_words_movie</th>\n",
       "      <th>num_words_trailer</th>\n",
       "      <th>num_letters_movie</th>\n",
       "      <th>num_letters_trailer</th>\n",
       "      <th>merged_corpus</th>\n",
       "    </tr>\n",
       "  </thead>\n",
       "  <tbody>\n",
       "    <tr>\n",
       "      <th>44</th>\n",
       "      <td>DC</td>\n",
       "      <td>The Dark Knight</td>\n",
       "      <td>[\"Three of a kind, let's do this. That's it? T...</td>\n",
       "      <td>[\"He's in prison for putting Superman\", 'in th...</td>\n",
       "      <td>1826</td>\n",
       "      <td>39</td>\n",
       "      <td>13254</td>\n",
       "      <td>253</td>\n",
       "      <td>71327</td>\n",
       "      <td>1283</td>\n",
       "      <td>[\"Three of a kind, let's do this. That's it? T...</td>\n",
       "    </tr>\n",
       "    <tr>\n",
       "      <th>45</th>\n",
       "      <td>DC</td>\n",
       "      <td>Watchmen</td>\n",
       "      <td>['HAVE A GOOD TIME', 'Wrong, as usual.', \"The ...</td>\n",
       "      <td>[\"don't do the circles please this mark\", 'wil...</td>\n",
       "      <td>2212</td>\n",
       "      <td>24</td>\n",
       "      <td>14317</td>\n",
       "      <td>178</td>\n",
       "      <td>81105</td>\n",
       "      <td>899</td>\n",
       "      <td>['HAVE A GOOD TIME', 'Wrong, as usual.', \"The ...</td>\n",
       "    </tr>\n",
       "    <tr>\n",
       "      <th>46</th>\n",
       "      <td>DC</td>\n",
       "      <td>The Dark Knight Rises</td>\n",
       "      <td>['I knew Harvey Dent.', 'I was his friend.', '...</td>\n",
       "      <td>['Arthur does it help they have someone to tal...</td>\n",
       "      <td>1777</td>\n",
       "      <td>12</td>\n",
       "      <td>12609</td>\n",
       "      <td>106</td>\n",
       "      <td>67521</td>\n",
       "      <td>521</td>\n",
       "      <td>['I knew Harvey Dent.', 'I was his friend.', '...</td>\n",
       "    </tr>\n",
       "    <tr>\n",
       "      <th>47</th>\n",
       "      <td>DC</td>\n",
       "      <td>Wonder Woman 1984</td>\n",
       "      <td>[' Some days, my childhood feels so very far a...</td>\n",
       "      <td>[\"you've been gone a long time where did\", \"yo...</td>\n",
       "      <td>1893</td>\n",
       "      <td>20</td>\n",
       "      <td>10132</td>\n",
       "      <td>151</td>\n",
       "      <td>52365</td>\n",
       "      <td>745</td>\n",
       "      <td>[' Some days, my childhood feels so very far a...</td>\n",
       "    </tr>\n",
       "    <tr>\n",
       "      <th>48</th>\n",
       "      <td>DC</td>\n",
       "      <td>Wonder Woman</td>\n",
       "      <td>['I used to want to save the world.', 'This be...</td>\n",
       "      <td>[\"my life hasn't been what you probably\", 'thi...</td>\n",
       "      <td>1547</td>\n",
       "      <td>13</td>\n",
       "      <td>8750</td>\n",
       "      <td>94</td>\n",
       "      <td>46283</td>\n",
       "      <td>448</td>\n",
       "      <td>['I used to want to save the world.', 'This be...</td>\n",
       "    </tr>\n",
       "  </tbody>\n",
       "</table>\n",
       "</div>"
      ],
      "text/plain": [
       "   label  ...                                      merged_corpus\n",
       "44    DC  ...  [\"Three of a kind, let's do this. That's it? T...\n",
       "45    DC  ...  ['HAVE A GOOD TIME', 'Wrong, as usual.', \"The ...\n",
       "46    DC  ...  ['I knew Harvey Dent.', 'I was his friend.', '...\n",
       "47    DC  ...  [' Some days, my childhood feels so very far a...\n",
       "48    DC  ...  ['I used to want to save the world.', 'This be...\n",
       "\n",
       "[5 rows x 11 columns]"
      ]
     },
     "metadata": {},
     "output_type": "display_data"
    },
    {
     "data": {
      "text/plain": [
       "(49, 11)"
      ]
     },
     "metadata": {},
     "output_type": "display_data"
    },
    {
     "name": "stdout",
     "output_type": "stream",
     "text": [
      "Successfully loaded the corpus data!\n"
     ]
    }
   ],
   "source": [
    "def get_corpus(filepath):\n",
    "    movie_df = pd.read_csv(filepath)\n",
    "    display(movie_df.head())\n",
    "    display(movie_df.tail(), movie_df.shape)\n",
    "    return movie_df\n",
    "\n",
    "dataframe = get_corpus(\"corpus_merged.csv\")\n",
    "print(\"Successfully loaded the corpus data!\")"
   ]
  },
  {
   "cell_type": "code",
   "execution_count": null,
   "metadata": {
    "colab": {
     "base_uri": "https://localhost:8080/"
    },
    "id": "lh6yO5113zgn",
    "outputId": "054741c7-ab8b-408b-c5b7-6f167e21e72c"
   },
   "outputs": [
    {
     "name": "stderr",
     "output_type": "stream",
     "text": [
      "/usr/local/lib/python3.7/dist-packages/ipykernel_launcher.py:10: SettingWithCopyWarning: \n",
      "A value is trying to be set on a copy of a slice from a DataFrame.\n",
      "Try using .loc[row_indexer,col_indexer] = value instead\n",
      "\n",
      "See the caveats in the documentation: https://pandas.pydata.org/pandas-docs/stable/user_guide/indexing.html#returning-a-view-versus-a-copy\n",
      "  # Remove the CWD from sys.path while we load stuff.\n"
     ]
    }
   ],
   "source": [
    "train_df, test_df = train_test_split(dataframe, test_size=0.2, random_state=1)\n",
    "train_df, val_df = train_test_split(train_df, test_size=0.25, random_state=1)\n",
    "\n",
    "def process_text(text):\n",
    "  processed_text = re.sub(\"\\'(,\\s+)\\'\", '\\n', text)\n",
    "  processed_text = re.sub(\"[\\[\\]]\", '', processed_text)\n",
    "  return processed_text\n",
    "\n",
    "train_df[\"merged_corpus\"] = train_df[\"merged_corpus\"].apply(lambda x: process_text(x))\n",
    "test_df[\"merged_corpus\"] = test_df[\"merged_corpus\"].apply(lambda x: process_text(x))\n",
    "val_df[\"merged_corpus\"] = val_df[\"merged_corpus\"].apply(lambda x: process_text(x))"
   ]
  },
  {
   "cell_type": "code",
   "execution_count": null,
   "metadata": {
    "colab": {
     "base_uri": "https://localhost:8080/",
     "height": 509
    },
    "id": "Y06WJ9Uj3-L-",
    "outputId": "2dbc72b9-5c1c-4d70-df25-a4e48aed7912"
   },
   "outputs": [
    {
     "data": {
      "text/html": [
       "<div>\n",
       "<style scoped>\n",
       "    .dataframe tbody tr th:only-of-type {\n",
       "        vertical-align: middle;\n",
       "    }\n",
       "\n",
       "    .dataframe tbody tr th {\n",
       "        vertical-align: top;\n",
       "    }\n",
       "\n",
       "    .dataframe thead th {\n",
       "        text-align: right;\n",
       "    }\n",
       "</style>\n",
       "<table border=\"1\" class=\"dataframe\">\n",
       "  <thead>\n",
       "    <tr style=\"text-align: right;\">\n",
       "      <th></th>\n",
       "      <th>label</th>\n",
       "      <th>movie</th>\n",
       "      <th>corpus_movie</th>\n",
       "      <th>corpus_trailer</th>\n",
       "      <th>num_sentence_movie</th>\n",
       "      <th>num_sentence_trailer</th>\n",
       "      <th>num_words_movie</th>\n",
       "      <th>num_words_trailer</th>\n",
       "      <th>num_letters_movie</th>\n",
       "      <th>num_letters_trailer</th>\n",
       "      <th>merged_corpus</th>\n",
       "    </tr>\n",
       "  </thead>\n",
       "  <tbody>\n",
       "    <tr>\n",
       "      <th>15</th>\n",
       "      <td>Marvel</td>\n",
       "      <td>Spider-Man Homecoming</td>\n",
       "      <td>['Things are never gonna be the same now.', 'I...</td>\n",
       "      <td>['Could we pick up now where we left off', 'Ca...</td>\n",
       "      <td>1939</td>\n",
       "      <td>17</td>\n",
       "      <td>13035</td>\n",
       "      <td>119</td>\n",
       "      <td>69265</td>\n",
       "      <td>617</td>\n",
       "      <td>'Things are never gonna be the same now.\\nI me...</td>\n",
       "    </tr>\n",
       "    <tr>\n",
       "      <th>14</th>\n",
       "      <td>Marvel</td>\n",
       "      <td>Deadpool</td>\n",
       "      <td>['Kinda lonesome back here.', 'Okay, um, just,...</td>\n",
       "      <td>['coming up on the drop zone cap you do', 'any...</td>\n",
       "      <td>1574</td>\n",
       "      <td>25</td>\n",
       "      <td>8514</td>\n",
       "      <td>180</td>\n",
       "      <td>46880</td>\n",
       "      <td>889</td>\n",
       "      <td>'Kinda lonesome back here.\\nOkay, um, just, I ...</td>\n",
       "    </tr>\n",
       "    <tr>\n",
       "      <th>16</th>\n",
       "      <td>Marvel</td>\n",
       "      <td>Guardians of the Galaxy</td>\n",
       "      <td>['Peter.', 'Your momma wants to speak with you...</td>\n",
       "      <td>['after all this time now you come to', '- moc...</td>\n",
       "      <td>1391</td>\n",
       "      <td>16</td>\n",
       "      <td>8103</td>\n",
       "      <td>119</td>\n",
       "      <td>42791</td>\n",
       "      <td>562</td>\n",
       "      <td>'Peter.\\nYour momma wants to speak with you.\\n...</td>\n",
       "    </tr>\n",
       "    <tr>\n",
       "      <th>8</th>\n",
       "      <td>Marvel</td>\n",
       "      <td>Iron Man 3</td>\n",
       "      <td>['A famous man once said,', '\"we create our ow...</td>\n",
       "      <td>['There was an idea.', 'A group of remarkable ...</td>\n",
       "      <td>1815</td>\n",
       "      <td>13</td>\n",
       "      <td>11390</td>\n",
       "      <td>72</td>\n",
       "      <td>60155</td>\n",
       "      <td>398</td>\n",
       "      <td>'A famous man once said,\\n\"we create our own d...</td>\n",
       "    </tr>\n",
       "    <tr>\n",
       "      <th>5</th>\n",
       "      <td>Marvel</td>\n",
       "      <td>Black Panther</td>\n",
       "      <td>['Baba...', 'Yes, my son.', 'Tell me a story.'...</td>\n",
       "      <td>['YELENA BELOVA It was real to me.', '...you w...</td>\n",
       "      <td>1574</td>\n",
       "      <td>6</td>\n",
       "      <td>7958</td>\n",
       "      <td>35</td>\n",
       "      <td>42467</td>\n",
       "      <td>200</td>\n",
       "      <td>'Baba...\\nYes, my son.\\nTell me a story.\\nWhic...</td>\n",
       "    </tr>\n",
       "  </tbody>\n",
       "</table>\n",
       "</div>"
      ],
      "text/plain": [
       "     label  ...                                      merged_corpus\n",
       "15  Marvel  ...  'Things are never gonna be the same now.\\nI me...\n",
       "14  Marvel  ...  'Kinda lonesome back here.\\nOkay, um, just, I ...\n",
       "16  Marvel  ...  'Peter.\\nYour momma wants to speak with you.\\n...\n",
       "8   Marvel  ...  'A famous man once said,\\n\"we create our own d...\n",
       "5   Marvel  ...  'Baba...\\nYes, my son.\\nTell me a story.\\nWhic...\n",
       "\n",
       "[5 rows x 11 columns]"
      ]
     },
     "execution_count": 22,
     "metadata": {},
     "output_type": "execute_result"
    }
   ],
   "source": [
    "train_df.head()"
   ]
  },
  {
   "cell_type": "code",
   "execution_count": null,
   "metadata": {
    "id": "95rxyyWb6fxh"
   },
   "outputs": [],
   "source": [
    "os.chdir(\"./PreSumm/corpus\")"
   ]
  },
  {
   "cell_type": "code",
   "execution_count": null,
   "metadata": {
    "id": "3me8f67e5eWW"
   },
   "outputs": [],
   "source": [
    "split_dict = {\"train\": train_df, \"val\": val_df, \"test\": test_df}\n",
    "for split, df in split_dict.items():\n",
    "  # dir_path = os.path.join(os.getcwd(), split)  \n",
    "  # os.chdir(dir_path)  # navigate to correct subdirectory (train, test, or val)\n",
    "  for i in df.index:\n",
    "    script = df[\"merged_corpus\"][i]\n",
    "    movie_name = df[\"movie\"][i]\n",
    "    with open(f\"{split}_{movie_name}.txt\", \"w\") as f:  # write script to text file\n",
    "      f.write(script)"
   ]
  },
  {
   "cell_type": "code",
   "execution_count": null,
   "metadata": {
    "colab": {
     "base_uri": "https://localhost:8080/"
    },
    "id": "3WB0SJtGdxUv",
    "outputId": "4b434133-4d49-4732-bc17-60890ae78385"
   },
   "outputs": [
    {
     "name": "stdout",
     "output_type": "stream",
     "text": [
      "env: CLASSPATH=./stanford-corenlp-4.3.1/stanford-corenlp-4.3.1.jar # Set the proper env\n"
     ]
    }
   ],
   "source": [
    "# %env CLASSPATH=./stanford-corenlp-4.3.1/stanford-corenlp-4.3.1.jar # Set the proper env"
   ]
  },
  {
   "cell_type": "markdown",
   "metadata": {
    "id": "SE6bb1xBlg5M"
   },
   "source": [
    "### Step 1.5: Format to Simpler Json Files"
   ]
  },
  {
   "cell_type": "code",
   "execution_count": null,
   "metadata": {
    "colab": {
     "base_uri": "https://localhost:8080/"
    },
    "id": "NZetupcLmLhu",
    "outputId": "14ed3bf2-7757-4656-f44f-1dd4f3e85238"
   },
   "outputs": [
    {
     "name": "stdout",
     "output_type": "stream",
     "text": [
      "../PreSumm/tokenized_corpus/train_Spider-Man Homecoming.txt.json\n",
      "../PreSumm/tokenized_corpus/train_Deadpool.txt.json\n",
      "../PreSumm/tokenized_corpus/train_Guardians of the Galaxy.txt.json\n",
      "../PreSumm/tokenized_corpus/train_Iron Man 3.txt.json\n",
      "../PreSumm/tokenized_corpus/train_Black Panther.txt.json\n",
      "../PreSumm/tokenized_corpus/train_The Dark Knight Rises.txt.json\n",
      "../PreSumm/tokenized_corpus/train_Black Widow.txt.json\n",
      "../PreSumm/tokenized_corpus/train_Captain America The Winter Soldier.txt.json\n",
      "../PreSumm/tokenized_corpus/train_Man of Steel.txt.json\n",
      "../PreSumm/tokenized_corpus/train_Iron Man.txt.json\n",
      "../PreSumm/tokenized_corpus/train_Logan.txt.json\n",
      "../PreSumm/tokenized_corpus/train_Thor.txt.json\n",
      "../PreSumm/tokenized_corpus/train_Captain America The First Avenger.txt.json\n",
      "../PreSumm/tokenized_corpus/train_Wonder Woman 1984.txt.json\n",
      "../PreSumm/tokenized_corpus/train_Deadpool 2.txt.json\n",
      "../PreSumm/tokenized_corpus/train_Batman v Superman Dawn of Justice.txt.json\n",
      "../PreSumm/tokenized_corpus/train_X-Men Apocalypse.txt.json\n",
      "../PreSumm/tokenized_corpus/train_Thor The Dark World.txt.json\n",
      "../PreSumm/tokenized_corpus/train_Suicide Squad.txt.json\n",
      "../PreSumm/tokenized_corpus/train_Justice League.txt.json\n",
      "../PreSumm/tokenized_corpus/train_Green Lantern.txt.json\n",
      "../PreSumm/tokenized_corpus/train_Superman Returns.txt.json\n",
      "../PreSumm/tokenized_corpus/train_Avengers Endgame.txt.json\n",
      "../PreSumm/tokenized_corpus/train_Birds of Prey.txt.json\n",
      "../PreSumm/tokenized_corpus/train_The Avengers.txt.json\n",
      "../PreSumm/tokenized_corpus/train_Iron Man 2.txt.json\n",
      "../PreSumm/tokenized_corpus/train_Doctor Strange.txt.json\n",
      "../PreSumm/tokenized_corpus/train_The Dark Knight.txt.json\n",
      "../PreSumm/tokenized_corpus/train_The Suicide Squad.txt.json\n",
      "../PreSumm/tokenized_corpus/val_The Incredible Hulk.txt.json\n",
      "../PreSumm/tokenized_corpus/val_Avengers Infinity War.txt.json\n",
      "../PreSumm/tokenized_corpus/val_Aquaman.txt.json\n",
      "../PreSumm/tokenized_corpus/val_Jonah Hex.txt.json\n",
      "../PreSumm/tokenized_corpus/val_Captain Marvel.txt.json\n",
      "../PreSumm/tokenized_corpus/val_Ant-Man and The Wasp.txt.json\n",
      "../PreSumm/tokenized_corpus/val_Spider-Man Far From Home.txt.json\n",
      "../PreSumm/tokenized_corpus/val_Guardians of the Galaxy Vol. 2.txt.json\n",
      "../PreSumm/tokenized_corpus/val_X-Men Dark Phoenix.txt.json\n",
      "../PreSumm/tokenized_corpus/val_Captain America Civil War.txt.json\n",
      "../PreSumm/tokenized_corpus/test_Thor Ragnarok.txt.json\n",
      "../PreSumm/tokenized_corpus/test_Joker.txt.json\n",
      "../PreSumm/tokenized_corpus/test_Shazam.txt.json\n",
      "../PreSumm/tokenized_corpus/test_Wonder Woman.txt.json\n",
      "../PreSumm/tokenized_corpus/test_Ant-Man.txt.json\n",
      "../PreSumm/tokenized_corpus/test_Avengers Age of Ultron.txt.json\n",
      "../PreSumm/tokenized_corpus/test_Batman Begins.txt.json\n",
      "../PreSumm/tokenized_corpus/test_X-Men Days of Future Past.txt.json\n",
      "../PreSumm/tokenized_corpus/test_Watchmen.txt.json\n",
      "../PreSumm/tokenized_corpus/test_Constantine.txt.json\n"
     ]
    }
   ],
   "source": [
    "# Need to update\n",
    "!python ../PreSumm/src/preprocess.py -mode format_to_lines -raw_path ../PreSumm/tokenized_corpus/ -save_path ../PreSumm/json_data/ -n_cpus 1 -use_bert_basic_tokenizer false"
   ]
  },
  {
   "cell_type": "markdown",
   "metadata": {
    "id": "UFvjpSVjmWzw"
   },
   "source": [
    "### Step 1.6: Format to PyTorch Files"
   ]
  },
  {
   "cell_type": "code",
   "execution_count": null,
   "metadata": {
    "colab": {
     "base_uri": "https://localhost:8080/"
    },
    "id": "OUJ0H9RGL25Q",
    "outputId": "b3a92fee-311a-4505-b9d2-c7a169070c38"
   },
   "outputs": [
    {
     "data": {
      "text/plain": [
       "['.train.0.json', '.valid.0.json', '.test.0.json']"
      ]
     },
     "execution_count": 8,
     "metadata": {},
     "output_type": "execute_result"
    }
   ],
   "source": [
    "os.listdir(\"../PreSumm/json_data\")"
   ]
  },
  {
   "cell_type": "code",
   "execution_count": null,
   "metadata": {
    "colab": {
     "base_uri": "https://localhost:8080/"
    },
    "id": "pyWYmbAtmfUU",
    "outputId": "551015e5-f55b-4a0f-8c73-0e577c2f5d29"
   },
   "outputs": [
    {
     "name": "stdout",
     "output_type": "stream",
     "text": [
      "[('train', '../PreSumm/json_data/.train.0.json', Namespace(dataset='', log_file='../PreSumm/logs/preprocess.log', lower=True, map_path='../../data/', max_src_nsents=100, max_src_ntokens_per_sent=200, max_tgt_ntokens=500, min_src_nsents=3, min_src_ntokens_per_sent=5, min_tgt_ntokens=5, mode='format_to_bert', n_cpus=1, pretrained_model='bert', raw_path='../PreSumm/json_data/', save_path='../PreSumm/bert_data/', select_mode='greedy', shard_size=2000, use_bert_basic_tokenizer=False), '../PreSumm/bert_data/.train.0.bert.pt'), ('train', '../PreSumm/json_data/.valid.0.json', Namespace(dataset='', log_file='../PreSumm/logs/preprocess.log', lower=True, map_path='../../data/', max_src_nsents=100, max_src_ntokens_per_sent=200, max_tgt_ntokens=500, min_src_nsents=3, min_src_ntokens_per_sent=5, min_tgt_ntokens=5, mode='format_to_bert', n_cpus=1, pretrained_model='bert', raw_path='../PreSumm/json_data/', save_path='../PreSumm/bert_data/', select_mode='greedy', shard_size=2000, use_bert_basic_tokenizer=False), '../PreSumm/bert_data/.valid.0.bert.pt'), ('train', '../PreSumm/json_data/.test.0.json', Namespace(dataset='', log_file='../PreSumm/logs/preprocess.log', lower=True, map_path='../../data/', max_src_nsents=100, max_src_ntokens_per_sent=200, max_tgt_ntokens=500, min_src_nsents=3, min_src_ntokens_per_sent=5, min_tgt_ntokens=5, mode='format_to_bert', n_cpus=1, pretrained_model='bert', raw_path='../PreSumm/json_data/', save_path='../PreSumm/bert_data/', select_mode='greedy', shard_size=2000, use_bert_basic_tokenizer=False), '../PreSumm/bert_data/.test.0.bert.pt')]\n",
      "[('valid', '../PreSumm/json_data/.train.0.json', Namespace(dataset='', log_file='../PreSumm/logs/preprocess.log', lower=True, map_path='../../data/', max_src_nsents=100, max_src_ntokens_per_sent=200, max_tgt_ntokens=500, min_src_nsents=3, min_src_ntokens_per_sent=5, min_tgt_ntokens=5, mode='format_to_bert', n_cpus=1, pretrained_model='bert', raw_path='../PreSumm/json_data/', save_path='../PreSumm/bert_data/', select_mode='greedy', shard_size=2000, use_bert_basic_tokenizer=False), '../PreSumm/bert_data/.train.0.bert.pt'), ('valid', '../PreSumm/json_data/.valid.0.json', Namespace(dataset='', log_file='../PreSumm/logs/preprocess.log', lower=True, map_path='../../data/', max_src_nsents=100, max_src_ntokens_per_sent=200, max_tgt_ntokens=500, min_src_nsents=3, min_src_ntokens_per_sent=5, min_tgt_ntokens=5, mode='format_to_bert', n_cpus=1, pretrained_model='bert', raw_path='../PreSumm/json_data/', save_path='../PreSumm/bert_data/', select_mode='greedy', shard_size=2000, use_bert_basic_tokenizer=False), '../PreSumm/bert_data/.valid.0.bert.pt'), ('valid', '../PreSumm/json_data/.test.0.json', Namespace(dataset='', log_file='../PreSumm/logs/preprocess.log', lower=True, map_path='../../data/', max_src_nsents=100, max_src_ntokens_per_sent=200, max_tgt_ntokens=500, min_src_nsents=3, min_src_ntokens_per_sent=5, min_tgt_ntokens=5, mode='format_to_bert', n_cpus=1, pretrained_model='bert', raw_path='../PreSumm/json_data/', save_path='../PreSumm/bert_data/', select_mode='greedy', shard_size=2000, use_bert_basic_tokenizer=False), '../PreSumm/bert_data/.test.0.bert.pt')]\n",
      "[('test', '../PreSumm/json_data/.train.0.json', Namespace(dataset='', log_file='../PreSumm/logs/preprocess.log', lower=True, map_path='../../data/', max_src_nsents=100, max_src_ntokens_per_sent=200, max_tgt_ntokens=500, min_src_nsents=3, min_src_ntokens_per_sent=5, min_tgt_ntokens=5, mode='format_to_bert', n_cpus=1, pretrained_model='bert', raw_path='../PreSumm/json_data/', save_path='../PreSumm/bert_data/', select_mode='greedy', shard_size=2000, use_bert_basic_tokenizer=False), '../PreSumm/bert_data/.train.0.bert.pt'), ('test', '../PreSumm/json_data/.valid.0.json', Namespace(dataset='', log_file='../PreSumm/logs/preprocess.log', lower=True, map_path='../../data/', max_src_nsents=100, max_src_ntokens_per_sent=200, max_tgt_ntokens=500, min_src_nsents=3, min_src_ntokens_per_sent=5, min_tgt_ntokens=5, mode='format_to_bert', n_cpus=1, pretrained_model='bert', raw_path='../PreSumm/json_data/', save_path='../PreSumm/bert_data/', select_mode='greedy', shard_size=2000, use_bert_basic_tokenizer=False), '../PreSumm/bert_data/.valid.0.bert.pt'), ('test', '../PreSumm/json_data/.test.0.json', Namespace(dataset='', log_file='../PreSumm/logs/preprocess.log', lower=True, map_path='../../data/', max_src_nsents=100, max_src_ntokens_per_sent=200, max_tgt_ntokens=500, min_src_nsents=3, min_src_ntokens_per_sent=5, min_tgt_ntokens=5, mode='format_to_bert', n_cpus=1, pretrained_model='bert', raw_path='../PreSumm/json_data/', save_path='../PreSumm/bert_data/', select_mode='greedy', shard_size=2000, use_bert_basic_tokenizer=False), '../PreSumm/bert_data/.test.0.bert.pt')]\n"
     ]
    }
   ],
   "source": [
    "# Need to update\n",
    "!python ../PreSumm/src/preprocess.py -mode format_to_bert -raw_path ../PreSumm/json_data/ -save_path ../PreSumm/bert_data/ -lower -n_cpus 1 -log_file ../PreSumm/logs/preprocess.log"
   ]
  },
  {
   "cell_type": "markdown",
   "metadata": {
    "id": "ejLYMMeqmJl0"
   },
   "source": [
    "### Misc cells I was afraid to delete"
   ]
  },
  {
   "cell_type": "code",
   "execution_count": null,
   "metadata": {
    "id": "xRsQO2MQRAH7"
   },
   "outputs": [],
   "source": [
    "!touch ../tokenized_corpus/tokenized_corpus.csv"
   ]
  },
  {
   "cell_type": "code",
   "execution_count": null,
   "metadata": {
    "colab": {
     "base_uri": "https://localhost:8080/"
    },
    "id": "FwkZD6LUNcUS",
    "outputId": "61aa1e22-3b7e-4011-c62e-37de07df7ff5"
   },
   "outputs": [
    {
     "name": "stdout",
     "output_type": "stream",
     "text": [
      "/bin/bash: ./cnn/stories/: Is a directory\n"
     ]
    }
   ],
   "source": [
    "!./cnn/stories/"
   ]
  },
  {
   "cell_type": "code",
   "execution_count": null,
   "metadata": {
    "colab": {
     "base_uri": "https://localhost:8080/"
    },
    "id": "57dlvUmAHuRg",
    "outputId": "d779478c-e295-4846-af68-340785de2a2a"
   },
   "outputs": [
    {
     "name": "stdout",
     "output_type": "stream",
     "text": [
      "cp: cannot stat '../../corpus_raw/Marvel/trailer_corpus/*.txt': No such file or directory\n"
     ]
    }
   ],
   "source": [
    "!cp ../../corpus_raw/Marvel/trailer_corpus/*.txt ../corpus/"
   ]
  },
  {
   "cell_type": "code",
   "execution_count": null,
   "metadata": {
    "colab": {
     "base_uri": "https://localhost:8080/"
    },
    "id": "NxbSIwrBWwsM",
    "outputId": "c20521ca-6cb9-4705-d48a-4525ec7a74f4"
   },
   "outputs": [
    {
     "name": "stdout",
     "output_type": "stream",
     "text": [
      "--2021-11-11 23:58:01--  https://drive.google.com/file/d/0BwmD_VLjROrfTHk4NFg2SndKcjQ/view?resourcekey=0-plDHB0-3Jgnal3MfHKQS1w\n",
      "Resolving drive.google.com (drive.google.com)... 142.251.31.102, 142.251.31.139, 142.251.31.101, ...\n",
      "Connecting to drive.google.com (drive.google.com)|142.251.31.102|:443... connected.\n",
      "HTTP request sent, awaiting response... 200 OK\n",
      "Length: unspecified [text/html]\n",
      "Saving to: ‘view?resourcekey=0-plDHB0-3Jgnal3MfHKQS1w’\n",
      "\n",
      "view?resourcekey=0-     [ <=>                ]  65.36K  --.-KB/s    in 0.08s   \n",
      "\n",
      "2021-11-11 23:58:01 (828 KB/s) - ‘view?resourcekey=0-plDHB0-3Jgnal3MfHKQS1w’ saved [66932]\n",
      "\n"
     ]
    }
   ],
   "source": [
    "!wget https://drive.google.com/file/d/0BwmD_VLjROrfTHk4NFg2SndKcjQ/view?resourcekey=0-plDHB0-3Jgnal3MfHKQS1w"
   ]
  },
  {
   "cell_type": "markdown",
   "metadata": {
    "id": "gfXo1whAmplp"
   },
   "source": [
    "## Step 2: Training Model"
   ]
  },
  {
   "cell_type": "code",
   "execution_count": null,
   "metadata": {
    "id": "vsVKdEjNnb5c"
   },
   "outputs": [],
   "source": [
    "!python ../PreSumm/src/train.py -task ext -mode train -bert_data_path ../PreSumm/bert_data/ -ext_dropout 0.1 -lr 2e-2 -visible_gpus 0 -report_every 10 -save_checkpoint_steps 500 -batch_size 5 -train_steps 5000 -accum_count 2 -log_file ../PreSumm/logs/distilbert_2 -use_interval true -warmup_steps 1 -max_pos 512 -other_bert distilbert\n"
   ]
  },
  {
   "cell_type": "code",
   "execution_count": null,
   "metadata": {
    "id": "B3a7lb2Rqfg4"
   },
   "outputs": [],
   "source": [
    "!touch ./results/step5000.candidate"
   ]
  },
  {
   "cell_type": "code",
   "execution_count": null,
   "metadata": {
    "id": "vf_fTEHpq2ek"
   },
   "outputs": [],
   "source": [
    "!touch ./results/step5000.gold"
   ]
  }
 ],
 "metadata": {
  "colab": {
   "collapsed_sections": [],
   "name": "Testing.ipynb",
   "provenance": []
  },
  "kernelspec": {
   "display_name": "Python 3 (ipykernel)",
   "language": "python",
   "name": "python3"
  },
  "language_info": {
   "codemirror_mode": {
    "name": "ipython",
    "version": 3
   },
   "file_extension": ".py",
   "mimetype": "text/x-python",
   "name": "python",
   "nbconvert_exporter": "python",
   "pygments_lexer": "ipython3",
   "version": "3.8.13"
  }
 },
 "nbformat": 4,
 "nbformat_minor": 1
}
