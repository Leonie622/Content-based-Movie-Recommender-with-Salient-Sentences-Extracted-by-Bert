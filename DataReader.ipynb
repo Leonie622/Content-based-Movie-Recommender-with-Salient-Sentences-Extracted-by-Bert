{
 "cells": [
  {
   "cell_type": "markdown",
   "id": "da660e22",
   "metadata": {
    "id": "da660e22"
   },
   "source": [
    "# Data & Data Reader \n",
    "In this submission we demonstrate the demensions of our data and provide a Data Reader that pre-processes the raw data into formats that are feasible for machine learning models. The submission comprises the following sections:<br><br>\n",
    "*[1. Data Overview](#1.-Data-Overview)*<br>\n",
    "&emsp;&emsp;*[1.1. Data Preprocess](#1.1.-Data-Preprocess)*<br>\n",
    "&emsp;&emsp;*[1.2. Export Data](#1.2.-Export-Data)*<br>\n",
    "*[2. Data Reader](#3.-Data-Reader)*<br>"
   ]
  },
  {
   "cell_type": "markdown",
   "id": "369099f7",
   "metadata": {
    "id": "369099f7"
   },
   "source": [
    "## 1. Data Overview\n",
    "In this section, we aill summarize and visualize the dimensions of our corpus."
   ]
  },
  {
   "cell_type": "code",
   "execution_count": null,
   "id": "deb43863",
   "metadata": {
    "colab": {
     "base_uri": "https://localhost:8080/"
    },
    "executionInfo": {
     "elapsed": 934,
     "status": "ok",
     "timestamp": 1637515119814,
     "user": {
      "displayName": "Sai Ramesh",
      "photoUrl": "https://lh3.googleusercontent.com/a/default-user=s64",
      "userId": "02184933753663871167"
     },
     "user_tz": 300
    },
    "id": "deb43863",
    "outputId": "a835cfb3-15dc-4519-ceb1-a097c522dbce"
   },
   "outputs": [
    {
     "name": "stdout",
     "output_type": "stream",
     "text": [
      "[nltk_data] Downloading package punkt to /root/nltk_data...\n",
      "[nltk_data]   Package punkt is already up-to-date!\n"
     ]
    }
   ],
   "source": [
    "import pandas as pd\n",
    "import numpy as np\n",
    "import re\n",
    "import os\n",
    "import nltk\n",
    "from operator import itemgetter\n",
    "from difflib import SequenceMatcher\n",
    "nltk.download('punkt')\n",
    "from nltk.tokenize import sent_tokenize, word_tokenize"
   ]
  },
  {
   "cell_type": "code",
   "execution_count": null,
   "id": "CUQzqdhzHAdC",
   "metadata": {
    "colab": {
     "base_uri": "https://localhost:8080/"
    },
    "executionInfo": {
     "elapsed": 1184,
     "status": "ok",
     "timestamp": 1637515123674,
     "user": {
      "displayName": "Sai Ramesh",
      "photoUrl": "https://lh3.googleusercontent.com/a/default-user=s64",
      "userId": "02184933753663871167"
     },
     "user_tz": 300
    },
    "id": "CUQzqdhzHAdC",
    "outputId": "edf09656-c02b-41aa-8b0b-e15ffb68b808"
   },
   "outputs": [
    {
     "name": "stdout",
     "output_type": "stream",
     "text": [
      "Mounted at /content/drive/\n"
     ]
    }
   ],
   "source": [
    "from google.colab import drive\n",
    "drive.mount('/content/drive/', force_remount=True)\n",
    "os.chdir('/content/drive/.shortcut-targets-by-id/1H3iXw_9Ag494kAPY43CMgachbSqG3PRn/CSE 842 Project/')"
   ]
  },
  {
   "cell_type": "markdown",
   "id": "7657a7c7",
   "metadata": {
    "id": "7657a7c7"
   },
   "source": [
    "## 1.1. Data Preprocess\n",
    "First, we need to preprocess the data to get more accurate Data Summary, including extracting sentences from the .srt files and removing invalid elements such as html tags, unicode sign, etc..."
   ]
  },
  {
   "cell_type": "code",
   "execution_count": null,
   "id": "j_uZH9yrTl6e",
   "metadata": {
    "id": "j_uZH9yrTl6e"
   },
   "outputs": [],
   "source": [
    "# from google.colab import drive\n",
    "# drive.mount('/content/drive/')\n",
    "# os.chdir('/content/drive/My Drive/CSE 842 Project')"
   ]
  },
  {
   "cell_type": "code",
   "execution_count": null,
   "id": "m4CiamFce_EW",
   "metadata": {
    "id": "m4CiamFce_EW"
   },
   "outputs": [],
   "source": [
    "def similar(a, b):\n",
    "    return SequenceMatcher(None, a, b).ratio()"
   ]
  },
  {
   "cell_type": "code",
   "execution_count": null,
   "id": "dXiw16ARPvs7",
   "metadata": {
    "id": "dXiw16ARPvs7"
   },
   "outputs": [],
   "source": [
    "min_leng = 20\n",
    "min_percent = 0.6\n",
    "movie_timestamps = {}  # global dictionary for storing script timestamps\n",
    "def add_timestamp(path):\n",
    "    # print(path)\n",
    "    movie_name = path.split(\"/\")[-1].split(\".\")[0]\n",
    "    subtitles = movie_timestamps[movie_name]\n",
    "    output_path = f\"{'/'.join(path.split('/')[:-2])}/trailer_time/{movie_name}.txt\"\n",
    "    \n",
    "\n",
    "    # # If a sentence has less than 20 letters, merge it to the previous sentence\n",
    "    # new_subtitles = []\n",
    "    # for i, c in enumerate(subtitles):\n",
    "    #     if len(''.join(l.lower() for l in c if l.isalpha())) < 10 and i > 0:\n",
    "    #         new_subtitles[-1] += \"\".join(c.split(\" \")[1:])\n",
    "    #     else:\n",
    "    #         new_subtitles.append(c)\n",
    "    # # subtitles = new_subtitles\n",
    "\n",
    "    times = [row.split(\" \")[0] for row in subtitles]\n",
    "    subtitles = [\"\".join(row.split(\" \")[1:]) for row in subtitles]\n",
    "    time_sentence = pd.DataFrame(zip(times, subtitles), columns=[\"Time\", \"Sentence\"])\n",
    "    time_sentence.Sentence = time_sentence.Sentence.apply(lambda row:re.sub(\"\\W+\",\"\",row).lower())\n",
    "\n",
    "    mapper = {}\n",
    "    with open(path, encoding=\"utf8\") as trailer_file:\n",
    "        trailer_content = trailer_file.read()\n",
    "        old_content = trailer_content.split(\"\\n\")\n",
    "        trailer_content = re.sub(\"\\[.+?\\]\",\"\",trailer_content).lower().split(\"\\n\")\n",
    "        trailer_content = [re.sub(\"\\W+\",\"\", c) for c in trailer_content]\n",
    "        remaining_index = [i for i,c in enumerate(trailer_content) if c]\n",
    "        mapper = {trailer_content[i]:old_content[i] for i in remaining_index}\n",
    "        trailer_content = [c for c in trailer_content if c]\n",
    "        \n",
    "\n",
    "        # # If a sentence has less than 20 letters, merge it to the previous sentence\n",
    "        # new_trailer_content = []\n",
    "        # for i,c in enumerate(trailer_content):\n",
    "        #     if len(''.join(l.lower() for l in c if l.isalpha())) < 10 and i > 0:\n",
    "        #         new_trailer_content[-1] += c\n",
    "        #     else:\n",
    "        #         new_trailer_content.append(c)\n",
    "        # # trailer_content = new_trailer_content\n",
    "        \n",
    "    trailer_sentence = pd.DataFrame()\n",
    "    trailer_sentence[\"Sentence\"] = trailer_content\n",
    "\n",
    "    def find_matching_timeslots(row):\n",
    "        result = []\n",
    "        percents = []\n",
    "        for index, r in time_sentence.iterrows():\n",
    "            s = r[\"Sentence\"]\n",
    "            if len(row) < 10:\n",
    "                continue\n",
    "            # length, i, j = LCS(row, s)\n",
    "            # print(row, s, length)\n",
    "            percent = 0\n",
    "            if len(s) > 0 and len(row) > 0:\n",
    "                # percent = length/len(s)/2 + length/len(row)/2\n",
    "                percent = similar(s, row)\n",
    "                percents += [percent]\n",
    "            if  percent >= min_percent:\n",
    "                result.append(r[\"Time\"])\n",
    "        # print(sorted(percents, reverse=True))\n",
    "        if not result:\n",
    "            return np.nan\n",
    "        return result\n",
    "\n",
    "    trailer_sentence[\"Matched Times\"] = trailer_sentence.Sentence.apply(lambda row:find_matching_timeslots(row))\n",
    "    trailer_sentence = trailer_sentence.dropna()\n",
    "    # display(trailer_sentence)\n",
    "    print(output_path, \"...Done\")\n",
    "    output = \"\"\n",
    "    for index, r in trailer_sentence.iterrows():\n",
    "\n",
    "        string = f\"{r['Matched Times'][0]} {mapper[r['Sentence']]}\\n\"\n",
    "        output += string\n",
    "        # print(string)\n",
    "    with open(output_path, \"w\") as file:\n",
    "        file.write(output)\n",
    "\n",
    "    trailer_with_timestamps = output.splitlines()\n",
    "    return trailer_with_timestamps\n",
    "    \n",
    "    "
   ]
  },
  {
   "cell_type": "code",
   "execution_count": null,
   "id": "RMF1OydacAEt",
   "metadata": {
    "id": "RMF1OydacAEt"
   },
   "outputs": [],
   "source": [
    "from pathlib import Path"
   ]
  },
  {
   "cell_type": "code",
   "execution_count": null,
   "id": "5a51daee",
   "metadata": {
    "colab": {
     "base_uri": "https://localhost:8080/",
     "height": 1000
    },
    "executionInfo": {
     "elapsed": 381819,
     "status": "ok",
     "timestamp": 1637518858151,
     "user": {
      "displayName": "Sai Ramesh",
      "photoUrl": "https://lh3.googleusercontent.com/a/default-user=s64",
      "userId": "02184933753663871167"
     },
     "user_tz": 300
    },
    "id": "5a51daee",
    "outputId": "7b113fb9-4c1a-4706-80c2-ccac0b13b046",
    "scrolled": false
   },
   "outputs": [
    {
     "name": "stdout",
     "output_type": "stream",
     "text": [
      "Movie Dir 30\n",
      "Avengers Infinity War\n",
      "Ant-Man and The Wasp\n",
      "Ant-Man\n",
      "Avengers Age of Ultron\n",
      "Avengers Endgame\n",
      "Black Panther\n",
      "Captain America Civil War\n",
      "Captain Marvel\n",
      "Iron Man 3\n",
      "Iron Man\n",
      "Deadpool 2\n",
      "Captain America The First Avenger\n",
      "Guardians of the Galaxy Vol. 2\n",
      "Iron Man 2\n",
      "Deadpool\n",
      "Spider-Man Homecoming\n",
      "Guardians of the Galaxy\n",
      "The Avengers\n",
      "Spider-Man Far From Home\n",
      "Black Widow\n",
      "Logan\n",
      "The Incredible Hulk\n",
      "Doctor Strange\n",
      "Captain America The Winter Soldier\n",
      "X-Men Apocalypse\n",
      "Thor\n",
      "Thor The Dark World\n",
      "Thor Ragnarok\n",
      "X-Men Dark Phoenix\n",
      "X-Men Days of Future Past\n",
      "Trailer Dir 30\n",
      "Avengers Infinity War\n",
      "Ant-Man and The Wasp\n",
      "Ant-Man\n",
      "Avengers Age of Ultron\n",
      "Avengers Endgame\n",
      "Black Panther\n",
      "Captain America Civil War\n",
      "Captain Marvel\n",
      "Iron Man 3\n",
      "Iron Man\n",
      "Deadpool 2\n",
      "Captain America The First Avenger\n",
      "Guardians of the Galaxy Vol\n",
      "Iron Man 2\n",
      "Deadpool\n",
      "Spider-Man Homecoming\n",
      "Guardians of the Galaxy\n",
      "The Avengers\n",
      "Spider-Man Far From Home\n",
      "Black Widow\n",
      "Logan\n",
      "The Incredible Hulk\n",
      "Doctor Strange\n",
      "Captain America The Winter Soldier\n",
      "X-Men Apocalypse\n",
      "Thor\n",
      "Thor The Dark World\n",
      "Thor Ragnarok\n",
      "X-Men Dark Phoenix\n",
      "X-Men Days of Future Past\n",
      "./corpus_raw/Marvel/trailer_time/Ant-Man.txt ...Done\n",
      "./corpus_raw/Marvel/trailer_time/Ant-Man and The Wasp.txt ...Done\n",
      "./corpus_raw/Marvel/trailer_time/Guardians of the Galaxy Vol.txt ...Done\n",
      "./corpus_raw/Marvel/trailer_time/Avengers Age of Ultron.txt ...Done\n",
      "./corpus_raw/Marvel/trailer_time/Guardians of the Galaxy.txt ...Done\n",
      "./corpus_raw/Marvel/trailer_time/Black Widow.txt ...Done\n",
      "./corpus_raw/Marvel/trailer_time/Doctor Strange.txt ...Done\n",
      "./corpus_raw/Marvel/trailer_time/Deadpool.txt ...Done\n",
      "./corpus_raw/Marvel/trailer_time/Avengers Infinity War.txt ...Done\n",
      "./corpus_raw/Marvel/trailer_time/Captain America Civil War.txt ...Done\n",
      "./corpus_raw/Marvel/trailer_time/Black Panther.txt ...Done\n",
      "./corpus_raw/Marvel/trailer_time/Avengers Endgame.txt ...Done\n",
      "./corpus_raw/Marvel/trailer_time/Deadpool 2.txt ...Done\n",
      "./corpus_raw/Marvel/trailer_time/Captain Marvel.txt ...Done\n",
      "./corpus_raw/Marvel/trailer_time/Captain America The Winter Soldier.txt ...Done\n",
      "./corpus_raw/Marvel/trailer_time/Iron Man 2.txt ...Done\n",
      "./corpus_raw/Marvel/trailer_time/Thor The Dark World.txt ...Done\n",
      "./corpus_raw/Marvel/trailer_time/Thor.txt ...Done\n",
      "./corpus_raw/Marvel/trailer_time/Spider-Man Homecoming.txt ...Done\n",
      "./corpus_raw/Marvel/trailer_time/X-Men Days of Future Past.txt ...Done\n",
      "./corpus_raw/Marvel/trailer_time/Iron Man 3.txt ...Done\n",
      "./corpus_raw/Marvel/trailer_time/Thor Ragnarok.txt ...Done\n",
      "./corpus_raw/Marvel/trailer_time/The Avengers.txt ...Done\n",
      "./corpus_raw/Marvel/trailer_time/Logan.txt ...Done\n",
      "./corpus_raw/Marvel/trailer_time/X-Men Apocalypse.txt ...Done\n",
      "./corpus_raw/Marvel/trailer_time/Spider-Man Far From Home.txt ...Done\n",
      "./corpus_raw/Marvel/trailer_time/The Incredible Hulk.txt ...Done\n",
      "./corpus_raw/Marvel/trailer_time/Iron Man.txt ...Done\n",
      "./corpus_raw/Marvel/trailer_time/X-Men Dark Phoenix.txt ...Done\n",
      "./corpus_raw/Marvel/trailer_time/Captain America The First Avenger.txt ...Done\n",
      "Movie Dir 19\n",
      "Constantine\n",
      "Superman Returns\n",
      "Green Lantern\n",
      "Jonah Hex\n",
      "Joker\n",
      "Aquaman\n",
      "Batman v Superman Dawn of Justice\n",
      "Suicide Squad\n",
      "Justice League\n",
      "Shazam\n",
      "Man of Steel\n",
      "Birds of Prey\n",
      "Batman Begins\n",
      "The Suicide Squad\n",
      "The Dark Knight\n",
      "Watchmen\n",
      "The Dark Knight Rises\n",
      "Wonder Woman 1984\n",
      "Wonder Woman\n",
      "Trailer Dir 19\n",
      "Constantine\n",
      "Superman Returns\n",
      "Green Lantern\n",
      "Jonah Hex\n",
      "Joker\n",
      "Aquaman\n",
      "Batman v Superman Dawn of Justice\n",
      "Suicide Squad\n",
      "Justice League\n",
      "Shazam\n",
      "Man of Steel\n",
      "Birds of Prey\n",
      "Batman Begins\n",
      "The Suicide Squad\n",
      "The Dark Knight\n",
      "Watchmen\n",
      "The Dark Knight Rises\n",
      "Wonder Woman 1984\n",
      "Wonder Woman\n",
      "./corpus_raw/DC/trailer_time/Batman Begins.txt ...Done\n",
      "./corpus_raw/DC/trailer_time/The Dark Knight Rises.txt ...Done\n",
      "./corpus_raw/DC/trailer_time/The Suicide Squad.txt ...Done\n",
      "./corpus_raw/DC/trailer_time/Man of Steel.txt ...Done\n",
      "./corpus_raw/DC/trailer_time/Shazam.txt ...Done\n",
      "./corpus_raw/DC/trailer_time/The Dark Knight.txt ...Done\n",
      "./corpus_raw/DC/trailer_time/Aquaman.txt ...Done\n",
      "./corpus_raw/DC/trailer_time/Birds of Prey.txt ...Done\n",
      "./corpus_raw/DC/trailer_time/Batman v Superman Dawn of Justice.txt ...Done\n",
      "./corpus_raw/DC/trailer_time/Constantine.txt ...Done\n",
      "./corpus_raw/DC/trailer_time/Watchmen.txt ...Done\n",
      "./corpus_raw/DC/trailer_time/Wonder Woman.txt ...Done\n",
      "./corpus_raw/DC/trailer_time/Justice League.txt ...Done\n",
      "./corpus_raw/DC/trailer_time/Green Lantern.txt ...Done\n",
      "./corpus_raw/DC/trailer_time/Suicide Squad.txt ...Done\n",
      "./corpus_raw/DC/trailer_time/Jonah Hex.txt ...Done\n",
      "./corpus_raw/DC/trailer_time/Joker.txt ...Done\n",
      "./corpus_raw/DC/trailer_time/Superman Returns.txt ...Done\n",
      "./corpus_raw/DC/trailer_time/Wonder Woman 1984.txt ...Done\n"
     ]
    },
    {
     "data": {
      "text/html": [
       "<div>\n",
       "<style scoped>\n",
       "    .dataframe tbody tr th:only-of-type {\n",
       "        vertical-align: middle;\n",
       "    }\n",
       "\n",
       "    .dataframe tbody tr th {\n",
       "        vertical-align: top;\n",
       "    }\n",
       "\n",
       "    .dataframe thead th {\n",
       "        text-align: right;\n",
       "    }\n",
       "</style>\n",
       "<table border=\"1\" class=\"dataframe\">\n",
       "  <thead>\n",
       "    <tr style=\"text-align: right;\">\n",
       "      <th></th>\n",
       "      <th>label</th>\n",
       "      <th>movie</th>\n",
       "      <th>corpus_movie</th>\n",
       "      <th>corpus_trailer</th>\n",
       "    </tr>\n",
       "  </thead>\n",
       "  <tbody>\n",
       "    <tr>\n",
       "      <th>0</th>\n",
       "      <td>Marvel</td>\n",
       "      <td>Avengers Infinity War</td>\n",
       "      <td>[0 This is the Asgardian, 2 refugee vessel Sta...</td>\n",
       "      <td>[777 There was an idea., 1179 To bring togethe...</td>\n",
       "    </tr>\n",
       "    <tr>\n",
       "      <th>1</th>\n",
       "      <td>Marvel</td>\n",
       "      <td>Ant-Man and The Wasp</td>\n",
       "      <td>[0 I still think about the night, 2 your mothe...</td>\n",
       "      <td>[4095 So, how long have you been Ant-Man again...</td>\n",
       "    </tr>\n",
       "    <tr>\n",
       "      <th>2</th>\n",
       "      <td>Marvel</td>\n",
       "      <td>Ant-Man</td>\n",
       "      <td>[0 Stark!, 2 He doesn't seem happy., 3 Hello, ...</td>\n",
       "      <td>[649 imagine a soldier the size of an insect, ...</td>\n",
       "    </tr>\n",
       "    <tr>\n",
       "      <th>3</th>\n",
       "      <td>Marvel</td>\n",
       "      <td>Avengers Age of Ultron</td>\n",
       "      <td>[0 Report to your stations immediately., 2 Thi...</td>\n",
       "      <td>[2192 Everyone screaming..., 1888 You want to ...</td>\n",
       "    </tr>\n",
       "    <tr>\n",
       "      <th>4</th>\n",
       "      <td>Marvel</td>\n",
       "      <td>Avengers Endgame</td>\n",
       "      <td>[0 Okay, hold on, don't shoot., 4 - You see wh...</td>\n",
       "      <td>[2553 TONY STARK: It seems like a thousand, 90...</td>\n",
       "    </tr>\n",
       "  </tbody>\n",
       "</table>\n",
       "</div>"
      ],
      "text/plain": [
       "    label  ...                                     corpus_trailer\n",
       "0  Marvel  ...  [777 There was an idea., 1179 To bring togethe...\n",
       "1  Marvel  ...  [4095 So, how long have you been Ant-Man again...\n",
       "2  Marvel  ...  [649 imagine a soldier the size of an insect, ...\n",
       "3  Marvel  ...  [2192 Everyone screaming..., 1888 You want to ...\n",
       "4  Marvel  ...  [2553 TONY STARK: It seems like a thousand, 90...\n",
       "\n",
       "[5 rows x 4 columns]"
      ]
     },
     "metadata": {},
     "output_type": "display_data"
    },
    {
     "data": {
      "text/html": [
       "<div>\n",
       "<style scoped>\n",
       "    .dataframe tbody tr th:only-of-type {\n",
       "        vertical-align: middle;\n",
       "    }\n",
       "\n",
       "    .dataframe tbody tr th {\n",
       "        vertical-align: top;\n",
       "    }\n",
       "\n",
       "    .dataframe thead th {\n",
       "        text-align: right;\n",
       "    }\n",
       "</style>\n",
       "<table border=\"1\" class=\"dataframe\">\n",
       "  <thead>\n",
       "    <tr style=\"text-align: right;\">\n",
       "      <th></th>\n",
       "      <th>label</th>\n",
       "      <th>movie</th>\n",
       "      <th>corpus_movie</th>\n",
       "      <th>corpus_trailer</th>\n",
       "    </tr>\n",
       "  </thead>\n",
       "  <tbody>\n",
       "    <tr>\n",
       "      <th>44</th>\n",
       "      <td>DC</td>\n",
       "      <td>The Dark Knight</td>\n",
       "      <td>[0 , 17 Three of a kind, let's do this. That's...</td>\n",
       "      <td>[5257 Where do we begin., 1346 A year ago, the...</td>\n",
       "    </tr>\n",
       "    <tr>\n",
       "      <th>45</th>\n",
       "      <td>DC</td>\n",
       "      <td>Watchmen</td>\n",
       "      <td>[0 HAVE A GOOD TIME, 13 Wrong, as usual., 15 T...</td>\n",
       "      <td>[1865 delightful you know why you're here, 619...</td>\n",
       "    </tr>\n",
       "    <tr>\n",
       "      <th>46</th>\n",
       "      <td>DC</td>\n",
       "      <td>The Dark Knight Rises</td>\n",
       "      <td>[0 I knew Harvey Dent., 4 I was his friend., 8...</td>\n",
       "      <td>[5203 (O, say can you see, By the dawn's early...</td>\n",
       "    </tr>\n",
       "    <tr>\n",
       "      <th>47</th>\n",
       "      <td>DC</td>\n",
       "      <td>Wonder Woman 1984</td>\n",
       "      <td>[0  Some days, my childhood feels so very far ...</td>\n",
       "      <td>[1578 my life hasn't been what you probably, 1...</td>\n",
       "    </tr>\n",
       "    <tr>\n",
       "      <th>48</th>\n",
       "      <td>DC</td>\n",
       "      <td>Wonder Woman</td>\n",
       "      <td>[0 I used to want to save the world., 4 This b...</td>\n",
       "      <td>[522 The gods gave us many gifts., 525 One day...</td>\n",
       "    </tr>\n",
       "  </tbody>\n",
       "</table>\n",
       "</div>"
      ],
      "text/plain": [
       "   label  ...                                     corpus_trailer\n",
       "44    DC  ...  [5257 Where do we begin., 1346 A year ago, the...\n",
       "45    DC  ...  [1865 delightful you know why you're here, 619...\n",
       "46    DC  ...  [5203 (O, say can you see, By the dawn's early...\n",
       "47    DC  ...  [1578 my life hasn't been what you probably, 1...\n",
       "48    DC  ...  [522 The gods gave us many gifts., 525 One day...\n",
       "\n",
       "[5 rows x 4 columns]"
      ]
     },
     "metadata": {},
     "output_type": "display_data"
    },
    {
     "data": {
      "text/plain": [
       "(49, 4)"
      ]
     },
     "metadata": {},
     "output_type": "display_data"
    }
   ],
   "source": [
    "def data_preprocess():\n",
    "    corpus_raw_dir = \"./corpus_raw/\"\n",
    "    movie_df = pd.DataFrame()\n",
    "    for label in os.listdir(corpus_raw_dir):\n",
    "        # Allocate the movie & trailer subtitle folders\n",
    "        movie_dir = f\"{corpus_raw_dir}{label}/movie_corpus/\"\n",
    "        trailer_dir = f\"{corpus_raw_dir}{label}/trailer_corpus/\"\n",
    "        print(f\"Movie Dir {len(os.listdir(movie_dir))}\")\n",
    "        for file in os.listdir(movie_dir):\n",
    "          print(Path(file).stem)\n",
    "        print(f\"Trailer Dir {len(os.listdir(trailer_dir))}\")\n",
    "        # Fetch data\n",
    "        cur_movie_df = pd.DataFrame()\n",
    "        cur_movie_df[\"label\"] = [label] * len(os.listdir(movie_dir))\n",
    "        cur_movie_df[\"movie\"] = [re.sub(\"\\.srt|\\.txt\", \"\", filename) for filename in os.listdir(movie_dir)]\n",
    "        cur_movie_df[\"corpus_movie\"] = [sentence_parition(f\"{movie_dir}{filename}\") for filename in os.listdir(movie_dir)]\n",
    "        cur_trailer_df = pd.DataFrame()\n",
    "        cur_trailer_df[\"movie\"] = [re.sub(\"\\.srt|\\.txt\", \"\", filename) for filename in os.listdir(trailer_dir)]\n",
    "        cur_trailer_df[\"corpus_trailer\"] = [sentence_parition(f\"{trailer_dir}{filename}\", min_sent_length=4) for filename in os.listdir(trailer_dir)]\n",
    "\n",
    "        combined_df = cur_movie_df.merge(cur_trailer_df, how='inner', on='movie')\n",
    "        # cur_movie_df[\"num_sentence_movie\"] = cur_movie_df[\"corpus_movie\"].apply(lambda row: len(row))\n",
    "        # cur_movie_df[\"num_sentence_trailer\"] = cur_movie_df[\"corpus_trailer\"].apply(lambda row: len(row) if row else 0)\n",
    "        # cur_movie_df[\"num_words_movie\"] = cur_movie_df[\"corpus_movie\"].apply(lambda row: len(' '.join(row).split()))\n",
    "        # cur_movie_df[\"num_words_trailer\"] = cur_movie_df[\"corpus_trailer\"].apply(lambda row: len(' '.join(row).split()))\n",
    "        # cur_movie_df[\"num_letters_movie\"] = cur_movie_df[\"corpus_movie\"].apply(lambda row: len(' '.join(row)))\n",
    "        # cur_movie_df[\"num_letters_trailer\"] = cur_movie_df[\"corpus_trailer\"].apply(lambda row: len(' '.join(row)))\n",
    "        movie_df = pd.concat([movie_df, combined_df]).reset_index(drop=True)\n",
    "        # Display overview\n",
    "        # print(f\"{label}:\")\n",
    "        # print(f\"    {'Movie subtitle file count:':<40} {len(os.listdir(movie_dir))}\")\n",
    "        # print(f\"    {'Trailer subtitle file count:':<40} {len(os.listdir(trailer_dir))}\")\n",
    "        # print(f\"    {'Total movie sentences:':<40} {cur_movie_df['num_sentence_movie'].sum()}\")\n",
    "        # print(f\"    {'Total trailer sentences:':<40} {cur_movie_df['num_sentence_trailer'].sum()}\")\n",
    "        # print(f\"    {'Total movie words:':<40} {cur_movie_df['num_words_movie'].sum()}\")\n",
    "        # print(f\"    {'Total trailer words:':<40} {cur_movie_df['num_words_trailer'].sum()}\")\n",
    "        # print(f\"    {'Total movie letters:':<40} {cur_movie_df['num_letters_movie'].sum()}\")\n",
    "        # print(f\"    {'Total trailer letters:':<40} {cur_movie_df['num_letters_trailer'].sum()}\")\n",
    "        \n",
    "    display(movie_df.head())\n",
    "    display(movie_df.tail(), movie_df.shape)\n",
    "    return movie_df\n",
    "\n",
    "\n",
    "def sentence_parition(filepath, min_sent_length=None):\n",
    "    with open(filepath, encoding=\"latin\") as file:\n",
    "        context = file.read()\n",
    "    if filepath[-4:] == \".srt\":\n",
    "        pattern = \"\\n(\\d+[\\d:,]+) --> (.*?)\\n(.*?)\\n\\n\"\n",
    "    else:\n",
    "        pattern = \"(.*?)\\n\"\n",
    "    context = re.sub(\"\\[.*?\\]|\\(.*?\\)|.*?: |\\<.*?\\>\", \"\", context) # Remove all subtitle tags (if any)\n",
    "    sentences = re.findall(pattern, context, re.S)\n",
    "    if filepath[-4:] == \".srt\":  # movie script files\n",
    "        start = pd.to_datetime(sentences[0][0].split(\",\")[0])\n",
    "        for i, sentence in enumerate(sentences):\n",
    "            begin, end, s = sentence\n",
    "            begin = pd.to_datetime(begin.split(\",\")[0])\n",
    "            sec = (begin - start).seconds\n",
    "            sentences[i] = f\"{sec} {s}\"\n",
    "\n",
    "        sentences = [sentence.replace(\"\\n\", \" \") for sentence in sentences] # There should be no newlines in a sentence\n",
    "        sentences = [sentence for sentence in sentences if sentence] # Drop nan\n",
    "        if min_sent_length:  # if user species minimum sentence length, apply it\n",
    "            sentences = [sentence for sentence in sentences if len(word_tokenize(sentence)) > min_sent_length]\n",
    "        \n",
    "        movie_name = filepath.split(\"/\")[-1].split(\".\")[0]\n",
    "        print(movie_name)\n",
    "        movie_timestamps[movie_name] = sentences\n",
    "    else:  # trailer scripts\n",
    "        sentences = add_timestamp(filepath)  # adding timestamp to trailer\n",
    "    return sentences\n",
    "              \n",
    "dataframe = data_preprocess()"
   ]
  },
  {
   "cell_type": "markdown",
   "id": "0023439e",
   "metadata": {
    "id": "0023439e"
   },
   "source": [
    "## 1.2. Export Data\n",
    "Once we have cleaned up the data, we can store them into local files for future use."
   ]
  },
  {
   "cell_type": "code",
   "execution_count": null,
   "id": "645856a7",
   "metadata": {
    "id": "645856a7"
   },
   "outputs": [],
   "source": [
    "dataframe.to_csv(\"corpus_cleaned.csv\", index=False)"
   ]
  },
  {
   "cell_type": "markdown",
   "id": "95b5a892",
   "metadata": {
    "id": "95b5a892"
   },
   "source": [
    "## 2. Data Reader\n",
    "It is also neccessary to write a function to read the data we just cleaned. In this section, we write a data reader for future use. Since we still have not decide which model to use, we will not train the data in this submission."
   ]
  },
  {
   "cell_type": "code",
   "execution_count": null,
   "id": "d8a586fe",
   "metadata": {
    "colab": {
     "base_uri": "https://localhost:8080/",
     "height": 422
    },
    "executionInfo": {
     "elapsed": 246,
     "status": "ok",
     "timestamp": 1637518927767,
     "user": {
      "displayName": "Sai Ramesh",
      "photoUrl": "https://lh3.googleusercontent.com/a/default-user=s64",
      "userId": "02184933753663871167"
     },
     "user_tz": 300
    },
    "id": "d8a586fe",
    "outputId": "90ab7976-ad28-4286-b406-71897799ba8e"
   },
   "outputs": [
    {
     "data": {
      "text/html": [
       "<div>\n",
       "<style scoped>\n",
       "    .dataframe tbody tr th:only-of-type {\n",
       "        vertical-align: middle;\n",
       "    }\n",
       "\n",
       "    .dataframe tbody tr th {\n",
       "        vertical-align: top;\n",
       "    }\n",
       "\n",
       "    .dataframe thead th {\n",
       "        text-align: right;\n",
       "    }\n",
       "</style>\n",
       "<table border=\"1\" class=\"dataframe\">\n",
       "  <thead>\n",
       "    <tr style=\"text-align: right;\">\n",
       "      <th></th>\n",
       "      <th>label</th>\n",
       "      <th>movie</th>\n",
       "      <th>corpus_movie</th>\n",
       "      <th>corpus_trailer</th>\n",
       "    </tr>\n",
       "  </thead>\n",
       "  <tbody>\n",
       "    <tr>\n",
       "      <th>0</th>\n",
       "      <td>Marvel</td>\n",
       "      <td>Avengers Infinity War</td>\n",
       "      <td>['0 This is the Asgardian', '2 refugee vessel ...</td>\n",
       "      <td>['777 There was an idea.', '1179 To bring toge...</td>\n",
       "    </tr>\n",
       "    <tr>\n",
       "      <th>1</th>\n",
       "      <td>Marvel</td>\n",
       "      <td>Ant-Man and The Wasp</td>\n",
       "      <td>['0 I still think about the night', '2 your mo...</td>\n",
       "      <td>['4095 So, how long have you been Ant-Man agai...</td>\n",
       "    </tr>\n",
       "    <tr>\n",
       "      <th>2</th>\n",
       "      <td>Marvel</td>\n",
       "      <td>Ant-Man</td>\n",
       "      <td>['0 Stark!', \"2 He doesn't seem happy.\", '3 He...</td>\n",
       "      <td>['649 imagine a soldier the size of an insect'...</td>\n",
       "    </tr>\n",
       "    <tr>\n",
       "      <th>3</th>\n",
       "      <td>Marvel</td>\n",
       "      <td>Avengers Age of Ultron</td>\n",
       "      <td>['0 Report to your stations immediately.', '2 ...</td>\n",
       "      <td>['2192 Everyone screaming...', '1888 You want ...</td>\n",
       "    </tr>\n",
       "    <tr>\n",
       "      <th>4</th>\n",
       "      <td>Marvel</td>\n",
       "      <td>Avengers Endgame</td>\n",
       "      <td>[\"0 Okay, hold on, don't shoot.\", \"4 - You see...</td>\n",
       "      <td>['2553 TONY STARK: It seems like a thousand', ...</td>\n",
       "    </tr>\n",
       "  </tbody>\n",
       "</table>\n",
       "</div>"
      ],
      "text/plain": [
       "    label  ...                                     corpus_trailer\n",
       "0  Marvel  ...  ['777 There was an idea.', '1179 To bring toge...\n",
       "1  Marvel  ...  ['4095 So, how long have you been Ant-Man agai...\n",
       "2  Marvel  ...  ['649 imagine a soldier the size of an insect'...\n",
       "3  Marvel  ...  ['2192 Everyone screaming...', '1888 You want ...\n",
       "4  Marvel  ...  ['2553 TONY STARK: It seems like a thousand', ...\n",
       "\n",
       "[5 rows x 4 columns]"
      ]
     },
     "metadata": {},
     "output_type": "display_data"
    },
    {
     "data": {
      "text/html": [
       "<div>\n",
       "<style scoped>\n",
       "    .dataframe tbody tr th:only-of-type {\n",
       "        vertical-align: middle;\n",
       "    }\n",
       "\n",
       "    .dataframe tbody tr th {\n",
       "        vertical-align: top;\n",
       "    }\n",
       "\n",
       "    .dataframe thead th {\n",
       "        text-align: right;\n",
       "    }\n",
       "</style>\n",
       "<table border=\"1\" class=\"dataframe\">\n",
       "  <thead>\n",
       "    <tr style=\"text-align: right;\">\n",
       "      <th></th>\n",
       "      <th>label</th>\n",
       "      <th>movie</th>\n",
       "      <th>corpus_movie</th>\n",
       "      <th>corpus_trailer</th>\n",
       "    </tr>\n",
       "  </thead>\n",
       "  <tbody>\n",
       "    <tr>\n",
       "      <th>44</th>\n",
       "      <td>DC</td>\n",
       "      <td>The Dark Knight</td>\n",
       "      <td>['0 ', \"17 Three of a kind, let's do this. Tha...</td>\n",
       "      <td>['5257 Where do we begin.', \"1346 A year ago, ...</td>\n",
       "    </tr>\n",
       "    <tr>\n",
       "      <th>45</th>\n",
       "      <td>DC</td>\n",
       "      <td>Watchmen</td>\n",
       "      <td>['0 HAVE A GOOD TIME', '13 Wrong, as usual.', ...</td>\n",
       "      <td>[\"1865 delightful you know why you're here\", \"...</td>\n",
       "    </tr>\n",
       "    <tr>\n",
       "      <th>46</th>\n",
       "      <td>DC</td>\n",
       "      <td>The Dark Knight Rises</td>\n",
       "      <td>['0 I knew Harvey Dent.', '4 I was his friend....</td>\n",
       "      <td>[\"5203 (O, say can you see, By the dawn's earl...</td>\n",
       "    </tr>\n",
       "    <tr>\n",
       "      <th>47</th>\n",
       "      <td>DC</td>\n",
       "      <td>Wonder Woman 1984</td>\n",
       "      <td>['0  Some days, my childhood feels so very far...</td>\n",
       "      <td>[\"1578 my life hasn't been what you probably\",...</td>\n",
       "    </tr>\n",
       "    <tr>\n",
       "      <th>48</th>\n",
       "      <td>DC</td>\n",
       "      <td>Wonder Woman</td>\n",
       "      <td>['0 I used to want to save the world.', '4 Thi...</td>\n",
       "      <td>['522 The gods gave us many gifts.', \"525 One ...</td>\n",
       "    </tr>\n",
       "  </tbody>\n",
       "</table>\n",
       "</div>"
      ],
      "text/plain": [
       "   label  ...                                     corpus_trailer\n",
       "44    DC  ...  ['5257 Where do we begin.', \"1346 A year ago, ...\n",
       "45    DC  ...  [\"1865 delightful you know why you're here\", \"...\n",
       "46    DC  ...  [\"5203 (O, say can you see, By the dawn's earl...\n",
       "47    DC  ...  [\"1578 my life hasn't been what you probably\",...\n",
       "48    DC  ...  ['522 The gods gave us many gifts.', \"525 One ...\n",
       "\n",
       "[5 rows x 4 columns]"
      ]
     },
     "metadata": {},
     "output_type": "display_data"
    },
    {
     "data": {
      "text/plain": [
       "(49, 4)"
      ]
     },
     "metadata": {},
     "output_type": "display_data"
    },
    {
     "name": "stdout",
     "output_type": "stream",
     "text": [
      "Successfully loaded the corpus data!\n"
     ]
    }
   ],
   "source": [
    "def get_corpus(filepath):\n",
    "    movie_df = pd.read_csv(filepath)\n",
    "    display(movie_df.head())\n",
    "    display(movie_df.tail(), movie_df.shape)\n",
    "    return movie_df\n",
    "\n",
    "dataframe = get_corpus(\"./corpus_cleaned.csv\")\n",
    "print(\"Successfully loaded the corpus data!\")"
   ]
  },
  {
   "cell_type": "code",
   "execution_count": null,
   "id": "KXYoQAjTvE4U",
   "metadata": {
    "colab": {
     "base_uri": "https://localhost:8080/",
     "height": 69
    },
    "executionInfo": {
     "elapsed": 126,
     "status": "ok",
     "timestamp": 1637518980618,
     "user": {
      "displayName": "Sai Ramesh",
      "photoUrl": "https://lh3.googleusercontent.com/a/default-user=s64",
      "userId": "02184933753663871167"
     },
     "user_tz": 300
    },
    "id": "KXYoQAjTvE4U",
    "outputId": "8253add8-6ae2-4cb6-df2a-042e0b992e22"
   },
   "outputs": [
    {
     "data": {
      "application/vnd.google.colaboratory.intrinsic+json": {
       "type": "string"
      },
      "text/plain": [
       "'[\\'777 There was an idea.\\', \\'1179 To bring together...\\', \\'3586 To see if we could become...\\', \\'4100 Something more.\\', \"100 You will know what it\\'s like to lose.\", \"104 To feel so desperately that you\\'re right...\", \\'296 ...all the same.\\', \\'133 Destiny still arrives.\\', \\'5646 Evacuate the city.\\', \\'5646 Engage all defenses.\\', \\'5650 And get this man a shield.\\', \\'1204 Who the hell are you guys?\\']'"
      ]
     },
     "execution_count": 42,
     "metadata": {},
     "output_type": "execute_result"
    }
   ],
   "source": [
    "dataframe[\"corpus_trailer\"][0]"
   ]
  },
  {
   "cell_type": "code",
   "execution_count": null,
   "id": "7S2Zh3i9vGjb",
   "metadata": {
    "id": "7S2Zh3i9vGjb"
   },
   "outputs": [],
   "source": []
  }
 ],
 "metadata": {
  "colab": {
   "collapsed_sections": [],
   "name": "DataReader.ipynb",
   "provenance": []
  },
  "kernelspec": {
   "display_name": "Python 3 (ipykernel)",
   "language": "python",
   "name": "python3"
  },
  "language_info": {
   "codemirror_mode": {
    "name": "ipython",
    "version": 3
   },
   "file_extension": ".py",
   "mimetype": "text/x-python",
   "name": "python",
   "nbconvert_exporter": "python",
   "pygments_lexer": "ipython3",
   "version": "3.8.13"
  }
 },
 "nbformat": 4,
 "nbformat_minor": 5
}
